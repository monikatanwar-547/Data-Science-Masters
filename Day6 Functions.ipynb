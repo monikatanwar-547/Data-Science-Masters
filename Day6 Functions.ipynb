{
 "cells": [
  {
   "cell_type": "code",
   "execution_count": 1,
   "id": "90e0bf70-9153-49a6-b5df-9ca77690284f",
   "metadata": {},
   "outputs": [
    {
     "name": "stdout",
     "output_type": "stream",
     "text": [
      "this is my program\n"
     ]
    }
   ],
   "source": [
    "print(\"this is my program\")"
   ]
  },
  {
   "cell_type": "code",
   "execution_count": 2,
   "id": "c1a3e278-e129-46e8-bff4-946d3222358a",
   "metadata": {},
   "outputs": [
    {
     "data": {
      "text/plain": [
       "[1, 2, 3, 4, 5, 6]"
      ]
     },
     "execution_count": 2,
     "metadata": {},
     "output_type": "execute_result"
    }
   ],
   "source": [
    "l=[1,2,3,4,5,6]\n",
    "l"
   ]
  },
  {
   "cell_type": "code",
   "execution_count": 3,
   "id": "b7609d6f-2b06-434c-b56f-e85403ce4adf",
   "metadata": {},
   "outputs": [
    {
     "data": {
      "text/plain": [
       "6"
      ]
     },
     "execution_count": 3,
     "metadata": {},
     "output_type": "execute_result"
    }
   ],
   "source": [
    "len(l)"
   ]
  },
  {
   "cell_type": "code",
   "execution_count": 4,
   "id": "54aa04e6-b927-430d-b34e-3dea464ee0aa",
   "metadata": {},
   "outputs": [
    {
     "ename": "SyntaxError",
     "evalue": "incomplete input (2690612609.py, line 2)",
     "output_type": "error",
     "traceback": [
      "\u001b[0;36m  Cell \u001b[0;32mIn[4], line 2\u001b[0;36m\u001b[0m\n\u001b[0;31m    \u001b[0m\n\u001b[0m    ^\u001b[0m\n\u001b[0;31mSyntaxError\u001b[0m\u001b[0;31m:\u001b[0m incomplete input\n"
     ]
    }
   ],
   "source": [
    "def test():\n",
    "    "
   ]
  },
  {
   "cell_type": "code",
   "execution_count": 5,
   "id": "b207da89-0f28-4d88-8076-b315053b5a94",
   "metadata": {},
   "outputs": [],
   "source": [
    "def test():\n",
    "    pass"
   ]
  },
  {
   "cell_type": "code",
   "execution_count": 6,
   "id": "34a3b30f-2dbe-42cd-a9ba-cddcca554594",
   "metadata": {},
   "outputs": [],
   "source": [
    "test()"
   ]
  },
  {
   "cell_type": "code",
   "execution_count": 7,
   "id": "518d7cf9-8076-4e47-88b1-cf19c0dd17fd",
   "metadata": {},
   "outputs": [],
   "source": [
    "def test1():\n",
    "    print(\"This is my very very first function\")"
   ]
  },
  {
   "cell_type": "code",
   "execution_count": 8,
   "id": "687de41d-7d9f-4da1-97ba-08aa5ed925ae",
   "metadata": {},
   "outputs": [
    {
     "name": "stdout",
     "output_type": "stream",
     "text": [
      "This is my very very first function\n"
     ]
    }
   ],
   "source": [
    "test1()"
   ]
  },
  {
   "cell_type": "markdown",
   "id": "e65bb9b5-0dcf-4e6c-9624-8e9c98725ed4",
   "metadata": {
    "tags": []
   },
   "source": [
    "## Advantage of creating function is \"it's always try to increase the useability\" and \n",
    "##  will increase the odalirty inside the code"
   ]
  },
  {
   "cell_type": "code",
   "execution_count": 9,
   "id": "e8efe71a-87bf-425e-b78a-e1e1466b404a",
   "metadata": {},
   "outputs": [],
   "source": [
    "def test1():\n",
    "    print(\"This is my very very first function\")"
   ]
  },
  {
   "cell_type": "code",
   "execution_count": 10,
   "id": "c7bec9bc-4d6f-456b-8fe6-82cebacf3fa6",
   "metadata": {},
   "outputs": [
    {
     "name": "stdout",
     "output_type": "stream",
     "text": [
      "This is my very very first function\n"
     ]
    }
   ],
   "source": [
    "test1()"
   ]
  },
  {
   "cell_type": "code",
   "execution_count": 11,
   "id": "a77d65ad-f0cc-433f-be28-95a4bd5be947",
   "metadata": {},
   "outputs": [
    {
     "name": "stdout",
     "output_type": "stream",
     "text": [
      "This is my very very first function\n"
     ]
    },
    {
     "ename": "TypeError",
     "evalue": "unsupported operand type(s) for +: 'NoneType' and 'str'",
     "output_type": "error",
     "traceback": [
      "\u001b[0;31m---------------------------------------------------------------------------\u001b[0m",
      "\u001b[0;31mTypeError\u001b[0m                                 Traceback (most recent call last)",
      "Cell \u001b[0;32mIn[11], line 1\u001b[0m\n\u001b[0;32m----> 1\u001b[0m \u001b[43mtest1\u001b[49m\u001b[43m(\u001b[49m\u001b[43m)\u001b[49m\u001b[38;5;241;43m+\u001b[39;49m\u001b[38;5;124;43m\"\u001b[39;49m\u001b[38;5;124;43mmonika\u001b[39;49m\u001b[38;5;124;43m\"\u001b[39;49m\n",
      "\u001b[0;31mTypeError\u001b[0m: unsupported operand type(s) for +: 'NoneType' and 'str'"
     ]
    }
   ],
   "source": [
    "test1()+\"monika\""
   ]
  },
  {
   "cell_type": "code",
   "execution_count": null,
   "id": "0ec2f772-3a44-4f49-947d-5032e7c94d29",
   "metadata": {},
   "outputs": [],
   "source": [
    "def test2():\n",
    "    return\"This is my function with return\""
   ]
  },
  {
   "cell_type": "code",
   "execution_count": 12,
   "id": "4e7e6a04-ac17-4cea-a1df-effec654177d",
   "metadata": {},
   "outputs": [
    {
     "ename": "NameError",
     "evalue": "name 'test2' is not defined",
     "output_type": "error",
     "traceback": [
      "\u001b[0;31m---------------------------------------------------------------------------\u001b[0m",
      "\u001b[0;31mNameError\u001b[0m                                 Traceback (most recent call last)",
      "Cell \u001b[0;32mIn[12], line 1\u001b[0m\n\u001b[0;32m----> 1\u001b[0m \u001b[43mtest2\u001b[49m()\n",
      "\u001b[0;31mNameError\u001b[0m: name 'test2' is not defined"
     ]
    }
   ],
   "source": [
    "test2()"
   ]
  },
  {
   "cell_type": "code",
   "execution_count": 13,
   "id": "b54770bd-6658-48e8-abfb-c5067169a6d4",
   "metadata": {},
   "outputs": [
    {
     "ename": "NameError",
     "evalue": "name 'test2' is not defined",
     "output_type": "error",
     "traceback": [
      "\u001b[0;31m---------------------------------------------------------------------------\u001b[0m",
      "\u001b[0;31mNameError\u001b[0m                                 Traceback (most recent call last)",
      "Cell \u001b[0;32mIn[13], line 1\u001b[0m\n\u001b[0;32m----> 1\u001b[0m \u001b[43mtest2\u001b[49m() \u001b[38;5;241m+\u001b[39m \u001b[38;5;124m\"\u001b[39m\u001b[38;5;124m Monika\u001b[39m\u001b[38;5;124m\"\u001b[39m\n",
      "\u001b[0;31mNameError\u001b[0m: name 'test2' is not defined"
     ]
    }
   ],
   "source": [
    "test2() + \" Monika\""
   ]
  },
  {
   "cell_type": "code",
   "execution_count": 14,
   "id": "d0da3c15-45b0-4966-b4af-c2737210bb61",
   "metadata": {},
   "outputs": [],
   "source": [
    "def test3():\n",
    "    return 1,2,\"PWSkills\",34,45.5,True,1,34"
   ]
  },
  {
   "cell_type": "code",
   "execution_count": 15,
   "id": "054309d0-5318-4b30-abd5-4fb224ac7495",
   "metadata": {},
   "outputs": [
    {
     "data": {
      "text/plain": [
       "(1, 2, 'PWSkills', 34, 45.5, True, 1, 34)"
      ]
     },
     "execution_count": 15,
     "metadata": {},
     "output_type": "execute_result"
    }
   ],
   "source": [
    "test3()"
   ]
  },
  {
   "cell_type": "code",
   "execution_count": 16,
   "id": "c510371d-82ff-4a70-b8ad-5910ff5ad2bf",
   "metadata": {},
   "outputs": [
    {
     "data": {
      "text/plain": [
       "(1, 2, 3.5, True, 15)"
      ]
     },
     "execution_count": 16,
     "metadata": {},
     "output_type": "execute_result"
    }
   ],
   "source": [
    "a=1,2,3.5,True,15\n",
    "a"
   ]
  },
  {
   "cell_type": "code",
   "execution_count": 17,
   "id": "625a3ab5-2a3e-4542-ac28-0530a6b02dfc",
   "metadata": {},
   "outputs": [
    {
     "data": {
      "text/plain": [
       "15"
      ]
     },
     "execution_count": 17,
     "metadata": {},
     "output_type": "execute_result"
    }
   ],
   "source": [
    "a[4]"
   ]
  },
  {
   "cell_type": "code",
   "execution_count": 18,
   "id": "63289d7e-49b7-411c-9202-753a3253b8ea",
   "metadata": {},
   "outputs": [
    {
     "ename": "TypeError",
     "evalue": "'tuple' object does not support item assignment",
     "output_type": "error",
     "traceback": [
      "\u001b[0;31m---------------------------------------------------------------------------\u001b[0m",
      "\u001b[0;31mTypeError\u001b[0m                                 Traceback (most recent call last)",
      "Cell \u001b[0;32mIn[18], line 1\u001b[0m\n\u001b[0;32m----> 1\u001b[0m \u001b[43ma\u001b[49m\u001b[43m[\u001b[49m\u001b[38;5;241;43m4\u001b[39;49m\u001b[43m]\u001b[49m\u001b[38;5;241m=\u001b[39m\u001b[38;5;241m2\u001b[39m\n",
      "\u001b[0;31mTypeError\u001b[0m: 'tuple' object does not support item assignment"
     ]
    }
   ],
   "source": [
    "a[4]=2"
   ]
  },
  {
   "cell_type": "code",
   "execution_count": 19,
   "id": "02dce7df-c35f-4199-8821-a8fbf4b9dc92",
   "metadata": {},
   "outputs": [
    {
     "data": {
      "text/plain": [
       "tuple"
      ]
     },
     "execution_count": 19,
     "metadata": {},
     "output_type": "execute_result"
    }
   ],
   "source": [
    "type(a)"
   ]
  },
  {
   "cell_type": "code",
   "execution_count": 20,
   "id": "605c8665-e827-4378-b4b5-58076462e097",
   "metadata": {},
   "outputs": [],
   "source": [
    "a,b,c,d=1,2,2.3,5"
   ]
  },
  {
   "cell_type": "code",
   "execution_count": 21,
   "id": "94ddb13a-6a13-475c-9921-983dd09c3a4c",
   "metadata": {},
   "outputs": [
    {
     "data": {
      "text/plain": [
       "1"
      ]
     },
     "execution_count": 21,
     "metadata": {},
     "output_type": "execute_result"
    }
   ],
   "source": [
    "a"
   ]
  },
  {
   "cell_type": "code",
   "execution_count": 22,
   "id": "c8c98609-012d-4b8d-9fc9-78df84949523",
   "metadata": {},
   "outputs": [
    {
     "data": {
      "text/plain": [
       "(1, 2)"
      ]
     },
     "execution_count": 22,
     "metadata": {},
     "output_type": "execute_result"
    }
   ],
   "source": [
    "a,b"
   ]
  },
  {
   "cell_type": "code",
   "execution_count": 23,
   "id": "90da2aac-37cf-4e7c-b70f-6ba8da74e8f3",
   "metadata": {},
   "outputs": [
    {
     "data": {
      "text/plain": [
       "2.3"
      ]
     },
     "execution_count": 23,
     "metadata": {},
     "output_type": "execute_result"
    }
   ],
   "source": [
    "c"
   ]
  },
  {
   "cell_type": "code",
   "execution_count": 24,
   "id": "cacab54b-0f57-499e-bc5c-3f08bdd7cf95",
   "metadata": {},
   "outputs": [
    {
     "data": {
      "text/plain": [
       "(1, 2, 2.3, 5)"
      ]
     },
     "execution_count": 24,
     "metadata": {},
     "output_type": "execute_result"
    }
   ],
   "source": [
    "a,b,c,d"
   ]
  },
  {
   "cell_type": "code",
   "execution_count": 25,
   "id": "6e177377-f4c7-48d4-8e2b-3dd68e400972",
   "metadata": {},
   "outputs": [
    {
     "ename": "NameError",
     "evalue": "name 'test2' is not defined",
     "output_type": "error",
     "traceback": [
      "\u001b[0;31m---------------------------------------------------------------------------\u001b[0m",
      "\u001b[0;31mNameError\u001b[0m                                 Traceback (most recent call last)",
      "Cell \u001b[0;32mIn[25], line 1\u001b[0m\n\u001b[0;32m----> 1\u001b[0m \u001b[43mtest2\u001b[49m()\n",
      "\u001b[0;31mNameError\u001b[0m: name 'test2' is not defined"
     ]
    }
   ],
   "source": [
    "test2()"
   ]
  },
  {
   "cell_type": "code",
   "execution_count": 26,
   "id": "85a4ffbe-82cf-4e11-b6c5-5cdb072436e3",
   "metadata": {},
   "outputs": [
    {
     "data": {
      "text/plain": [
       "(1, 2, 'PWSkills', 34, 45.5, True, 1, 34)"
      ]
     },
     "execution_count": 26,
     "metadata": {},
     "output_type": "execute_result"
    }
   ],
   "source": [
    "test3()"
   ]
  },
  {
   "cell_type": "code",
   "execution_count": 27,
   "id": "d36ed7b5-e572-4483-b73e-6048d0efd4af",
   "metadata": {},
   "outputs": [
    {
     "data": {
      "text/plain": [
       "'PWSkills'"
      ]
     },
     "execution_count": 27,
     "metadata": {},
     "output_type": "execute_result"
    }
   ],
   "source": [
    "test3()[2]"
   ]
  },
  {
   "cell_type": "code",
   "execution_count": 28,
   "id": "8b21472d-6c7f-4678-94c8-4b49649d6ac8",
   "metadata": {},
   "outputs": [],
   "source": [
    "a,b,c,d,e,f,g,h=test3()"
   ]
  },
  {
   "cell_type": "code",
   "execution_count": 29,
   "id": "fc36f1fe-c700-4e7d-9183-101ae4fc64b6",
   "metadata": {},
   "outputs": [
    {
     "data": {
      "text/plain": [
       "1"
      ]
     },
     "execution_count": 29,
     "metadata": {},
     "output_type": "execute_result"
    }
   ],
   "source": [
    "a"
   ]
  },
  {
   "cell_type": "code",
   "execution_count": 30,
   "id": "def9b96d-5651-427f-8b62-757af07df487",
   "metadata": {},
   "outputs": [
    {
     "data": {
      "text/plain": [
       "2"
      ]
     },
     "execution_count": 30,
     "metadata": {},
     "output_type": "execute_result"
    }
   ],
   "source": [
    "b"
   ]
  },
  {
   "cell_type": "code",
   "execution_count": 31,
   "id": "862455ef-1151-4bea-a223-bb5f973bd58a",
   "metadata": {},
   "outputs": [
    {
     "data": {
      "text/plain": [
       "'PWSkills'"
      ]
     },
     "execution_count": 31,
     "metadata": {},
     "output_type": "execute_result"
    }
   ],
   "source": [
    "c"
   ]
  },
  {
   "cell_type": "code",
   "execution_count": 32,
   "id": "44d2aa4e-da44-4e69-b4f9-e6f36c529b3d",
   "metadata": {},
   "outputs": [
    {
     "data": {
      "text/plain": [
       "(1, 2, 'PWSkills', 34, 45.5, True, 1, 34)"
      ]
     },
     "execution_count": 32,
     "metadata": {},
     "output_type": "execute_result"
    }
   ],
   "source": [
    "a,b,c,d,e,f,g,h"
   ]
  },
  {
   "cell_type": "code",
   "execution_count": 33,
   "id": "f4bfc6ae-e4a8-4ef5-bcec-2fe4a6c2bd38",
   "metadata": {},
   "outputs": [],
   "source": [
    "def test4():\n",
    "    a=3*4+5\n",
    "    return a\n",
    "    "
   ]
  },
  {
   "cell_type": "code",
   "execution_count": 34,
   "id": "b5fe20ee-79e7-43d4-b19c-132ac43b07fe",
   "metadata": {},
   "outputs": [
    {
     "data": {
      "text/plain": [
       "17"
      ]
     },
     "execution_count": 34,
     "metadata": {},
     "output_type": "execute_result"
    }
   ],
   "source": [
    "test4()"
   ]
  },
  {
   "cell_type": "code",
   "execution_count": 35,
   "id": "7bf214f7-aa9f-400b-9415-071430908dcb",
   "metadata": {},
   "outputs": [
    {
     "data": {
      "text/plain": [
       "int"
      ]
     },
     "execution_count": 35,
     "metadata": {},
     "output_type": "execute_result"
    }
   ],
   "source": [
    "type(test4())"
   ]
  },
  {
   "cell_type": "code",
   "execution_count": 36,
   "id": "1e1645e8-3f98-4c05-8028-e86ee0ab51c6",
   "metadata": {},
   "outputs": [],
   "source": [
    "def test5(a,b):\n",
    "    c=a+b\n",
    "    return c"
   ]
  },
  {
   "cell_type": "code",
   "execution_count": 37,
   "id": "191f80b7-efa5-4703-a461-77edf9e8da14",
   "metadata": {},
   "outputs": [
    {
     "ename": "TypeError",
     "evalue": "test5() missing 2 required positional arguments: 'a' and 'b'",
     "output_type": "error",
     "traceback": [
      "\u001b[0;31m---------------------------------------------------------------------------\u001b[0m",
      "\u001b[0;31mTypeError\u001b[0m                                 Traceback (most recent call last)",
      "Cell \u001b[0;32mIn[37], line 1\u001b[0m\n\u001b[0;32m----> 1\u001b[0m \u001b[43mtest5\u001b[49m\u001b[43m(\u001b[49m\u001b[43m)\u001b[49m\n",
      "\u001b[0;31mTypeError\u001b[0m: test5() missing 2 required positional arguments: 'a' and 'b'"
     ]
    }
   ],
   "source": [
    "test5()"
   ]
  },
  {
   "cell_type": "code",
   "execution_count": 38,
   "id": "369d3cbc-4574-4c64-97b4-d27221f84e65",
   "metadata": {},
   "outputs": [
    {
     "data": {
      "text/plain": [
       "5"
      ]
     },
     "execution_count": 38,
     "metadata": {},
     "output_type": "execute_result"
    }
   ],
   "source": [
    "test5(1,4)"
   ]
  },
  {
   "cell_type": "code",
   "execution_count": 39,
   "id": "0d5ba2ed-fe50-49d7-9025-504574951853",
   "metadata": {},
   "outputs": [
    {
     "data": {
      "text/plain": [
       "'MonikaRadhika'"
      ]
     },
     "execution_count": 39,
     "metadata": {},
     "output_type": "execute_result"
    }
   ],
   "source": [
    "test5(\"Monika\", \"Radhika\")"
   ]
  },
  {
   "cell_type": "code",
   "execution_count": 40,
   "id": "4046674c-e65e-4757-aa5e-63aff94d8c16",
   "metadata": {},
   "outputs": [
    {
     "data": {
      "text/plain": [
       "[2, 5, 6, 'Monika', 6, 9]"
      ]
     },
     "execution_count": 40,
     "metadata": {},
     "output_type": "execute_result"
    }
   ],
   "source": [
    "test5([2,5,6],[\"Monika\",6,9])"
   ]
  },
  {
   "cell_type": "code",
   "execution_count": 41,
   "id": "f4b68cd3-e52e-4718-932e-8dccd12016aa",
   "metadata": {},
   "outputs": [
    {
     "data": {
      "text/plain": [
       "'MonikaRadhika'"
      ]
     },
     "execution_count": 41,
     "metadata": {},
     "output_type": "execute_result"
    }
   ],
   "source": [
    "test5(b=\"Radhika\",a=\"Monika\")"
   ]
  },
  {
   "cell_type": "code",
   "execution_count": 42,
   "id": "3fb03b43-6df6-47e1-820f-152d162bfd77",
   "metadata": {},
   "outputs": [],
   "source": [
    "def test5(a,b):\n",
    "    c=a+b\n",
    "    return b"
   ]
  },
  {
   "cell_type": "code",
   "execution_count": 43,
   "id": "52d5a639-4fdc-46ce-926b-098125a825ce",
   "metadata": {},
   "outputs": [
    {
     "data": {
      "text/plain": [
       "4"
      ]
     },
     "execution_count": 43,
     "metadata": {},
     "output_type": "execute_result"
    }
   ],
   "source": [
    "test5(1,4)"
   ]
  },
  {
   "cell_type": "code",
   "execution_count": 44,
   "id": "4c30dd6b-5c3c-4cbb-96d2-224259f9ccc4",
   "metadata": {},
   "outputs": [],
   "source": [
    "l=[1,2,3,4,5,\"Monika\",\"Pwskils\",[89,23,5,6,7]]"
   ]
  },
  {
   "cell_type": "markdown",
   "id": "c4ec51ee-eea7-4693-8882-08df0f802183",
   "metadata": {},
   "source": [
    "#create a function which will take list as a input and give me a final list with all the numeric value"
   ]
  },
  {
   "cell_type": "code",
   "execution_count": 45,
   "id": "6d7729e6-1475-4582-b951-17823b15c456",
   "metadata": {},
   "outputs": [],
   "source": [
    "def test6(a):\n",
    "    n = []\n",
    "    for i in a:\n",
    "        if type(i)==int or type(i)==float:\n",
    "            n.append(i)\n",
    "    return n        "
   ]
  },
  {
   "cell_type": "code",
   "execution_count": 46,
   "id": "16c1e250-e731-4997-8b9b-8875fd47d483",
   "metadata": {},
   "outputs": [
    {
     "data": {
      "text/plain": [
       "[1, 2, 3, 4, 5]"
      ]
     },
     "execution_count": 46,
     "metadata": {},
     "output_type": "execute_result"
    }
   ],
   "source": [
    "test6(l)"
   ]
  },
  {
   "cell_type": "code",
   "execution_count": 47,
   "id": "7c48ea6f-247f-4559-9d39-04ebdf4b385f",
   "metadata": {},
   "outputs": [],
   "source": [
    "def test7(a):\n",
    "    n = []\n",
    "    for i in a:\n",
    "        if type(i)==list:\n",
    "            for j in i:\n",
    "                if type(j)==int or type(j)==float:\n",
    "                    n.append(j)\n",
    "    return n\n",
    "        \n",
    "                    "
   ]
  },
  {
   "cell_type": "code",
   "execution_count": 48,
   "id": "e3a657c3-b19c-491b-ae5a-c6daf897af21",
   "metadata": {},
   "outputs": [
    {
     "data": {
      "text/plain": [
       "[89, 23, 5, 6, 7]"
      ]
     },
     "execution_count": 48,
     "metadata": {},
     "output_type": "execute_result"
    }
   ],
   "source": [
    "test7(l)"
   ]
  },
  {
   "cell_type": "code",
   "execution_count": 49,
   "id": "9c544f72-eb2a-4e60-b472-726acec996f2",
   "metadata": {},
   "outputs": [
    {
     "data": {
      "text/plain": [
       "[1, 2, 3, 4, 5, 'Monika', 'Pwskils', [89, 23, 5, 6, 7]]"
      ]
     },
     "execution_count": 49,
     "metadata": {},
     "output_type": "execute_result"
    }
   ],
   "source": [
    "l"
   ]
  },
  {
   "cell_type": "code",
   "execution_count": 50,
   "id": "db67eae5-6ca5-4c1e-8b0a-0bd9a7f6e96c",
   "metadata": {},
   "outputs": [],
   "source": [
    "def test8(a):\n",
    "    n =[]\n",
    "    for i in a:\n",
    "        if type(i)==list:\n",
    "            for j in i:\n",
    "                if type(j)==int or type(j)==float:\n",
    "                    n.append(j)\n",
    "    else:\n",
    "        for i in a:\n",
    "            if type(i)==int or type(i)==float:\n",
    "                n.append(i)\n",
    "    return n           "
   ]
  },
  {
   "cell_type": "code",
   "execution_count": 51,
   "id": "ee1526dd-9afa-4d84-84c0-51537f5d3391",
   "metadata": {},
   "outputs": [
    {
     "data": {
      "text/plain": [
       "[89, 23, 5, 6, 7, 1, 2, 3, 4, 5]"
      ]
     },
     "execution_count": 51,
     "metadata": {},
     "output_type": "execute_result"
    }
   ],
   "source": [
    "test8(l)"
   ]
  },
  {
   "cell_type": "code",
   "execution_count": 52,
   "id": "464cf194-a9fb-4985-b101-e98255485553",
   "metadata": {},
   "outputs": [],
   "source": [
    "def test8(a):\n",
    "    n=[]\n",
    "    for i in a:\n",
    "        if type(i)==int or type(i)==float:\n",
    "            n.append(i)\n",
    "    else:\n",
    "        for i in a :\n",
    "            if type(i)==list:\n",
    "                for j in i :\n",
    "                    if type(j)==int or type(j)==float:\n",
    "                        n.append(j)\n",
    "    return n                   "
   ]
  },
  {
   "cell_type": "code",
   "execution_count": 53,
   "id": "9a214be6-65eb-4a1e-961f-2b4ae8113148",
   "metadata": {},
   "outputs": [
    {
     "data": {
      "text/plain": [
       "[1, 2, 3, 4, 5, 89, 23, 5, 6, 7]"
      ]
     },
     "execution_count": 53,
     "metadata": {},
     "output_type": "execute_result"
    }
   ],
   "source": [
    "test8(l)"
   ]
  },
  {
   "cell_type": "code",
   "execution_count": 54,
   "id": "0933fb9e-626c-40f7-8042-39b73064b8b8",
   "metadata": {},
   "outputs": [],
   "source": [
    "def test(a):\n",
    "    pass"
   ]
  },
  {
   "cell_type": "code",
   "execution_count": 55,
   "id": "9cc251ee-88b1-40b1-805c-05c0de8b51ae",
   "metadata": {},
   "outputs": [],
   "source": [
    "test(1)"
   ]
  },
  {
   "cell_type": "code",
   "execution_count": 56,
   "id": "ca0ac124-5810-438d-94f6-302fcd8c674e",
   "metadata": {},
   "outputs": [],
   "source": [
    "def test(a,b,c,d,e):\n",
    "    pass"
   ]
  },
  {
   "cell_type": "code",
   "execution_count": 57,
   "id": "f44c8b1b-191e-42bc-af95-2c15db1db5a4",
   "metadata": {},
   "outputs": [],
   "source": [
    "test(1,2,3,4,5)"
   ]
  },
  {
   "cell_type": "code",
   "execution_count": 58,
   "id": "35515b41-d64f-4128-b6f9-50adae0eb0de",
   "metadata": {},
   "outputs": [
    {
     "ename": "TypeError",
     "evalue": "test() takes 5 positional arguments but 6 were given",
     "output_type": "error",
     "traceback": [
      "\u001b[0;31m---------------------------------------------------------------------------\u001b[0m",
      "\u001b[0;31mTypeError\u001b[0m                                 Traceback (most recent call last)",
      "Cell \u001b[0;32mIn[58], line 1\u001b[0m\n\u001b[0;32m----> 1\u001b[0m \u001b[43mtest\u001b[49m\u001b[43m(\u001b[49m\u001b[38;5;241;43m1\u001b[39;49m\u001b[43m,\u001b[49m\u001b[38;5;241;43m2\u001b[39;49m\u001b[43m,\u001b[49m\u001b[38;5;241;43m3\u001b[39;49m\u001b[43m,\u001b[49m\u001b[38;5;241;43m4\u001b[39;49m\u001b[43m,\u001b[49m\u001b[38;5;241;43m5\u001b[39;49m\u001b[43m,\u001b[49m\u001b[38;5;241;43m6\u001b[39;49m\u001b[43m)\u001b[49m\n",
      "\u001b[0;31mTypeError\u001b[0m: test() takes 5 positional arguments but 6 were given"
     ]
    }
   ],
   "source": [
    "test(1,2,3,4,5,6)"
   ]
  },
  {
   "cell_type": "code",
   "execution_count": 59,
   "id": "200bf80a-1f81-4602-bd8e-8eaf51d547d9",
   "metadata": {},
   "outputs": [],
   "source": [
    "def test1(*args):\n",
    "    return args"
   ]
  },
  {
   "cell_type": "code",
   "execution_count": 60,
   "id": "90e98767-fa09-49a9-87c9-f2bb4ff7ef70",
   "metadata": {},
   "outputs": [
    {
     "data": {
      "text/plain": [
       "function"
      ]
     },
     "execution_count": 60,
     "metadata": {},
     "output_type": "execute_result"
    }
   ],
   "source": [
    "type(test1)"
   ]
  },
  {
   "cell_type": "code",
   "execution_count": 61,
   "id": "4456f496-b58f-414f-86b4-a63031b3f1d4",
   "metadata": {},
   "outputs": [
    {
     "data": {
      "text/plain": [
       "(1,)"
      ]
     },
     "execution_count": 61,
     "metadata": {},
     "output_type": "execute_result"
    }
   ],
   "source": [
    "test1(1)"
   ]
  },
  {
   "cell_type": "code",
   "execution_count": 62,
   "id": "b1857f9a-22a3-4030-8921-b6e9d2156eae",
   "metadata": {},
   "outputs": [
    {
     "data": {
      "text/plain": [
       "(1, 2, 3)"
      ]
     },
     "execution_count": 62,
     "metadata": {},
     "output_type": "execute_result"
    }
   ],
   "source": [
    "test1(1,2,3)"
   ]
  },
  {
   "cell_type": "code",
   "execution_count": 63,
   "id": "7eee7bd6-801f-490e-8ba5-52a98f196615",
   "metadata": {},
   "outputs": [
    {
     "data": {
      "text/plain": [
       "('Monika', [12, 4, 6, 3, 8], 45, 4.2, {2, 5}, ('Radhika', 1, 4, 5))"
      ]
     },
     "execution_count": 63,
     "metadata": {},
     "output_type": "execute_result"
    }
   ],
   "source": [
    "test1(\"Monika\",[12,4,6,3,8],45,4.2,{2,5,2},(\"Radhika\",1,4,5))"
   ]
  },
  {
   "cell_type": "code",
   "execution_count": 64,
   "id": "5571674c-c830-4f04-b5e2-4ba71679003d",
   "metadata": {},
   "outputs": [],
   "source": [
    "def test2(*monika):\n",
    "    return monika"
   ]
  },
  {
   "cell_type": "code",
   "execution_count": 65,
   "id": "481fb5e5-e7b9-4cb0-9596-5533a3712db0",
   "metadata": {},
   "outputs": [
    {
     "data": {
      "text/plain": [
       "(1, 'monika', 'pWskills', 2, 6)"
      ]
     },
     "execution_count": 65,
     "metadata": {},
     "output_type": "execute_result"
    }
   ],
   "source": [
    "test2(1,\"monika\",\"pWskills\",2,6)"
   ]
  },
  {
   "cell_type": "code",
   "execution_count": 66,
   "id": "4f3d1059-9665-4177-8f4d-30228aab7a8a",
   "metadata": {},
   "outputs": [],
   "source": [
    "def test3(*args,a):\n",
    "    return args,a"
   ]
  },
  {
   "cell_type": "code",
   "execution_count": 67,
   "id": "051a6157-827c-403d-b3b6-1bae7a59fb69",
   "metadata": {},
   "outputs": [
    {
     "ename": "TypeError",
     "evalue": "test3() missing 1 required keyword-only argument: 'a'",
     "output_type": "error",
     "traceback": [
      "\u001b[0;31m---------------------------------------------------------------------------\u001b[0m",
      "\u001b[0;31mTypeError\u001b[0m                                 Traceback (most recent call last)",
      "Cell \u001b[0;32mIn[67], line 1\u001b[0m\n\u001b[0;32m----> 1\u001b[0m \u001b[43mtest3\u001b[49m\u001b[43m(\u001b[49m\u001b[38;5;241;43m1\u001b[39;49m\u001b[43m)\u001b[49m\n",
      "\u001b[0;31mTypeError\u001b[0m: test3() missing 1 required keyword-only argument: 'a'"
     ]
    }
   ],
   "source": [
    "test3(1)"
   ]
  },
  {
   "cell_type": "code",
   "execution_count": 68,
   "id": "224aec4e-67ca-4aa3-9e95-fa4bcbfa7141",
   "metadata": {},
   "outputs": [
    {
     "ename": "TypeError",
     "evalue": "test3() missing 1 required keyword-only argument: 'a'",
     "output_type": "error",
     "traceback": [
      "\u001b[0;31m---------------------------------------------------------------------------\u001b[0m",
      "\u001b[0;31mTypeError\u001b[0m                                 Traceback (most recent call last)",
      "Cell \u001b[0;32mIn[68], line 1\u001b[0m\n\u001b[0;32m----> 1\u001b[0m \u001b[43mtest3\u001b[49m\u001b[43m(\u001b[49m\u001b[38;5;241;43m1\u001b[39;49m\u001b[43m,\u001b[49m\u001b[38;5;241;43m3\u001b[39;49m\u001b[43m)\u001b[49m\n",
      "\u001b[0;31mTypeError\u001b[0m: test3() missing 1 required keyword-only argument: 'a'"
     ]
    }
   ],
   "source": [
    "test3(1,3)"
   ]
  },
  {
   "cell_type": "code",
   "execution_count": 69,
   "id": "1c149d03-1909-4aad-b1a4-53137a5677d4",
   "metadata": {},
   "outputs": [
    {
     "data": {
      "text/plain": [
       "((12, 4, 5, 6), 'Monika')"
      ]
     },
     "execution_count": 69,
     "metadata": {},
     "output_type": "execute_result"
    }
   ],
   "source": [
    "test3(12,4,5,6,a=\"Monika\")"
   ]
  },
  {
   "cell_type": "code",
   "execution_count": 70,
   "id": "5575a236-3904-4fae-93c9-18b0b9b59f08",
   "metadata": {},
   "outputs": [],
   "source": [
    "def test4(*args):\n",
    "    l=[]\n",
    "    for i in args:\n",
    "        if type(i)==list:\n",
    "            l.append(i)\n",
    "    return l       "
   ]
  },
  {
   "cell_type": "code",
   "execution_count": 71,
   "id": "58887aa3-7670-42f1-aec0-a37b5e1be858",
   "metadata": {},
   "outputs": [
    {
     "data": {
      "text/plain": [
       "[[1, 2, 3, 4], [6, 7, 8], ['mon', 'Rad', 5]]"
      ]
     },
     "execution_count": 71,
     "metadata": {},
     "output_type": "execute_result"
    }
   ],
   "source": [
    "test4(1,2,3,[1,2,3,4],(1,2,3),[6,7,8],\"Monika\",[\"mon\",\"Rad\",5])"
   ]
  },
  {
   "cell_type": "code",
   "execution_count": 72,
   "id": "2933f90e-2cea-4099-8142-b84640a283d4",
   "metadata": {},
   "outputs": [],
   "source": [
    "def test5(**kwargs):\n",
    "    return kwargs"
   ]
  },
  {
   "cell_type": "code",
   "execution_count": 73,
   "id": "90961db2-82b2-4fed-9f81-c09f6e136614",
   "metadata": {},
   "outputs": [
    {
     "data": {
      "text/plain": [
       "dict"
      ]
     },
     "execution_count": 73,
     "metadata": {},
     "output_type": "execute_result"
    }
   ],
   "source": [
    "type(test5())"
   ]
  },
  {
   "cell_type": "code",
   "execution_count": 74,
   "id": "75155419-b865-445e-a013-9cfea76bbde4",
   "metadata": {},
   "outputs": [
    {
     "data": {
      "text/plain": [
       "{'a': 34, 'b': 23, 'c': [1, 2, 3], 'd': ('Monika', 'PwSkills')}"
      ]
     },
     "execution_count": 74,
     "metadata": {},
     "output_type": "execute_result"
    }
   ],
   "source": [
    "test5(a=34,b=23,c=[1,2,3],d=(\"Monika\",\"PwSkills\"))"
   ]
  },
  {
   "cell_type": "code",
   "execution_count": 75,
   "id": "2ac0c247-f57b-4e6b-9ffe-02fdd3031aa9",
   "metadata": {},
   "outputs": [],
   "source": [
    "def test6(**kwargs):\n",
    "    for i in kwargs.keys():\n",
    "        if type(kwargs[i]) ==list:\n",
    "            return i,kwargs[i]"
   ]
  },
  {
   "cell_type": "code",
   "execution_count": 76,
   "id": "a600cf81-2855-431e-b1a9-ec35931007a2",
   "metadata": {},
   "outputs": [
    {
     "data": {
      "text/plain": [
       "('c', [1, 2, 3])"
      ]
     },
     "execution_count": 76,
     "metadata": {},
     "output_type": "execute_result"
    }
   ],
   "source": [
    "test6(a=34,b=23,c=[1,2,3],d=(\"Monika\",\"PwSkills\"))"
   ]
  },
  {
   "cell_type": "code",
   "execution_count": 83,
   "id": "44d73c3c-232a-4fc7-82e5-f30b81d6a5ce",
   "metadata": {},
   "outputs": [],
   "source": [
    "def test7(*args,**kwargs):\n",
    "    return args,kwargs"
   ]
  },
  {
   "cell_type": "code",
   "execution_count": 84,
   "id": "ef267917-1e82-4aba-809e-959ca03f58b3",
   "metadata": {},
   "outputs": [
    {
     "data": {
      "text/plain": [
       "((1, 2, 'monika', 3, 'PwSkills'), {'a': 'Radhika', 'b': 12})"
      ]
     },
     "execution_count": 84,
     "metadata": {},
     "output_type": "execute_result"
    }
   ],
   "source": [
    "test7(1,2,\"monika\",3,\"PwSkills\",a=\"Radhika\",b=12)"
   ]
  },
  {
   "cell_type": "markdown",
   "id": "1d6b6b1b-b405-471f-bcaa-35a1abdf24cf",
   "metadata": {},
   "source": [
    "# Generatord Function"
   ]
  },
  {
   "cell_type": "code",
   "execution_count": 89,
   "id": "8d442ce4-4cf6-44ea-8722-36078cf81996",
   "metadata": {},
   "outputs": [
    {
     "data": {
      "text/plain": [
       "range(1, 10)"
      ]
     },
     "execution_count": 89,
     "metadata": {},
     "output_type": "execute_result"
    }
   ],
   "source": [
    "range(1,10)"
   ]
  },
  {
   "cell_type": "code",
   "execution_count": 88,
   "id": "948fd0ca-641d-457f-989a-e6362efd07ea",
   "metadata": {},
   "outputs": [
    {
     "name": "stdout",
     "output_type": "stream",
     "text": [
      "1\n",
      "2\n",
      "3\n",
      "4\n",
      "5\n",
      "6\n",
      "7\n",
      "8\n",
      "9\n"
     ]
    }
   ],
   "source": [
    "for i in range(1,10):\n",
    "    print(i)"
   ]
  },
  {
   "cell_type": "code",
   "execution_count": 90,
   "id": "8a4a68f6-5437-4050-ab0e-3ca642f475be",
   "metadata": {},
   "outputs": [],
   "source": [
    "l=[1,2,3,4,5,6,7,8,7,\"Monika\",\"pwskilss\"]"
   ]
  },
  {
   "cell_type": "code",
   "execution_count": 114,
   "id": "93423ea0-7456-41a8-afee-c3867cee33a9",
   "metadata": {},
   "outputs": [],
   "source": [
    "def test1(a):\n",
    "    n=[]\n",
    "    for i in a:\n",
    "        \n",
    "        n.append(i)\n",
    "    return n"
   ]
  },
  {
   "cell_type": "code",
   "execution_count": 115,
   "id": "73b29c18-f1e5-46bd-bd6e-4cce09505a57",
   "metadata": {},
   "outputs": [
    {
     "data": {
      "text/plain": [
       "[1, 2, 3, 4, 5, 6, 7, 8, 7, 'Monika', 'pwskilss']"
      ]
     },
     "execution_count": 115,
     "metadata": {},
     "output_type": "execute_result"
    }
   ],
   "source": [
    "test1(l)"
   ]
  },
  {
   "cell_type": "code",
   "execution_count": 118,
   "id": "e0fbbd3f-efe0-4ecf-b8f8-1ba4f7392178",
   "metadata": {},
   "outputs": [],
   "source": [
    "def test3(a):\n",
    "    n=[]\n",
    "    for i in a:\n",
    "        if type(i)==int:\n",
    "            n.append(i)\n",
    "    return n    "
   ]
  },
  {
   "cell_type": "code",
   "execution_count": 119,
   "id": "d3339849-5e1c-4b9a-8511-b6a6b3fb70a5",
   "metadata": {},
   "outputs": [
    {
     "data": {
      "text/plain": [
       "[1, 2, 3, 4, 5, 6, 7, 8, 7]"
      ]
     },
     "execution_count": 119,
     "metadata": {},
     "output_type": "execute_result"
    }
   ],
   "source": [
    "test3(l)"
   ]
  },
  {
   "cell_type": "code",
   "execution_count": 121,
   "id": "0dc2b4d0-7700-422d-b54d-4fb11fbac2ee",
   "metadata": {},
   "outputs": [],
   "source": [
    "def test1(a):\n",
    "    \n",
    "    for i in a:\n",
    "        \n",
    "        \n",
    "         return i"
   ]
  },
  {
   "cell_type": "code",
   "execution_count": 122,
   "id": "6d0ab3c3-3296-4805-b9c2-6f1d862bc66c",
   "metadata": {},
   "outputs": [
    {
     "data": {
      "text/plain": [
       "1"
      ]
     },
     "execution_count": 122,
     "metadata": {},
     "output_type": "execute_result"
    }
   ],
   "source": [
    "test1(l)"
   ]
  },
  {
   "cell_type": "code",
   "execution_count": 124,
   "id": "45954e77-0e7a-4b24-81af-7afa8933e67b",
   "metadata": {},
   "outputs": [
    {
     "name": "stdout",
     "output_type": "stream",
     "text": [
      "0\n",
      "1\n",
      "2\n",
      "3\n",
      "4\n",
      "5\n",
      "6\n",
      "7\n",
      "8\n",
      "9\n"
     ]
    }
   ],
   "source": [
    "for i in range(10):\n",
    "    print(i)"
   ]
  },
  {
   "cell_type": "markdown",
   "id": "69c873d8-8b71-484b-b731-8761889d4153",
   "metadata": {},
   "source": [
    "## Fibonacci:\n",
    "   ## 0,1,1,2,3,5,8,13,21,34"
   ]
  },
  {
   "cell_type": "code",
   "execution_count": 141,
   "id": "68e0ac7f-bfa1-41d6-9de0-f457a21c0722",
   "metadata": {},
   "outputs": [],
   "source": [
    "def test_fib(n):\n",
    "    a,b=0,1\n",
    "    for i in range(n):\n",
    "            yield a\n",
    "            a,b=b,b+a\n",
    "            "
   ]
  },
  {
   "cell_type": "code",
   "execution_count": 142,
   "id": "3db39538-8b89-46d6-b672-f3ddb154b913",
   "metadata": {},
   "outputs": [
    {
     "data": {
      "text/plain": [
       "<generator object test_fib at 0x7f588649fb50>"
      ]
     },
     "execution_count": 142,
     "metadata": {},
     "output_type": "execute_result"
    }
   ],
   "source": [
    "test_fib(10)"
   ]
  },
  {
   "cell_type": "code",
   "execution_count": 144,
   "id": "cc805757-4227-4a9b-babd-a856818ca00c",
   "metadata": {},
   "outputs": [
    {
     "name": "stdout",
     "output_type": "stream",
     "text": [
      "0\n",
      "1\n",
      "1\n",
      "2\n",
      "3\n",
      "5\n",
      "8\n",
      "13\n",
      "21\n",
      "34\n"
     ]
    }
   ],
   "source": [
    "for i in test_fib(10):\n",
    "    print(i)"
   ]
  },
  {
   "cell_type": "markdown",
   "id": "f9043d43-f8af-48fe-b63b-0ee8287c7b12",
   "metadata": {},
   "source": [
    "## Lambda Function"
   ]
  },
  {
   "cell_type": "code",
   "execution_count": null,
   "id": "237150d6-841f-4e2d-b861-43f25575249d",
   "metadata": {},
   "outputs": [],
   "source": [
    "n=3\n",
    "p=2"
   ]
  },
  {
   "cell_type": "code",
   "execution_count": 145,
   "id": "0bfd2fc2-3039-4abb-a61c-2e204ed9f7ce",
   "metadata": {},
   "outputs": [],
   "source": [
    "def test(n,p):\n",
    "    return n**p"
   ]
  },
  {
   "cell_type": "code",
   "execution_count": 147,
   "id": "7794dd28-ef02-458f-8b63-2b73c7802267",
   "metadata": {},
   "outputs": [
    {
     "data": {
      "text/plain": [
       "9"
      ]
     },
     "execution_count": 147,
     "metadata": {},
     "output_type": "execute_result"
    }
   ],
   "source": [
    "test(3,2)"
   ]
  },
  {
   "cell_type": "code",
   "execution_count": 148,
   "id": "c0f6874c-5537-473d-99f4-818e08bb4d2b",
   "metadata": {},
   "outputs": [
    {
     "data": {
      "text/plain": [
       "6561"
      ]
     },
     "execution_count": 148,
     "metadata": {},
     "output_type": "execute_result"
    }
   ],
   "source": [
    "test(9,4)"
   ]
  },
  {
   "cell_type": "code",
   "execution_count": 1,
   "id": "f08fa80d-c4db-4521-a045-069ad24efc7b",
   "metadata": {},
   "outputs": [],
   "source": [
    "a= lambda n,p :n**p"
   ]
  },
  {
   "cell_type": "code",
   "execution_count": 2,
   "id": "87fdce0d-212e-4eb5-bd6f-a53530b119e3",
   "metadata": {},
   "outputs": [
    {
     "data": {
      "text/plain": [
       "9"
      ]
     },
     "execution_count": 2,
     "metadata": {},
     "output_type": "execute_result"
    }
   ],
   "source": [
    "a(3,2)"
   ]
  },
  {
   "cell_type": "code",
   "execution_count": 3,
   "id": "4c49ffde-2023-41c9-a22a-8b775b2f43ea",
   "metadata": {},
   "outputs": [
    {
     "data": {
      "text/plain": [
       "6561"
      ]
     },
     "execution_count": 3,
     "metadata": {},
     "output_type": "execute_result"
    }
   ],
   "source": [
    "a(9,4)"
   ]
  },
  {
   "cell_type": "code",
   "execution_count": 6,
   "id": "059c722a-cba8-471c-8006-b6536db8bf7c",
   "metadata": {},
   "outputs": [],
   "source": [
    "add=lambda x,y:x+y"
   ]
  },
  {
   "cell_type": "code",
   "execution_count": 7,
   "id": "6c6504a1-af82-4273-88d9-9b88c568ae43",
   "metadata": {},
   "outputs": [
    {
     "data": {
      "text/plain": [
       "9"
      ]
     },
     "execution_count": 7,
     "metadata": {},
     "output_type": "execute_result"
    }
   ],
   "source": [
    "add(4,5)"
   ]
  },
  {
   "cell_type": "code",
   "execution_count": 10,
   "id": "fce6b786-e612-42db-be4d-988816bb4da2",
   "metadata": {},
   "outputs": [],
   "source": [
    "c_to_f=lambda c : (9/5)*c+32"
   ]
  },
  {
   "cell_type": "code",
   "execution_count": 11,
   "id": "3535d189-a576-4725-bef4-1527c807bbc0",
   "metadata": {},
   "outputs": [
    {
     "data": {
      "text/plain": [
       "93.2"
      ]
     },
     "execution_count": 11,
     "metadata": {},
     "output_type": "execute_result"
    }
   ],
   "source": [
    "c_to_f(34)"
   ]
  },
  {
   "cell_type": "code",
   "execution_count": 12,
   "id": "950b9b73-b8fa-407a-a695-6c22983a1159",
   "metadata": {},
   "outputs": [],
   "source": [
    "max_two= lambda x,y: x if x>y else y"
   ]
  },
  {
   "cell_type": "code",
   "execution_count": 13,
   "id": "1ac69e08-ad37-4962-8005-592d8de8ec15",
   "metadata": {},
   "outputs": [
    {
     "data": {
      "text/plain": [
       "56"
      ]
     },
     "execution_count": 13,
     "metadata": {},
     "output_type": "execute_result"
    }
   ],
   "source": [
    "max_two(4,56)"
   ]
  },
  {
   "cell_type": "code",
   "execution_count": 8,
   "id": "ee9ee907-3573-48a4-b75a-9a5886404a56",
   "metadata": {},
   "outputs": [],
   "source": [
    "def test1(a,b):\n",
    "    if a>b:\n",
    "        return a\n",
    "    else:\n",
    "        return b"
   ]
  },
  {
   "cell_type": "code",
   "execution_count": 9,
   "id": "36d20893-b8aa-415f-b2a5-22f1fff79a61",
   "metadata": {},
   "outputs": [
    {
     "data": {
      "text/plain": [
       "6"
      ]
     },
     "execution_count": 9,
     "metadata": {},
     "output_type": "execute_result"
    }
   ],
   "source": [
    "test1(3,6)"
   ]
  },
  {
   "cell_type": "code",
   "execution_count": 17,
   "id": "dc3609ad-0640-4dae-955b-5d9b59a05dd9",
   "metadata": {},
   "outputs": [],
   "source": [
    "s=\"Pwskills\""
   ]
  },
  {
   "cell_type": "code",
   "execution_count": 18,
   "id": "c7dbc5b8-71e9-4185-abb0-df63eafb2f66",
   "metadata": {},
   "outputs": [],
   "source": [
    "len_st= lambda s : len(s)"
   ]
  },
  {
   "cell_type": "code",
   "execution_count": 19,
   "id": "cc342668-ab52-4bdc-8079-38f55312aa99",
   "metadata": {},
   "outputs": [
    {
     "data": {
      "text/plain": [
       "8"
      ]
     },
     "execution_count": 19,
     "metadata": {},
     "output_type": "execute_result"
    }
   ],
   "source": [
    "len_st(s)"
   ]
  },
  {
   "cell_type": "code",
   "execution_count": null,
   "id": "638a4a45-4628-49b4-b479-313255d42f78",
   "metadata": {},
   "outputs": [],
   "source": []
  },
  {
   "cell_type": "code",
   "execution_count": null,
   "id": "183a629f-b6e2-49c0-a76c-1d602e72f835",
   "metadata": {},
   "outputs": [],
   "source": []
  },
  {
   "cell_type": "code",
   "execution_count": null,
   "id": "2b4bfeb0-302d-4d37-9cc5-73d65b505272",
   "metadata": {},
   "outputs": [],
   "source": []
  },
  {
   "cell_type": "code",
   "execution_count": null,
   "id": "1a596003-cc07-46f1-9c84-8ebf97f98cd4",
   "metadata": {},
   "outputs": [],
   "source": []
  }
 ],
 "metadata": {
  "kernelspec": {
   "display_name": "Python 3 (ipykernel)",
   "language": "python",
   "name": "python3"
  },
  "language_info": {
   "codemirror_mode": {
    "name": "ipython",
    "version": 3
   },
   "file_extension": ".py",
   "mimetype": "text/x-python",
   "name": "python",
   "nbconvert_exporter": "python",
   "pygments_lexer": "ipython3",
   "version": "3.10.8"
  }
 },
 "nbformat": 4,
 "nbformat_minor": 5
}
