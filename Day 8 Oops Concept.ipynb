{
 "cells": [
  {
   "cell_type": "markdown",
   "id": "83f9d2da-565f-4a54-a199-ddacd8e74d18",
   "metadata": {},
   "source": [
    "### \"Oops\" Stand for Object-Oriented Programming System"
   ]
  },
  {
   "cell_type": "code",
   "execution_count": 4,
   "id": "3636ef0c-bfc0-4b86-9f5d-ed58aad8beb5",
   "metadata": {},
   "outputs": [],
   "source": [
    "a=1"
   ]
  },
  {
   "cell_type": "code",
   "execution_count": 5,
   "id": "02373664-b13d-448b-bb05-707fb9b0a0b8",
   "metadata": {},
   "outputs": [
    {
     "name": "stdout",
     "output_type": "stream",
     "text": [
      "<class 'int'>\n"
     ]
    }
   ],
   "source": [
    "print(type(a))"
   ]
  },
  {
   "cell_type": "code",
   "execution_count": 6,
   "id": "d34e9e5b-4803-4b44-bda6-ada7d81ee338",
   "metadata": {},
   "outputs": [
    {
     "name": "stdout",
     "output_type": "stream",
     "text": [
      "<class 'str'>\n"
     ]
    }
   ],
   "source": [
    "print(type(\"PwSkills\"))"
   ]
  },
  {
   "cell_type": "code",
   "execution_count": 7,
   "id": "3301080a-ae18-45c4-9377-b0011f2396dc",
   "metadata": {},
   "outputs": [
    {
     "ename": "SyntaxError",
     "evalue": "incomplete input (2391559855.py, line 1)",
     "output_type": "error",
     "traceback": [
      "\u001b[0;36m  Cell \u001b[0;32mIn[7], line 1\u001b[0;36m\u001b[0m\n\u001b[0;31m    class test():\u001b[0m\n\u001b[0m                 ^\u001b[0m\n\u001b[0;31mSyntaxError\u001b[0m\u001b[0;31m:\u001b[0m incomplete input\n"
     ]
    }
   ],
   "source": [
    "class test():"
   ]
  },
  {
   "cell_type": "code",
   "execution_count": 8,
   "id": "8b2fe40b-895a-468b-978f-7d864e60a5b6",
   "metadata": {},
   "outputs": [],
   "source": [
    "class test():\n",
    "    pass"
   ]
  },
  {
   "cell_type": "code",
   "execution_count": 9,
   "id": "b56870d6-363c-41d4-bc7c-a9acac8158d0",
   "metadata": {},
   "outputs": [],
   "source": [
    "a=test()"
   ]
  },
  {
   "cell_type": "code",
   "execution_count": 10,
   "id": "0183c59d-63e6-409f-bf60-2095dd28e4ee",
   "metadata": {},
   "outputs": [
    {
     "name": "stdout",
     "output_type": "stream",
     "text": [
      "<class '__main__.test'>\n"
     ]
    }
   ],
   "source": [
    "print(type(a))"
   ]
  },
  {
   "cell_type": "code",
   "execution_count": 21,
   "id": "8fbee0d3-c120-454e-8d7a-56b47e7c905b",
   "metadata": {},
   "outputs": [],
   "source": [
    "class pwskills:\n",
    "    \n",
    "    def welcome_msg():\n",
    "        print(\"Welcome to pwskills\")    "
   ]
  },
  {
   "cell_type": "code",
   "execution_count": 22,
   "id": "43ea0e85-d638-4dd4-94b3-dc36c312efe4",
   "metadata": {},
   "outputs": [
    {
     "ename": "NameError",
     "evalue": "name 'welcome_msg' is not defined",
     "output_type": "error",
     "traceback": [
      "\u001b[0;31m---------------------------------------------------------------------------\u001b[0m",
      "\u001b[0;31mNameError\u001b[0m                                 Traceback (most recent call last)",
      "Cell \u001b[0;32mIn[22], line 1\u001b[0m\n\u001b[0;32m----> 1\u001b[0m \u001b[43mwelcome_msg\u001b[49m()\n",
      "\u001b[0;31mNameError\u001b[0m: name 'welcome_msg' is not defined"
     ]
    }
   ],
   "source": [
    "welcome_msg()"
   ]
  },
  {
   "cell_type": "code",
   "execution_count": 23,
   "id": "bb0ea230-42c5-4809-9b6f-a8cac37cd96d",
   "metadata": {},
   "outputs": [
    {
     "ename": "NameError",
     "evalue": "name 'welcome_msg' is not defined",
     "output_type": "error",
     "traceback": [
      "\u001b[0;31m---------------------------------------------------------------------------\u001b[0m",
      "\u001b[0;31mNameError\u001b[0m                                 Traceback (most recent call last)",
      "Cell \u001b[0;32mIn[23], line 1\u001b[0m\n\u001b[0;32m----> 1\u001b[0m \u001b[38;5;28mprint\u001b[39m(\u001b[38;5;28mtype\u001b[39m(\u001b[43mwelcome_msg\u001b[49m()))\n",
      "\u001b[0;31mNameError\u001b[0m: name 'welcome_msg' is not defined"
     ]
    }
   ],
   "source": [
    "print(type(welcome_msg()))"
   ]
  },
  {
   "cell_type": "code",
   "execution_count": 26,
   "id": "35f17fd3-d6d3-4f28-9c7b-33a8d17f0453",
   "metadata": {},
   "outputs": [],
   "source": [
    "class pwskills:\n",
    "    \n",
    "    def welcome_msg(self):\n",
    "        print(\"Welcome to pwskills\")    "
   ]
  },
  {
   "cell_type": "code",
   "execution_count": 27,
   "id": "d2f5f59f-c8c4-490f-92a6-f6072fb1d978",
   "metadata": {},
   "outputs": [],
   "source": [
    "Rohan=pwskills()"
   ]
  },
  {
   "cell_type": "code",
   "execution_count": 28,
   "id": "f9d703b7-7aa8-44c5-9d8b-fd0d7977118d",
   "metadata": {},
   "outputs": [
    {
     "name": "stdout",
     "output_type": "stream",
     "text": [
      "Welcome to pwskills\n"
     ]
    }
   ],
   "source": [
    "Rohan.welcome_msg()"
   ]
  },
  {
   "cell_type": "code",
   "execution_count": 29,
   "id": "1904bb90-9843-4079-8128-335626d3c968",
   "metadata": {},
   "outputs": [],
   "source": [
    "sohan=pwskills()"
   ]
  },
  {
   "cell_type": "code",
   "execution_count": 30,
   "id": "a518d7e7-c340-4b92-b9ea-be73e8767e45",
   "metadata": {},
   "outputs": [
    {
     "name": "stdout",
     "output_type": "stream",
     "text": [
      "Welcome to pwskills\n"
     ]
    }
   ],
   "source": [
    "sohan.welcome_msg()"
   ]
  },
  {
   "cell_type": "code",
   "execution_count": 33,
   "id": "522a43cf-1c20-40a0-a7a2-0b83635a5a2a",
   "metadata": {},
   "outputs": [],
   "source": [
    "a=1"
   ]
  },
  {
   "cell_type": "code",
   "execution_count": 47,
   "id": "e4cb50d3-0ab8-46e2-98ca-54f2c508515b",
   "metadata": {},
   "outputs": [
    {
     "data": {
      "text/plain": [
       "(1, 1)"
      ]
     },
     "execution_count": 47,
     "metadata": {},
     "output_type": "execute_result"
    }
   ],
   "source": [
    "a.as_integer_ratio()"
   ]
  },
  {
   "cell_type": "code",
   "execution_count": 81,
   "id": "21ab4b78-1074-4aea-a53c-27d93f73687b",
   "metadata": {},
   "outputs": [],
   "source": [
    "class pwskills:\n",
    "    \n",
    "    def __init__(self,phone_no,email_id,student_id):\n",
    "        self.phone_no=phone_no\n",
    "        self.email_id=email_id\n",
    "        self.student_id=student_id\n",
    "        \n",
    "    def return_student_info(self):\n",
    "        return self.phone_no , self.email_id , self.student_id\n",
    "        "
   ]
  },
  {
   "cell_type": "code",
   "execution_count": 82,
   "id": "b08749cc-66fe-455f-85a0-91322de4bd31",
   "metadata": {},
   "outputs": [],
   "source": [
    "rohan=pwskills(981236543,\"rohan@gmail.com\",123)"
   ]
  },
  {
   "cell_type": "code",
   "execution_count": 83,
   "id": "1ae367a0-724c-434f-a8ad-11523ec4d1da",
   "metadata": {},
   "outputs": [
    {
     "data": {
      "text/plain": [
       "981236543"
      ]
     },
     "execution_count": 83,
     "metadata": {},
     "output_type": "execute_result"
    }
   ],
   "source": [
    "rohan.phone_no"
   ]
  },
  {
   "cell_type": "code",
   "execution_count": 84,
   "id": "2c31d576-9f4a-466a-9a1c-d6b2be7fd220",
   "metadata": {},
   "outputs": [
    {
     "data": {
      "text/plain": [
       "'rohan@gmail.com'"
      ]
     },
     "execution_count": 84,
     "metadata": {},
     "output_type": "execute_result"
    }
   ],
   "source": [
    "rohan.email_id"
   ]
  },
  {
   "cell_type": "code",
   "execution_count": 85,
   "id": "ea3fbbba-5260-4824-9bb2-f9d367fa7edf",
   "metadata": {},
   "outputs": [
    {
     "data": {
      "text/plain": [
       "123"
      ]
     },
     "execution_count": 85,
     "metadata": {},
     "output_type": "execute_result"
    }
   ],
   "source": [
    "rohan.student_id"
   ]
  },
  {
   "cell_type": "code",
   "execution_count": 86,
   "id": "036b91ab-acc0-44ca-9635-0812ff6ce310",
   "metadata": {},
   "outputs": [
    {
     "data": {
      "text/plain": [
       "(981236543, 'rohan@gmail.com', 123)"
      ]
     },
     "execution_count": 86,
     "metadata": {},
     "output_type": "execute_result"
    }
   ],
   "source": [
    "rohan.return_student_info()"
   ]
  },
  {
   "cell_type": "code",
   "execution_count": 87,
   "id": "e34c72a8-e9cb-4372-a7e4-02c72abe7040",
   "metadata": {},
   "outputs": [],
   "source": [
    "class pwskills1:\n",
    "    \n",
    "    def __init__(mon,phone_no,email_id,student_id):\n",
    "        mon.phone_no=phone_no\n",
    "        mon.email_id=email_id\n",
    "        mon.student_id=student_id\n",
    "        \n",
    "    def return_student_info(mon):\n",
    "        return mon.phone_no , mon.email_id , mon.student_id\n",
    "        "
   ]
  },
  {
   "cell_type": "code",
   "execution_count": 92,
   "id": "3e9e1ff8-c3c4-4b42-91d5-d537d5d09e0f",
   "metadata": {},
   "outputs": [],
   "source": [
    "mohan=pwskills1(8764532,\"mohan@gmail.com\",145)"
   ]
  },
  {
   "cell_type": "code",
   "execution_count": 93,
   "id": "f2f595fa-a2e6-4491-89e9-7fcd51a14ce1",
   "metadata": {},
   "outputs": [
    {
     "data": {
      "text/plain": [
       "'mohan@gmail.com'"
      ]
     },
     "execution_count": 93,
     "metadata": {},
     "output_type": "execute_result"
    }
   ],
   "source": [
    "mohan.email_id"
   ]
  },
  {
   "cell_type": "code",
   "execution_count": 95,
   "id": "411e76dd-e032-4455-9eef-69387f75bd32",
   "metadata": {},
   "outputs": [
    {
     "data": {
      "text/plain": [
       "(8764532, 'mohan@gmail.com', 145)"
      ]
     },
     "execution_count": 95,
     "metadata": {},
     "output_type": "execute_result"
    }
   ],
   "source": [
    "mohan.return_student_info()"
   ]
  },
  {
   "cell_type": "code",
   "execution_count": 97,
   "id": "5a06df73-db10-4c6d-9bd8-29db40bda43b",
   "metadata": {},
   "outputs": [],
   "source": [
    "class pwskills2:\n",
    "    \n",
    "    def __init__(self,phone_no,email_id,student_id):\n",
    "        self.phone=phone_no\n",
    "        self.email=email_id\n",
    "        self.student=student_id\n",
    "        \n",
    "    def return_student_info(self):\n",
    "        return self.phone , self.email , self.student\n",
    "        "
   ]
  },
  {
   "cell_type": "code",
   "execution_count": 102,
   "id": "d183fc39-5937-4863-b67b-1b7a4bfc7a57",
   "metadata": {},
   "outputs": [],
   "source": [
    "sohan=pwskills2(27676318,\"sohan@gmail.com\",258)"
   ]
  },
  {
   "cell_type": "code",
   "execution_count": 103,
   "id": "1c690235-6264-4a92-a914-b78d6c06ab80",
   "metadata": {},
   "outputs": [
    {
     "data": {
      "text/plain": [
       "27676318"
      ]
     },
     "execution_count": 103,
     "metadata": {},
     "output_type": "execute_result"
    }
   ],
   "source": [
    "sohan.phone"
   ]
  },
  {
   "cell_type": "code",
   "execution_count": 104,
   "id": "2d904019-f942-4662-bda3-7f2aa4f3ad8c",
   "metadata": {},
   "outputs": [
    {
     "data": {
      "text/plain": [
       "258"
      ]
     },
     "execution_count": 104,
     "metadata": {},
     "output_type": "execute_result"
    }
   ],
   "source": [
    "sohan.student"
   ]
  },
  {
   "cell_type": "code",
   "execution_count": 105,
   "id": "77a387ab-94e8-4104-a26f-c28894e39a48",
   "metadata": {},
   "outputs": [
    {
     "data": {
      "text/plain": [
       "(27676318, 'sohan@gmail.com', 258)"
      ]
     },
     "execution_count": 105,
     "metadata": {},
     "output_type": "execute_result"
    }
   ],
   "source": [
    "sohan.return_student_info()"
   ]
  },
  {
   "cell_type": "code",
   "execution_count": 4,
   "id": "b4459064-29c2-4055-8e04-dd2fda374dda",
   "metadata": {},
   "outputs": [],
   "source": [
    "class pwskills2:\n",
    "    \n",
    "    def __init__(self,phone_no,email_id,student_id):\n",
    "        self.phone=phone_no\n",
    "        self.email=email_id\n",
    "        self.student=student_id\n",
    "        \n",
    "    def return_student_info(self,phone_no):\n",
    "        return self.phone , self.email , self.student\n",
    "        "
   ]
  },
  {
   "cell_type": "code",
   "execution_count": 5,
   "id": "084dd158-e0a7-4de7-856a-d0123d516013",
   "metadata": {},
   "outputs": [],
   "source": [
    "sohan=pwskills2(27676318,\"sohan@gmail.com\",258)"
   ]
  },
  {
   "cell_type": "code",
   "execution_count": 7,
   "id": "8179aadd-2727-44d5-872b-842b2d51e2c9",
   "metadata": {},
   "outputs": [
    {
     "data": {
      "text/plain": [
       "(27676318, 'sohan@gmail.com', 258)"
      ]
     },
     "execution_count": 7,
     "metadata": {},
     "output_type": "execute_result"
    }
   ],
   "source": [
    "sohan.return_student_info(234)"
   ]
  },
  {
   "cell_type": "code",
   "execution_count": null,
   "id": "c2f38055-a0c7-4ae5-9a6e-a47b57dc56ee",
   "metadata": {},
   "outputs": [],
   "source": []
  },
  {
   "cell_type": "code",
   "execution_count": null,
   "id": "0a3c9cbc-427c-4336-b591-0e1d840339dc",
   "metadata": {},
   "outputs": [],
   "source": []
  },
  {
   "cell_type": "code",
   "execution_count": null,
   "id": "e1c7437f-1370-455d-8d07-72876a9d1281",
   "metadata": {},
   "outputs": [],
   "source": []
  },
  {
   "cell_type": "code",
   "execution_count": null,
   "id": "aff13fa4-7e96-4615-a0de-865ff766d7a1",
   "metadata": {},
   "outputs": [],
   "source": []
  },
  {
   "cell_type": "code",
   "execution_count": null,
   "id": "56ae07ef-012c-4d94-8c21-b492234d0efc",
   "metadata": {},
   "outputs": [],
   "source": []
  }
 ],
 "metadata": {
  "kernelspec": {
   "display_name": "Python 3 (ipykernel)",
   "language": "python",
   "name": "python3"
  },
  "language_info": {
   "codemirror_mode": {
    "name": "ipython",
    "version": 3
   },
   "file_extension": ".py",
   "mimetype": "text/x-python",
   "name": "python",
   "nbconvert_exporter": "python",
   "pygments_lexer": "ipython3",
   "version": "3.10.8"
  }
 },
 "nbformat": 4,
 "nbformat_minor": 5
}
