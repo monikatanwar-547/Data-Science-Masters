{
 "cells": [
  {
   "cell_type": "code",
   "execution_count": 156,
   "id": "4fea0dbc-c704-43f1-bca5-511204f50b55",
   "metadata": {},
   "outputs": [
    {
     "data": {
      "text/plain": [
       "'dATA SCIENCE mASTERS'"
      ]
     },
     "execution_count": 156,
     "metadata": {},
     "output_type": "execute_result"
    }
   ],
   "source": [
    "name=\"Data science Masters\"\n",
    "name.swapcase()"
   ]
  },
  {
   "cell_type": "code",
   "execution_count": 4,
   "id": "bb9c0ccd-b332-4df3-b571-c816fc225e4e",
   "metadata": {},
   "outputs": [
    {
     "data": {
      "text/plain": [
       "'Data Science Masters'"
      ]
     },
     "execution_count": 4,
     "metadata": {},
     "output_type": "execute_result"
    }
   ],
   "source": [
    "name.title()"
   ]
  },
  {
   "cell_type": "code",
   "execution_count": 6,
   "id": "b77ab426-8636-45e9-9ef9-82c6c87e3f5b",
   "metadata": {},
   "outputs": [
    {
     "data": {
      "text/plain": [
       "'Data science masters'"
      ]
     },
     "execution_count": 6,
     "metadata": {},
     "output_type": "execute_result"
    }
   ],
   "source": [
    "name.capitalize()"
   ]
  },
  {
   "cell_type": "markdown",
   "id": "e2a76cf4-d0cc-46cf-81a8-5916f14a5c59",
   "metadata": {
    "tags": []
   },
   "source": [
    "#Reversing a String"
   ]
  },
  {
   "cell_type": "code",
   "execution_count": 9,
   "id": "6aab47d0-70e4-48b8-a6b1-1672eb01eb2c",
   "metadata": {},
   "outputs": [
    {
     "data": {
      "text/plain": [
       "'sretsaM ecneics ataD'"
      ]
     },
     "execution_count": 9,
     "metadata": {},
     "output_type": "execute_result"
    }
   ],
   "source": [
    "name[::-1]"
   ]
  },
  {
   "cell_type": "code",
   "execution_count": 10,
   "id": "0d1c8703-b100-4ed3-9738-ddbe2c57ff21",
   "metadata": {},
   "outputs": [
    {
     "data": {
      "text/plain": [
       "<reversed at 0x7f4d2c2e1fc0>"
      ]
     },
     "execution_count": 10,
     "metadata": {},
     "output_type": "execute_result"
    }
   ],
   "source": [
    "reversed(name)"
   ]
  },
  {
   "cell_type": "code",
   "execution_count": 4,
   "id": "7069b04b-b507-48de-b4ac-7d5107f1da14",
   "metadata": {},
   "outputs": [
    {
     "data": {
      "text/plain": [
       "'s r e t s a M   e c n e i c s   a t a D'"
      ]
     },
     "execution_count": 4,
     "metadata": {},
     "output_type": "execute_result"
    }
   ],
   "source": [
    "\" \".join(reversed(name))"
   ]
  },
  {
   "cell_type": "code",
   "execution_count": 5,
   "id": "34ead1d8-cd4b-46b3-80be-d00159bc497f",
   "metadata": {},
   "outputs": [
    {
     "data": {
      "text/plain": [
       "'sretsaM ecneics ataD'"
      ]
     },
     "execution_count": 5,
     "metadata": {},
     "output_type": "execute_result"
    }
   ],
   "source": [
    "\"\".join(reversed(name))"
   ]
  },
  {
   "cell_type": "code",
   "execution_count": 16,
   "id": "04759b85-36e4-4531-9da3-273e5a2975d6",
   "metadata": {},
   "outputs": [
    {
     "data": {
      "text/plain": [
       "'D a t a   s c i e n c e   M a s t e r s'"
      ]
     },
     "execution_count": 16,
     "metadata": {},
     "output_type": "execute_result"
    }
   ],
   "source": [
    "\" \".join(name)"
   ]
  },
  {
   "cell_type": "code",
   "execution_count": 17,
   "id": "cf3a3748-582f-430c-8002-7db175f8054f",
   "metadata": {},
   "outputs": [
    {
     "data": {
      "text/plain": [
       "'a b c d'"
      ]
     },
     "execution_count": 17,
     "metadata": {},
     "output_type": "execute_result"
    }
   ],
   "source": [
    "\" \".join(\"abcd\")"
   ]
  },
  {
   "cell_type": "code",
   "execution_count": 18,
   "id": "aa81a229-8b0e-4ffd-8ec3-dbf2559ac6f2",
   "metadata": {},
   "outputs": [
    {
     "data": {
      "text/plain": [
       "'a monika b monika c monika d'"
      ]
     },
     "execution_count": 18,
     "metadata": {},
     "output_type": "execute_result"
    }
   ],
   "source": [
    "\" monika \".join(\"abcd\")"
   ]
  },
  {
   "cell_type": "code",
   "execution_count": 19,
   "id": "9dd1254f-5b7f-4e88-bc9e-c5d0809d6811",
   "metadata": {},
   "outputs": [
    {
     "data": {
      "text/plain": [
       "'a n t'"
      ]
     },
     "execution_count": 19,
     "metadata": {},
     "output_type": "execute_result"
    }
   ],
   "source": [
    "' '.join(\"ant\")"
   ]
  },
  {
   "cell_type": "code",
   "execution_count": 20,
   "id": "0795cf6a-f499-4254-bd18-93f652c91723",
   "metadata": {},
   "outputs": [
    {
     "data": {
      "text/plain": [
       "'t n a'"
      ]
     },
     "execution_count": 20,
     "metadata": {},
     "output_type": "execute_result"
    }
   ],
   "source": [
    "\" \".join(reversed(\"ant\"))"
   ]
  },
  {
   "cell_type": "code",
   "execution_count": 21,
   "id": "2d0244e5-0153-423d-a1cb-8dcc17027008",
   "metadata": {},
   "outputs": [
    {
     "data": {
      "text/plain": [
       "'t n a'"
      ]
     },
     "execution_count": 22,
     "metadata": {},
     "output_type": "execute_result"
    }
   ],
   "source": [
    "\" skills \".join(reversed(\"ant\"))"
   ]
  },
  {
   "cell_type": "code",
   "execution_count": 23,
   "id": "e7e9fb57-73c3-4041-a91b-1e14b1e04c13",
   "metadata": {},
   "outputs": [
    {
     "data": {
      "text/plain": [
       "'s ant l ant l ant i ant k ant s'"
      ]
     },
     "execution_count": 23,
     "metadata": {},
     "output_type": "execute_result"
    }
   ],
   "source": [
    "\" ant \".join(reversed(\"skills\"))"
   ]
  },
  {
   "cell_type": "code",
   "execution_count": 24,
   "id": "cbe59b28-852c-4d27-a87d-811203828a1d",
   "metadata": {},
   "outputs": [
    {
     "data": {
      "text/plain": [
       "['t', 'n', 'a']"
      ]
     },
     "execution_count": 24,
     "metadata": {},
     "output_type": "execute_result"
    }
   ],
   "source": [
    "list(reversed(\"ant\"))"
   ]
  },
  {
   "cell_type": "code",
   "execution_count": 25,
   "id": "f0821fd1-df95-4ab1-8bf0-b3460e9f212b",
   "metadata": {},
   "outputs": [
    {
     "data": {
      "text/plain": [
       "'<reversed object at 0x7f4d2c56bf10>'"
      ]
     },
     "execution_count": 25,
     "metadata": {},
     "output_type": "execute_result"
    }
   ],
   "source": [
    "str(reversed(\"ant\"))"
   ]
  },
  {
   "cell_type": "code",
   "execution_count": 31,
   "id": "cc1901a4-d7e7-4fc7-a35f-e528791b5a97",
   "metadata": {},
   "outputs": [
    {
     "data": {
      "text/plain": [
       "['s',\n",
       " 'r',\n",
       " 'e',\n",
       " 't',\n",
       " 's',\n",
       " 'a',\n",
       " 'M',\n",
       " ' ',\n",
       " 'e',\n",
       " 'c',\n",
       " 'n',\n",
       " 'e',\n",
       " 'i',\n",
       " 'c',\n",
       " 's',\n",
       " ' ',\n",
       " 'a',\n",
       " 't',\n",
       " 'a',\n",
       " 'D']"
      ]
     },
     "execution_count": 31,
     "metadata": {},
     "output_type": "execute_result"
    }
   ],
   "source": [
    "## type casting\n",
    "list(reversed(name))"
   ]
  },
  {
   "cell_type": "code",
   "execution_count": 28,
   "id": "535631fb-e16c-4833-887a-164d0051297f",
   "metadata": {},
   "outputs": [
    {
     "name": "stdout",
     "output_type": "stream",
     "text": [
      "sretsaM ecneics ataD"
     ]
    }
   ],
   "source": [
    "for i in list(reversed(name)):\n",
    "    print(i,end=\"\")"
   ]
  },
  {
   "cell_type": "code",
   "execution_count": null,
   "id": "cac4e02b-13d2-4fae-86e1-fa8a66fdc058",
   "metadata": {},
   "outputs": [],
   "source": [
    "# Removing Character from the end of the string"
   ]
  },
  {
   "cell_type": "code",
   "execution_count": 35,
   "id": "e2af1fb9-a387-4d9c-8957-6edfc2163da8",
   "metadata": {},
   "outputs": [
    {
     "data": {
      "text/plain": [
       "'PwSkills'"
      ]
     },
     "execution_count": 35,
     "metadata": {},
     "output_type": "execute_result"
    }
   ],
   "source": [
    "string_a=\" PwSkills \"\n",
    "string_a.strip(\" \")"
   ]
  },
  {
   "cell_type": "code",
   "execution_count": 38,
   "id": "c34fcd00-6a1c-4a98-b36a-4295b599ec46",
   "metadata": {},
   "outputs": [
    {
     "data": {
      "text/plain": [
       "'PwSkills '"
      ]
     },
     "execution_count": 38,
     "metadata": {},
     "output_type": "execute_result"
    }
   ],
   "source": [
    "string_a.lstrip(\" \")"
   ]
  },
  {
   "cell_type": "code",
   "execution_count": 39,
   "id": "c5f41d8e-671f-42ef-9540-b555195e2261",
   "metadata": {},
   "outputs": [
    {
     "data": {
      "text/plain": [
       "' PwSkills'"
      ]
     },
     "execution_count": 39,
     "metadata": {},
     "output_type": "execute_result"
    }
   ],
   "source": [
    "string_a.rstrip(\" \")"
   ]
  },
  {
   "cell_type": "code",
   "execution_count": 11,
   "id": "88dd3fba-73f6-4e5c-b047-1c15d00a0054",
   "metadata": {},
   "outputs": [
    {
     "data": {
      "text/plain": [
       "'Greeting from PwSkills'"
      ]
     },
     "execution_count": 11,
     "metadata": {},
     "output_type": "execute_result"
    }
   ],
   "source": [
    "string_n=\"Greeting to PwSkills\"\n",
    "string_n.replace(\"to\",\"from\")"
   ]
  },
  {
   "cell_type": "code",
   "execution_count": 45,
   "id": "27f46331-603d-49ab-80e9-163120ac1439",
   "metadata": {},
   "outputs": [
    {
     "data": {
      "text/plain": [
       "'Monika'"
      ]
     },
     "execution_count": 46,
     "metadata": {},
     "output_type": "execute_result"
    }
   ],
   "source": [
    "# characters are not replace\n",
    "name=\"Monika\"\n",
    "name.replace(\"m\",\"n\")"
   ]
  },
  {
   "cell_type": "code",
   "execution_count": 48,
   "id": "8485c8f6-23d1-46e5-be57-cf12fc574455",
   "metadata": {},
   "outputs": [
    {
     "data": {
      "text/plain": [
       "'PwSkills'"
      ]
     },
     "execution_count": 48,
     "metadata": {},
     "output_type": "execute_result"
    }
   ],
   "source": [
    "# But words can replace\n",
    "name.replace(\"Monika\" , \"PwSkills\")"
   ]
  },
  {
   "cell_type": "code",
   "execution_count": 10,
   "id": "ca86283d-8b5d-48ef-906c-baa020fad75c",
   "metadata": {},
   "outputs": [
    {
     "name": "stdout",
     "output_type": "stream",
     "text": [
      "[1, 2, 10, 4, 5, 6]\n"
     ]
    }
   ],
   "source": [
    "intt=[1,2,3,4,5,6] \n",
    "intt[2]=10\n",
    "print(intt)"
   ]
  },
  {
   "cell_type": "code",
   "execution_count": 13,
   "id": "935c0002-38ac-4f4f-a638-0a898392bf5e",
   "metadata": {},
   "outputs": [
    {
     "ename": "TypeError",
     "evalue": "'str' object does not support item assignment",
     "output_type": "error",
     "traceback": [
      "\u001b[0;31m---------------------------------------------------------------------------\u001b[0m",
      "\u001b[0;31mTypeError\u001b[0m                                 Traceback (most recent call last)",
      "Cell \u001b[0;32mIn[13], line 1\u001b[0m\n\u001b[0;32m----> 1\u001b[0m \u001b[43mstring_n\u001b[49m\u001b[43m[\u001b[49m\u001b[38;5;241;43m2\u001b[39;49m\u001b[43m]\u001b[49m\u001b[38;5;241m=\u001b[39m\u001b[38;5;124m\"\u001b[39m\u001b[38;5;124mm\u001b[39m\u001b[38;5;124m\"\u001b[39m\n\u001b[1;32m      2\u001b[0m \u001b[38;5;28mprint\u001b[39m(string_n)\n",
      "\u001b[0;31mTypeError\u001b[0m: 'str' object does not support item assignment"
     ]
    }
   ],
   "source": [
    "string_n[2]=\"m\"\n",
    "print(string_n)"
   ]
  },
  {
   "cell_type": "code",
   "execution_count": 14,
   "id": "e17dde43-9a35-4cc1-9faf-b97d8a7aa72c",
   "metadata": {},
   "outputs": [
    {
     "data": {
      "text/plain": [
       "'Greeting to PwSkills'"
      ]
     },
     "execution_count": 14,
     "metadata": {},
     "output_type": "execute_result"
    }
   ],
   "source": [
    "string_n"
   ]
  },
  {
   "cell_type": "code",
   "execution_count": 15,
   "id": "29e4461c-7082-4600-b630-0ccb85dcb866",
   "metadata": {},
   "outputs": [
    {
     "data": {
      "text/plain": [
       "'Treeting to PwSkills'"
      ]
     },
     "execution_count": 15,
     "metadata": {},
     "output_type": "execute_result"
    }
   ],
   "source": [
    "string_n.replace(\"G\",\"T\")"
   ]
  },
  {
   "cell_type": "code",
   "execution_count": 18,
   "id": "22fecd06-c308-4a58-8d59-13c97ba1de10",
   "metadata": {},
   "outputs": [
    {
     "name": "stdout",
     "output_type": "stream",
     "text": [
      "Treeting to PwSkills\n"
     ]
    }
   ],
   "source": [
    "string_n=\"Greeting to PwSkills\"\n",
    "var_a=string_n.replace(\"G\", \"T\")\n",
    "print(var_a)"
   ]
  },
  {
   "cell_type": "code",
   "execution_count": 19,
   "id": "2e4d5fc6-8886-4342-b07d-25a7589901fa",
   "metadata": {},
   "outputs": [
    {
     "name": "stdout",
     "output_type": "stream",
     "text": [
      "140143782227888\n",
      "140143782227248\n"
     ]
    }
   ],
   "source": [
    "print(id(string_n))\n",
    "print(id(var_a))"
   ]
  },
  {
   "cell_type": "code",
   "execution_count": null,
   "id": "34829ee0-10aa-49cb-85f1-620e5ec80ddf",
   "metadata": {},
   "outputs": [],
   "source": [
    "# id is change bcs, replace first make a copy and then replace the character"
   ]
  },
  {
   "cell_type": "code",
   "execution_count": 22,
   "id": "cc1b35a4-f91f-4e61-baa3-daa6cc1ced2c",
   "metadata": {},
   "outputs": [
    {
     "data": {
      "text/plain": [
       "'Hello   World'"
      ]
     },
     "execution_count": 22,
     "metadata": {},
     "output_type": "execute_result"
    }
   ],
   "source": [
    "\"Hello \\tWorld\".expandtabs()"
   ]
  },
  {
   "cell_type": "code",
   "execution_count": 25,
   "id": "941374b5-6c9c-4b80-89d1-41570c389e54",
   "metadata": {},
   "outputs": [],
   "source": [
    "STR1=\"Welcome to PwSkills.Welcome to Dat ceince Masters\""
   ]
  },
  {
   "cell_type": "code",
   "execution_count": 26,
   "id": "d89c23c9-8ccf-4282-b10e-5315ca3c6ee2",
   "metadata": {},
   "outputs": [
    {
     "data": {
      "text/plain": [
       "'Welcome to PwSkills.Welcome to Data Sceince Masters'"
      ]
     },
     "execution_count": 26,
     "metadata": {},
     "output_type": "execute_result"
    }
   ],
   "source": [
    "STR1.replace(\"Dat\", \"Data\").replace(\"ceince\",\"Sceince\")"
   ]
  },
  {
   "cell_type": "code",
   "execution_count": 28,
   "id": "6366ceb9-dc15-4c6d-aacf-c0c3c27f0b4c",
   "metadata": {},
   "outputs": [
    {
     "data": {
      "text/plain": [
       "False"
      ]
     },
     "execution_count": 28,
     "metadata": {},
     "output_type": "execute_result"
    }
   ],
   "source": [
    "STR1.isupper()"
   ]
  },
  {
   "cell_type": "code",
   "execution_count": 30,
   "id": "d2787380-d30c-4595-a0c4-81df71317031",
   "metadata": {},
   "outputs": [
    {
     "data": {
      "text/plain": [
       "True"
      ]
     },
     "execution_count": 30,
     "metadata": {},
     "output_type": "execute_result"
    }
   ],
   "source": [
    "n=\"MONIKA\"\n",
    "n.isupper()"
   ]
  },
  {
   "cell_type": "code",
   "execution_count": 33,
   "id": "6a7324d7-5da1-4ad0-86ae-94071ca094c3",
   "metadata": {},
   "outputs": [
    {
     "data": {
      "text/plain": [
       "False"
      ]
     },
     "execution_count": 33,
     "metadata": {},
     "output_type": "execute_result"
    }
   ],
   "source": [
    "n.isspace()"
   ]
  },
  {
   "cell_type": "code",
   "execution_count": 36,
   "id": "aa23dd63-fb4c-4abf-840a-6a33bd3ec867",
   "metadata": {},
   "outputs": [
    {
     "data": {
      "text/plain": [
       "True"
      ]
     },
     "execution_count": 36,
     "metadata": {},
     "output_type": "execute_result"
    }
   ],
   "source": [
    "\" \" .isspace()"
   ]
  },
  {
   "cell_type": "code",
   "execution_count": 41,
   "id": "f4fac408-ab36-4d89-bb8f-d678d0ba7d67",
   "metadata": {},
   "outputs": [
    {
     "name": "stdout",
     "output_type": "stream",
     "text": [
      "Hello\n"
     ]
    }
   ],
   "source": [
    "if \" \".isspace():\n",
    "    print(\"Hello\")"
   ]
  },
  {
   "cell_type": "code",
   "execution_count": 8,
   "id": "6e192249-2d6f-4afd-940a-f0d434ab6b81",
   "metadata": {},
   "outputs": [
    {
     "data": {
      "text/plain": [
       "True"
      ]
     },
     "execution_count": 8,
     "metadata": {},
     "output_type": "execute_result"
    }
   ],
   "source": [
    "str2=\"PwSkills\"\n",
    "str2.endswith(\"s\")"
   ]
  },
  {
   "cell_type": "code",
   "execution_count": 43,
   "id": "2fd0ecf5-91ee-4fd5-b0a1-7a20f49a7be9",
   "metadata": {},
   "outputs": [
    {
     "data": {
      "text/plain": [
       "False"
      ]
     },
     "execution_count": 43,
     "metadata": {},
     "output_type": "execute_result"
    }
   ],
   "source": [
    "str2.startswith(\"s\")"
   ]
  },
  {
   "cell_type": "markdown",
   "id": "3dfc0343-6bc3-45fa-8a12-664a7f9cf45b",
   "metadata": {
    "tags": []
   },
   "source": [
    "#Check if all the char in string are alphanumeric"
   ]
  },
  {
   "cell_type": "code",
   "execution_count": 45,
   "id": "b0e2d6b3-0cf1-4e88-81dc-cddd3921992e",
   "metadata": {},
   "outputs": [
    {
     "data": {
      "text/plain": [
       "True"
      ]
     },
     "execution_count": 45,
     "metadata": {},
     "output_type": "execute_result"
    }
   ],
   "source": [
    "a=\"abcde12345fghij\"\n",
    "a.isalnum()"
   ]
  },
  {
   "cell_type": "code",
   "execution_count": 62,
   "id": "f5c0a2dd-76dd-4415-9864-dc1f89afb8b8",
   "metadata": {},
   "outputs": [
    {
     "data": {
      "text/plain": [
       "52"
      ]
     },
     "execution_count": 62,
     "metadata": {},
     "output_type": "execute_result"
    }
   ],
   "source": [
    "## to count no. of character in the string\n",
    "str1=\"Welcome to PwSkills.Welcome to Data Sceince Masters\"\n",
    "str1.count(\"\")\n"
   ]
  },
  {
   "cell_type": "code",
   "execution_count": 60,
   "id": "8018e97f-f33c-4780-b8e9-a900a4a97464",
   "metadata": {},
   "outputs": [
    {
     "data": {
      "text/plain": [
       "51"
      ]
     },
     "execution_count": 60,
     "metadata": {},
     "output_type": "execute_result"
    }
   ],
   "source": [
    "len(str1)\n"
   ]
  },
  {
   "cell_type": "code",
   "execution_count": null,
   "id": "9ad1cec0-6834-41ac-b944-b4d649e6709c",
   "metadata": {},
   "outputs": [],
   "source": [
    "str2=\"PwSkills\""
   ]
  },
  {
   "cell_type": "code",
   "execution_count": 16,
   "id": "e9de2369-f704-48e7-a0ff-47c47ff46d46",
   "metadata": {},
   "outputs": [
    {
     "name": "stdout",
     "output_type": "stream",
     "text": [
      "Pn wn Sn kn in ln ln sn "
     ]
    }
   ],
   "source": [
    "for i in str2:\n",
    "    print(i,end=\"\")"
   ]
  },
  {
   "cell_type": "code",
   "execution_count": 20,
   "id": "c04f1c0d-9b0e-4a28-bb4f-2e7fb93882f6",
   "metadata": {},
   "outputs": [
    {
     "name": "stdout",
     "output_type": "stream",
     "text": [
      "8\n"
     ]
    }
   ],
   "source": [
    "x=0\n",
    "for i in str2:\n",
    "     x=x+1\n",
    "print(x)    "
   ]
  },
  {
   "cell_type": "code",
   "execution_count": 10,
   "id": "cb4bd025-af03-4b05-a001-5d0b32802dc4",
   "metadata": {},
   "outputs": [
    {
     "data": {
      "text/plain": [
       "8"
      ]
     },
     "execution_count": 10,
     "metadata": {},
     "output_type": "execute_result"
    }
   ],
   "source": [
    "len(str2)"
   ]
  },
  {
   "cell_type": "code",
   "execution_count": 30,
   "id": "9082c774-f59a-4204-a927-b6b998d77010",
   "metadata": {},
   "outputs": [
    {
     "name": "stdout",
     "output_type": "stream",
     "text": [
      "1 = P\n",
      "2 = w\n",
      "3 = S\n",
      "4 = k\n",
      "5 = i\n",
      "6 = l\n",
      "7 = l\n",
      "8 = s\n"
     ]
    }
   ],
   "source": [
    "count=0\n",
    "for i in str2:\n",
    "    count=count+1\n",
    "    print(count,\"=\",i)"
   ]
  },
  {
   "cell_type": "code",
   "execution_count": 84,
   "id": "773da765-4878-4cc2-a727-419ec7a06247",
   "metadata": {},
   "outputs": [
    {
     "name": "stdout",
     "output_type": "stream",
     "text": [
      "0\n",
      "1\n",
      "2\n",
      "3\n",
      "4\n",
      "5\n",
      "6\n",
      "7\n"
     ]
    }
   ],
   "source": [
    "for c in range(0,8):\n",
    "    print(c)"
   ]
  },
  {
   "cell_type": "code",
   "execution_count": null,
   "id": "924b947e-996c-47cb-9ad6-419ef335337a",
   "metadata": {},
   "outputs": [
    {
     "name": "stdout",
     "output_type": "stream",
     "text": [
      "0 = P\n",
      "1 = w\n",
      "2 = S\n",
      "3 = k\n",
      "4 = i\n",
      "5 = l\n",
      "6 = l\n",
      "7 = s\n"
     ]
    }
   ],
   "source": [
    "for c in range(len(str2)):\n",
    "    print(c,\"=\",str2[c])"
   ]
  },
  {
   "cell_type": "code",
   "execution_count": 22,
   "id": "245990c9-39b3-4dd7-b59e-e8261a045789",
   "metadata": {},
   "outputs": [
    {
     "name": "stdout",
     "output_type": "stream",
     "text": [
      "6\n"
     ]
    }
   ],
   "source": [
    "lst=[1,2,3,\"mo\",5,6]\n",
    "a=0\n",
    "for i in lst:\n",
    "    a=a+1\n",
    "print(a)"
   ]
  },
  {
   "cell_type": "code",
   "execution_count": 26,
   "id": "2a06bc13-bbd0-48d0-8537-e7d5fe161a06",
   "metadata": {},
   "outputs": [
    {
     "name": "stdout",
     "output_type": "stream",
     "text": [
      "6\n"
     ]
    }
   ],
   "source": [
    "li=[\"monika\",\"Radhika\",1,2,3,\"Akash\"]\n",
    "a=0\n",
    "for x in li:\n",
    "    a=a+1 \n",
    "print(a)\n",
    "    \n",
    "    "
   ]
  },
  {
   "cell_type": "code",
   "execution_count": null,
   "id": "d2346dc3-b24b-4a6d-9601-935e8ff370e9",
   "metadata": {},
   "outputs": [],
   "source": [
    "## we can use index to iterate string reverse direction"
   ]
  },
  {
   "cell_type": "code",
   "execution_count": 34,
   "id": "dbda3008-8b5f-41eb-86b0-385d40ef3ba9",
   "metadata": {},
   "outputs": [
    {
     "data": {
      "text/plain": [
       "range(0, 8)"
      ]
     },
     "execution_count": 34,
     "metadata": {},
     "output_type": "execute_result"
    }
   ],
   "source": [
    "range(len(str2))"
   ]
  },
  {
   "cell_type": "code",
   "execution_count": 35,
   "id": "e93975ca-cd5a-46fd-83da-eed5d3863229",
   "metadata": {},
   "outputs": [
    {
     "data": {
      "text/plain": [
       "range(0, 7)"
      ]
     },
     "execution_count": 35,
     "metadata": {},
     "output_type": "execute_result"
    }
   ],
   "source": [
    "range(len(str2)-1)"
   ]
  },
  {
   "cell_type": "code",
   "execution_count": 43,
   "id": "2473d271-8dcf-49a5-9398-3231bfa80af0",
   "metadata": {},
   "outputs": [
    {
     "data": {
      "text/plain": [
       "(7, -2, -1)"
      ]
     },
     "execution_count": 44,
     "metadata": {},
     "output_type": "execute_result"
    }
   ],
   "source": [
    "len(str2)-1,-1,-1"
   ]
  },
  {
   "cell_type": "code",
   "execution_count": 59,
   "id": "1cbb7cd2-82b4-42b4-89e9-766323095e2b",
   "metadata": {},
   "outputs": [
    {
     "name": "stdout",
     "output_type": "stream",
     "text": [
      "s\n",
      "l\n",
      "l\n",
      "i\n",
      "k\n",
      "S\n",
      "w\n",
      "P\n"
     ]
    }
   ],
   "source": [
    "for x in range(len(str2)-1,-1,-1):\n",
    "    print(str2[x])"
   ]
  },
  {
   "cell_type": "code",
   "execution_count": 64,
   "id": "f760f54d-6c68-4f83-a33a-2b0afb4cb7aa",
   "metadata": {},
   "outputs": [
    {
     "name": "stdout",
     "output_type": "stream",
     "text": [
      "s\n"
     ]
    }
   ],
   "source": [
    "st=\"PwSkills\"\n",
    "ch=len(st)-1\n",
    "print(st[ch])"
   ]
  },
  {
   "cell_type": "code",
   "execution_count": 60,
   "id": "72a4d551-485b-4181-885a-b1d2ce3a83f3",
   "metadata": {},
   "outputs": [
    {
     "name": "stdout",
     "output_type": "stream",
     "text": [
      "s\n",
      "l\n",
      "l\n",
      "i\n",
      "k\n",
      "S\n",
      "w\n",
      "P\n"
     ]
    }
   ],
   "source": [
    "st=\"PwSkills\"\n",
    "ch=len(st)-1\n",
    "while ch>=0:\n",
    "    print(st[ch])\n",
    "    ch=ch-1\n"
   ]
  },
  {
   "cell_type": "code",
   "execution_count": 75,
   "id": "5b59500d-e84d-4b99-8dad-6e1034095db1",
   "metadata": {},
   "outputs": [
    {
     "name": "stdout",
     "output_type": "stream",
     "text": [
      "s\n",
      "l\n",
      "l\n",
      "i\n",
      "k\n",
      "S\n",
      "w\n",
      "P\n"
     ]
    }
   ],
   "source": [
    "st=\"PwSkills\"\n",
    "ch=len(st)-1\n",
    "while ch>=0:\n",
    "    print(st[ch])\n",
    "    ch=ch-1"
   ]
  },
  {
   "cell_type": "code",
   "execution_count": 80,
   "id": "19a64d6c-b759-40a0-a1f6-4efe680d1b37",
   "metadata": {},
   "outputs": [
    {
     "name": "stdout",
     "output_type": "stream",
     "text": [
      "8\n"
     ]
    }
   ],
   "source": [
    "x=0\n",
    "for a in st:\n",
    "    x=x+1\n",
    "print(x)\n",
    "    "
   ]
  },
  {
   "cell_type": "code",
   "execution_count": 87,
   "id": "a5f1c105-c4ce-485e-bb0c-430d84e1a4ec",
   "metadata": {},
   "outputs": [
    {
     "data": {
      "text/plain": [
       "('s', 'S', 'k')"
      ]
     },
     "execution_count": 87,
     "metadata": {},
     "output_type": "execute_result"
    }
   ],
   "source": [
    "st[7],st[2],st[3]"
   ]
  },
  {
   "cell_type": "code",
   "execution_count": 96,
   "id": "63326ae5-2278-4888-b5db-b1e079ab0ea4",
   "metadata": {},
   "outputs": [
    {
     "name": "stdout",
     "output_type": "stream",
     "text": [
      "s l l i k S w P "
     ]
    }
   ],
   "source": [
    "for i in range(len(st)):\n",
    "    print(st[len(st)-(i+1)],end=\" \")"
   ]
  },
  {
   "cell_type": "code",
   "execution_count": 94,
   "id": "51582333-48af-4018-b5c3-2f559782dee9",
   "metadata": {},
   "outputs": [
    {
     "data": {
      "text/plain": [
       "8"
      ]
     },
     "execution_count": 94,
     "metadata": {},
     "output_type": "execute_result"
    }
   ],
   "source": [
    "len(st)"
   ]
  },
  {
   "cell_type": "code",
   "execution_count": 102,
   "id": "a08a2fa5-f8e0-4963-b46b-83d52a3996ba",
   "metadata": {},
   "outputs": [],
   "source": [
    "name=\"pwskills\"\n",
    "vowels=\"AeEeIiOoUu\"\n"
   ]
  },
  {
   "cell_type": "code",
   "execution_count": 105,
   "id": "f03d256c-a679-465d-93f7-85566faf9b85",
   "metadata": {},
   "outputs": [
    {
     "name": "stdout",
     "output_type": "stream",
     "text": [
      "p is not a vowel\n",
      "w is not a vowel\n",
      "s is not a vowel\n",
      "k is not a vowel\n",
      "i is a vowel\n",
      "l is not a vowel\n",
      "l is not a vowel\n",
      "s is not a vowel\n"
     ]
    }
   ],
   "source": [
    "for ch in name:\n",
    "    if ch in vowels:\n",
    "        print(f\"{ch} is a vowel\")\n",
    "    else:\n",
    "        print(\"{} is not a vowel\".format(ch))"
   ]
  },
  {
   "cell_type": "markdown",
   "id": "8e9dc52b-813a-4913-afba-219aaedc6c3c",
   "metadata": {},
   "source": [
    "#List"
   ]
  },
  {
   "cell_type": "code",
   "execution_count": 106,
   "id": "9114cf37-105e-48b7-85f7-c0a370b90730",
   "metadata": {},
   "outputs": [
    {
     "data": {
      "text/plain": [
       "list"
      ]
     },
     "execution_count": 106,
     "metadata": {},
     "output_type": "execute_result"
    }
   ],
   "source": [
    "type([])"
   ]
  },
  {
   "cell_type": "code",
   "execution_count": 116,
   "id": "44cb8447-5383-489d-ba0d-239fd65b58d0",
   "metadata": {},
   "outputs": [
    {
     "data": {
      "text/plain": [
       "['data', 'sceince']"
      ]
     },
     "execution_count": 116,
     "metadata": {},
     "output_type": "execute_result"
    }
   ],
   "source": [
    "\"data sceince\".split(\" \")"
   ]
  },
  {
   "cell_type": "code",
   "execution_count": 117,
   "id": "7abd76c9-75a8-48ab-a554-15cbf9dd1cb3",
   "metadata": {},
   "outputs": [
    {
     "data": {
      "text/plain": [
       "'PwSkills'"
      ]
     },
     "execution_count": 117,
     "metadata": {},
     "output_type": "execute_result"
    }
   ],
   "source": [
    "str2"
   ]
  },
  {
   "cell_type": "code",
   "execution_count": 127,
   "id": "455969ed-3638-4de0-ae3a-eb414dfa7e7d",
   "metadata": {},
   "outputs": [
    {
     "data": {
      "text/plain": [
       "['P', 'w', 'S', 'k', 'i', 'l', 'l', 's']"
      ]
     },
     "execution_count": 127,
     "metadata": {},
     "output_type": "execute_result"
    }
   ],
   "source": [
    "list(str2)"
   ]
  },
  {
   "cell_type": "code",
   "execution_count": 17,
   "id": "71b32e60-ad6a-47c9-8c3c-b80ab1b13147",
   "metadata": {},
   "outputs": [
    {
     "name": "stdout",
     "output_type": "stream",
     "text": [
      "Pw Skills Data Sceince Master\n"
     ]
    }
   ],
   "source": [
    "str1 = \"Pw Skills Data Sceince Master\"\n",
    "print(str1)"
   ]
  },
  {
   "cell_type": "code",
   "execution_count": 143,
   "id": "c2c9e0c4-fef0-4162-b336-b7a14e7760f0",
   "metadata": {},
   "outputs": [
    {
     "data": {
      "text/plain": [
       "['Pw', 'Skills', 'Data', 'Sceince', 'Master']"
      ]
     },
     "execution_count": 143,
     "metadata": {},
     "output_type": "execute_result"
    }
   ],
   "source": [
    "str1.split(\" \")"
   ]
  },
  {
   "cell_type": "code",
   "execution_count": 139,
   "id": "03ad771a-3d52-49e1-b5ac-0a76f44e0715",
   "metadata": {},
   "outputs": [
    {
     "data": {
      "text/plain": [
       "['Pw', 'Skills', 'Data', 'Sceince', 'Master']"
      ]
     },
     "execution_count": 139,
     "metadata": {},
     "output_type": "execute_result"
    }
   ],
   "source": [
    "list(str1.split(\" \"))"
   ]
  },
  {
   "cell_type": "code",
   "execution_count": null,
   "id": "fb09d369-eb7f-4eeb-bf0a-1c1beb13855c",
   "metadata": {},
   "outputs": [],
   "source": [
    "list1=str1.split(\" \")"
   ]
  },
  {
   "cell_type": "code",
   "execution_count": 94,
   "id": "79e5fba6-b6bc-44a7-b8ab-d274e79a10a8",
   "metadata": {},
   "outputs": [
    {
     "data": {
      "text/plain": [
       "['Pw', 'Skills', 'Data', 'Sceince', 'Master']"
      ]
     },
     "execution_count": 94,
     "metadata": {},
     "output_type": "execute_result"
    }
   ],
   "source": [
    "list1"
   ]
  },
  {
   "cell_type": "code",
   "execution_count": 95,
   "id": "164eddd8-ce0b-49eb-8085-a790cc4cbc8c",
   "metadata": {},
   "outputs": [
    {
     "data": {
      "text/plain": [
       "['Skills', 'Data', 'Sceince', 'Master']"
      ]
     },
     "execution_count": 95,
     "metadata": {},
     "output_type": "execute_result"
    }
   ],
   "source": [
    "list1[1:]"
   ]
  },
  {
   "cell_type": "code",
   "execution_count": 96,
   "id": "b767face-1afd-4324-9687-43d01bda9313",
   "metadata": {},
   "outputs": [],
   "source": [
    "list1[2]=\"Datas\""
   ]
  },
  {
   "cell_type": "code",
   "execution_count": 97,
   "id": "c7e07abb-4df9-4846-b8e2-9b9150da945f",
   "metadata": {},
   "outputs": [
    {
     "data": {
      "text/plain": [
       "['Pw', 'Skills', 'Datas', 'Sceince', 'Master']"
      ]
     },
     "execution_count": 97,
     "metadata": {},
     "output_type": "execute_result"
    }
   ],
   "source": [
    "list1"
   ]
  },
  {
   "cell_type": "code",
   "execution_count": 98,
   "id": "b9f115e4-1c86-4319-83df-4c77d20f21b8",
   "metadata": {},
   "outputs": [
    {
     "data": {
      "text/plain": [
       "['Master', 'Datas', 'Pw']"
      ]
     },
     "execution_count": 98,
     "metadata": {},
     "output_type": "execute_result"
    }
   ],
   "source": [
    "list1[::-2]"
   ]
  },
  {
   "cell_type": "code",
   "execution_count": 99,
   "id": "79a0a1d9-81c8-4076-9023-3b1c6f0d1bf7",
   "metadata": {},
   "outputs": [
    {
     "data": {
      "text/plain": [
       "['Pw']"
      ]
     },
     "execution_count": 99,
     "metadata": {},
     "output_type": "execute_result"
    }
   ],
   "source": [
    "list1[-5::-2]"
   ]
  },
  {
   "cell_type": "code",
   "execution_count": 100,
   "id": "2a8f6999-0d8a-4d36-ade5-aa8b57c610e8",
   "metadata": {},
   "outputs": [
    {
     "data": {
      "text/plain": [
       "['Pw', 'Skills', 'Datas', 'Sceince', 'Master']"
      ]
     },
     "execution_count": 100,
     "metadata": {},
     "output_type": "execute_result"
    }
   ],
   "source": [
    "list1"
   ]
  },
  {
   "cell_type": "code",
   "execution_count": 101,
   "id": "f2512aab-608c-484f-952a-75d1b04da690",
   "metadata": {},
   "outputs": [],
   "source": [
    "#concatenation"
   ]
  },
  {
   "cell_type": "code",
   "execution_count": 102,
   "id": "74b2be97-7ba1-490c-a90c-cdd6c75b9f1f",
   "metadata": {},
   "outputs": [
    {
     "data": {
      "text/plain": [
       "['Pw', 'Skills', 'Datas', 'Sceince', 'Master', 'new element', 3]"
      ]
     },
     "execution_count": 102,
     "metadata": {},
     "output_type": "execute_result"
    }
   ],
   "source": [
    "list1+[\"new element\" ,3]"
   ]
  },
  {
   "cell_type": "code",
   "execution_count": 103,
   "id": "eabd22bc-5ffa-4333-8a02-fed0f3e6b8a9",
   "metadata": {},
   "outputs": [
    {
     "data": {
      "text/plain": [
       "['Pw', 'Skills', 'Datas', 'Sceince', 'Master', ['new element', 3]]"
      ]
     },
     "execution_count": 103,
     "metadata": {},
     "output_type": "execute_result"
    }
   ],
   "source": [
    "list1+[[\"new element\" ,3]]"
   ]
  },
  {
   "cell_type": "code",
   "execution_count": 104,
   "id": "9c85c13a-5983-47dc-ae91-5e7149c129e3",
   "metadata": {},
   "outputs": [
    {
     "data": {
      "text/plain": [
       "['Pw', 'Skills', 'Datas', 'Sceince', 'Master', ['new element', 3]]"
      ]
     },
     "execution_count": 104,
     "metadata": {},
     "output_type": "execute_result"
    }
   ],
   "source": [
    "list2 = list1+[[\"new element\" ,3]]\n",
    "list2"
   ]
  },
  {
   "cell_type": "code",
   "execution_count": 105,
   "id": "fc9eff2f-9797-4e22-b0d6-607af3737d1b",
   "metadata": {},
   "outputs": [
    {
     "data": {
      "text/plain": [
       "'new element'"
      ]
     },
     "execution_count": 105,
     "metadata": {},
     "output_type": "execute_result"
    }
   ],
   "source": [
    "list2[-1][0]"
   ]
  },
  {
   "cell_type": "code",
   "execution_count": 106,
   "id": "70c83c0d-8e6c-4ad7-ac11-239ae58c3ccc",
   "metadata": {},
   "outputs": [
    {
     "data": {
      "text/plain": [
       "3"
      ]
     },
     "execution_count": 106,
     "metadata": {},
     "output_type": "execute_result"
    }
   ],
   "source": [
    "list2[-1][-1]"
   ]
  },
  {
   "cell_type": "code",
   "execution_count": 107,
   "id": "66fcb609-43a9-4d5c-ac37-2c790b049853",
   "metadata": {},
   "outputs": [
    {
     "data": {
      "text/plain": [
       "['Pw', 'Skills', 'Datas', 'Sceince', 'Master', ['new element', 6]]"
      ]
     },
     "execution_count": 107,
     "metadata": {},
     "output_type": "execute_result"
    }
   ],
   "source": [
    "list2[-1][1]=6\n",
    "list2"
   ]
  },
  {
   "cell_type": "code",
   "execution_count": 108,
   "id": "a5f86a32-ed70-4136-b51b-03bc66a20ebc",
   "metadata": {},
   "outputs": [
    {
     "data": {
      "text/plain": [
       "['Pw',\n",
       " 'Skills',\n",
       " 'Datas',\n",
       " 'Sceince',\n",
       " 'Master',\n",
       " 'Pw',\n",
       " 'Skills',\n",
       " 'Datas',\n",
       " 'Sceince',\n",
       " 'Master']"
      ]
     },
     "execution_count": 108,
     "metadata": {},
     "output_type": "execute_result"
    }
   ],
   "source": [
    "list1*2"
   ]
  },
  {
   "cell_type": "code",
   "execution_count": 109,
   "id": "55823eed-1a0f-44b7-9d35-a7b04b075ebd",
   "metadata": {},
   "outputs": [
    {
     "data": {
      "text/plain": [
       "['Pw', 'Skills', 'Datas', 'Sceince', 'Master', ['new element', 6]]"
      ]
     },
     "execution_count": 109,
     "metadata": {},
     "output_type": "execute_result"
    }
   ],
   "source": [
    "list2"
   ]
  },
  {
   "cell_type": "code",
   "execution_count": 110,
   "id": "78a2f808-d876-446b-83d7-6d70f0f7e514",
   "metadata": {},
   "outputs": [
    {
     "data": {
      "text/plain": [
       "['Mango', 'Cherry', 'Apple', 'Papaya', 'Banana']"
      ]
     },
     "execution_count": 110,
     "metadata": {},
     "output_type": "execute_result"
    }
   ],
   "source": [
    "fruits_list = [\"Mango\",\"Cherry\",\"Apple\",\"Papaya\",\"Banana\"]\n",
    "fruits_list"
   ]
  },
  {
   "cell_type": "code",
   "execution_count": 111,
   "id": "f836f77e-d566-4bdb-94a5-2459966d2cd9",
   "metadata": {},
   "outputs": [
    {
     "name": "stdout",
     "output_type": "stream",
     "text": [
      "1000\n",
      "900\n",
      "800\n",
      "700\n",
      "600\n",
      "500\n",
      "400\n",
      "300\n",
      "200\n",
      "100\n",
      "no money\n"
     ]
    }
   ],
   "source": [
    "atm=1000\n",
    "while atm>=100:\n",
    "    print(atm)\n",
    "    atm=atm-100\n",
    "else:\n",
    "    print(\"no money\")\n"
   ]
  },
  {
   "cell_type": "code",
   "execution_count": 112,
   "id": "5716c63b-c10d-478c-9102-89228e6835f7",
   "metadata": {},
   "outputs": [
    {
     "data": {
      "text/plain": [
       "['Pw', 'Skills', 'Datas', 'Sceince', 'Master', ['new element', 6]]"
      ]
     },
     "execution_count": 112,
     "metadata": {},
     "output_type": "execute_result"
    }
   ],
   "source": [
    "list2"
   ]
  },
  {
   "cell_type": "code",
   "execution_count": 113,
   "id": "3fbc0869-7e83-4b15-8394-6c790ec8f68e",
   "metadata": {},
   "outputs": [
    {
     "name": "stdout",
     "output_type": "stream",
     "text": [
      "present\n"
     ]
    }
   ],
   "source": [
    "if \"Sceince\" in list2:\n",
    "    print(\"present\")"
   ]
  },
  {
   "cell_type": "code",
   "execution_count": 114,
   "id": "a3f16a55-5510-448f-8369-45748cc1d9e9",
   "metadata": {},
   "outputs": [
    {
     "name": "stdout",
     "output_type": "stream",
     "text": [
      "yes\n"
     ]
    }
   ],
   "source": [
    "for x in list2:\n",
    "    if \"Sceince\" in x:\n",
    "        print(\"yes\")"
   ]
  },
  {
   "cell_type": "code",
   "execution_count": 115,
   "id": "d5ddf38e-22fa-41b4-8131-a784ff208a92",
   "metadata": {},
   "outputs": [
    {
     "name": "stdout",
     "output_type": "stream",
     "text": [
      "Sceince\n"
     ]
    }
   ],
   "source": [
    "for x in list2:\n",
    "    if x==\"Sceince\":\n",
    "        print(x)"
   ]
  },
  {
   "cell_type": "code",
   "execution_count": 116,
   "id": "f08bcc93-c821-45a5-b030-aaafe9d9c54e",
   "metadata": {},
   "outputs": [
    {
     "data": {
      "text/plain": [
       "True"
      ]
     },
     "execution_count": 116,
     "metadata": {},
     "output_type": "execute_result"
    }
   ],
   "source": [
    "li=[0,1,2,3,9,4,5,6]\n",
    "6 in li"
   ]
  },
  {
   "cell_type": "code",
   "execution_count": 117,
   "id": "513ecac9-aa3c-4d9e-b97a-b0240474b2e9",
   "metadata": {},
   "outputs": [
    {
     "data": {
      "text/plain": [
       "False"
      ]
     },
     "execution_count": 117,
     "metadata": {},
     "output_type": "execute_result"
    }
   ],
   "source": [
    "7 in li"
   ]
  },
  {
   "cell_type": "code",
   "execution_count": 118,
   "id": "86253999-24ee-4506-a7c0-ac19d1ab0c57",
   "metadata": {},
   "outputs": [],
   "source": [
    "lis1=[\"zebra\",\"monkey\",\"donkey\",\"lion\"]\n",
    "lis2=[5,6,2,3,5,7]"
   ]
  },
  {
   "cell_type": "code",
   "execution_count": 119,
   "id": "7d80b5e8-380f-47c5-a433-9396d1db1809",
   "metadata": {},
   "outputs": [
    {
     "name": "stdout",
     "output_type": "stream",
     "text": [
      "zebra\n",
      "7\n"
     ]
    }
   ],
   "source": [
    "print(max(lis1))\n",
    "print(max(lis2))"
   ]
  },
  {
   "cell_type": "code",
   "execution_count": 120,
   "id": "cf66b9ae-92d3-4d19-aa95-e76bc52fca6c",
   "metadata": {},
   "outputs": [
    {
     "name": "stdout",
     "output_type": "stream",
     "text": [
      "donkey\n",
      "2\n"
     ]
    }
   ],
   "source": [
    "print(min(lis1))\n",
    "print(min(lis2))\n"
   ]
  },
  {
   "cell_type": "code",
   "execution_count": 121,
   "id": "098c6f9a-9a93-4f26-a92c-cd05d8874c24",
   "metadata": {},
   "outputs": [],
   "source": [
    "#Append"
   ]
  },
  {
   "cell_type": "code",
   "execution_count": 122,
   "id": "7b36fc84-4c91-4c2d-ad16-a528c798fd74",
   "metadata": {},
   "outputs": [
    {
     "data": {
      "text/plain": [
       "[1, 2, 3, 4, 5, 6]"
      ]
     },
     "execution_count": 122,
     "metadata": {},
     "output_type": "execute_result"
    }
   ],
   "source": [
    "lst=[1,2,3,4,5,6]\n",
    "lst"
   ]
  },
  {
   "cell_type": "code",
   "execution_count": 123,
   "id": "756b0ba3-d53e-4d61-b8ef-53742c7bf395",
   "metadata": {},
   "outputs": [],
   "source": [
    "lst.append(\"Pwskills\")"
   ]
  },
  {
   "cell_type": "code",
   "execution_count": 124,
   "id": "92767223-9bae-45f2-bcf2-4e1610d3348a",
   "metadata": {},
   "outputs": [
    {
     "data": {
      "text/plain": [
       "[1, 2, 3, 4, 5, 6, 'Pwskills']"
      ]
     },
     "execution_count": 124,
     "metadata": {},
     "output_type": "execute_result"
    }
   ],
   "source": [
    "lst"
   ]
  },
  {
   "cell_type": "code",
   "execution_count": 125,
   "id": "3e0949f2-d1ca-4248-a1e0-a1b03ad593fe",
   "metadata": {},
   "outputs": [],
   "source": [
    "lst.append([\"data\",\"science\",\"master\"])"
   ]
  },
  {
   "cell_type": "code",
   "execution_count": 126,
   "id": "c3f35285-e5eb-447f-b543-59a0bf4f46b3",
   "metadata": {},
   "outputs": [
    {
     "data": {
      "text/plain": [
       "[1, 2, 3, 4, 5, 6, 'Pwskills', ['data', 'science', 'master']]"
      ]
     },
     "execution_count": 126,
     "metadata": {},
     "output_type": "execute_result"
    }
   ],
   "source": [
    "lst"
   ]
  },
  {
   "cell_type": "code",
   "execution_count": 127,
   "id": "dd407262-2c1f-4ccb-b4e6-486659e20324",
   "metadata": {},
   "outputs": [],
   "source": [
    "lis1=[\"zebra\",\"monkey\",\"donkey\",\"lion\"]"
   ]
  },
  {
   "cell_type": "code",
   "execution_count": 128,
   "id": "41696e20-72f5-44d6-afb4-3776be0a3d6e",
   "metadata": {},
   "outputs": [
    {
     "data": {
      "text/plain": [
       "'lion'"
      ]
     },
     "execution_count": 128,
     "metadata": {},
     "output_type": "execute_result"
    }
   ],
   "source": [
    "lis1.pop()"
   ]
  },
  {
   "cell_type": "code",
   "execution_count": 129,
   "id": "f8b593a8-f564-4157-aa76-45bb8d3f8296",
   "metadata": {},
   "outputs": [
    {
     "data": {
      "text/plain": [
       "['zebra', 'monkey', 'donkey']"
      ]
     },
     "execution_count": 129,
     "metadata": {},
     "output_type": "execute_result"
    }
   ],
   "source": [
    "lis1"
   ]
  },
  {
   "cell_type": "code",
   "execution_count": 130,
   "id": "b773fce1-9cd4-45f0-a605-bf16f092cfba",
   "metadata": {},
   "outputs": [
    {
     "data": {
      "text/plain": [
       "'donkey'"
      ]
     },
     "execution_count": 130,
     "metadata": {},
     "output_type": "execute_result"
    }
   ],
   "source": [
    "lis1.pop(2)"
   ]
  },
  {
   "cell_type": "code",
   "execution_count": 131,
   "id": "98ac54a8-8981-4a23-a4f2-4bcb1c519798",
   "metadata": {},
   "outputs": [
    {
     "data": {
      "text/plain": [
       "['zebra', 'monkey']"
      ]
     },
     "execution_count": 131,
     "metadata": {},
     "output_type": "execute_result"
    }
   ],
   "source": [
    "lis1"
   ]
  },
  {
   "cell_type": "code",
   "execution_count": 132,
   "id": "978a2334-6bc4-49bd-8efd-1c0874f9696d",
   "metadata": {},
   "outputs": [],
   "source": [
    "lis1=[\"zebra\",\"monkey\",\"donkey\",\"lion\"]"
   ]
  },
  {
   "cell_type": "code",
   "execution_count": 133,
   "id": "9b58cc56-e9f5-4fdf-9495-cecd0d8f45fa",
   "metadata": {},
   "outputs": [
    {
     "data": {
      "text/plain": [
       "['zebra', 'monkey', 'donkey', 'lion']"
      ]
     },
     "execution_count": 133,
     "metadata": {},
     "output_type": "execute_result"
    }
   ],
   "source": [
    "lis1"
   ]
  },
  {
   "cell_type": "code",
   "execution_count": 134,
   "id": "96e1f7f3-a2f4-42b0-9f9f-961c55078e68",
   "metadata": {},
   "outputs": [
    {
     "ename": "NameError",
     "evalue": "name 'lst1' is not defined",
     "output_type": "error",
     "traceback": [
      "\u001b[0;31m---------------------------------------------------------------------------\u001b[0m",
      "\u001b[0;31mNameError\u001b[0m                                 Traceback (most recent call last)",
      "Cell \u001b[0;32mIn[134], line 1\u001b[0m\n\u001b[0;32m----> 1\u001b[0m \u001b[43mlst1\u001b[49m[\u001b[38;5;241m100\u001b[39m]\n",
      "\u001b[0;31mNameError\u001b[0m: name 'lst1' is not defined"
     ]
    }
   ],
   "source": [
    "lst1[100]"
   ]
  },
  {
   "cell_type": "code",
   "execution_count": 135,
   "id": "d06e3f83-c868-40ca-b0f0-053dc54b299b",
   "metadata": {},
   "outputs": [],
   "source": [
    "#Sorting and Reverse method in list"
   ]
  },
  {
   "cell_type": "code",
   "execution_count": 136,
   "id": "ed4782c6-e749-4a05-8841-0981cada943d",
   "metadata": {},
   "outputs": [
    {
     "data": {
      "text/plain": [
       "['a', 'q', 'w', 'd', 'e', 'm']"
      ]
     },
     "execution_count": 136,
     "metadata": {},
     "output_type": "execute_result"
    }
   ],
   "source": [
    "new_list=['a','q','w','d','e','m']\n",
    "new_list"
   ]
  },
  {
   "cell_type": "code",
   "execution_count": 137,
   "id": "b50d0a36-ba44-47c9-9cd8-66dda4d9c6a8",
   "metadata": {},
   "outputs": [
    {
     "data": {
      "text/plain": [
       "['m', 'e', 'd', 'w', 'q', 'a']"
      ]
     },
     "execution_count": 137,
     "metadata": {},
     "output_type": "execute_result"
    }
   ],
   "source": [
    "new_list[::-1]"
   ]
  },
  {
   "cell_type": "code",
   "execution_count": 138,
   "id": "5d908635-d635-4c56-af45-cacbd4f43262",
   "metadata": {},
   "outputs": [
    {
     "data": {
      "text/plain": [
       "['a', 'q', 'w', 'd', 'e', 'm']"
      ]
     },
     "execution_count": 138,
     "metadata": {},
     "output_type": "execute_result"
    }
   ],
   "source": [
    "new_list"
   ]
  },
  {
   "cell_type": "code",
   "execution_count": 139,
   "id": "a4bcab74-8b72-45d4-886b-5407ef7e51be",
   "metadata": {},
   "outputs": [],
   "source": [
    "new_list.reverse()\n"
   ]
  },
  {
   "cell_type": "code",
   "execution_count": 140,
   "id": "e36acad7-314c-4aa6-938c-796b8a79e083",
   "metadata": {},
   "outputs": [
    {
     "data": {
      "text/plain": [
       "['m', 'e', 'd', 'w', 'q', 'a']"
      ]
     },
     "execution_count": 140,
     "metadata": {},
     "output_type": "execute_result"
    }
   ],
   "source": [
    "new_list"
   ]
  },
  {
   "cell_type": "code",
   "execution_count": 141,
   "id": "2fb48d5b-2a3e-4bfa-9177-bea78ec3d261",
   "metadata": {},
   "outputs": [
    {
     "data": {
      "text/plain": [
       "['a', 'd', 'e', 'm', 'q', 'w']"
      ]
     },
     "execution_count": 141,
     "metadata": {},
     "output_type": "execute_result"
    }
   ],
   "source": [
    "new_list.sort()\n",
    "new_list"
   ]
  },
  {
   "cell_type": "code",
   "execution_count": null,
   "id": "ad31571a-68de-4548-84f0-9af329adb698",
   "metadata": {},
   "outputs": [],
   "source": [
    "lst=[1,2,3,4,5,6]"
   ]
  },
  {
   "cell_type": "code",
   "execution_count": 143,
   "id": "3a3c686b-140d-45e9-982c-fe4c968a3df5",
   "metadata": {},
   "outputs": [],
   "source": [
    "lst.append(9)"
   ]
  },
  {
   "cell_type": "code",
   "execution_count": 153,
   "id": "c793da15-d301-4688-979a-6eb9d68cfd00",
   "metadata": {},
   "outputs": [],
   "source": [
    "lst.extend([\"Data\"])"
   ]
  },
  {
   "cell_type": "code",
   "execution_count": 154,
   "id": "85bda48c-93a2-4eb0-860a-47e96fe3f776",
   "metadata": {},
   "outputs": [
    {
     "data": {
      "text/plain": [
       "[1,\n",
       " 2,\n",
       " 3,\n",
       " 4,\n",
       " 5,\n",
       " 6,\n",
       " 'Pwskills',\n",
       " ['data', 'science', 'master'],\n",
       " 9,\n",
       " 'data',\n",
       " 'science',\n",
       " 'master',\n",
       " 'Data']"
      ]
     },
     "execution_count": 154,
     "metadata": {},
     "output_type": "execute_result"
    }
   ],
   "source": [
    "lst"
   ]
  },
  {
   "cell_type": "code",
   "execution_count": 157,
   "id": "cccacae0-8fe5-41e1-bd93-b6153f0d4d1f",
   "metadata": {},
   "outputs": [
    {
     "data": {
      "text/plain": [
       "[1, 2, 3, 5, 4, 6, 7]"
      ]
     },
     "execution_count": 157,
     "metadata": {},
     "output_type": "execute_result"
    }
   ],
   "source": [
    "lis=[1,2,3,5,4,6,7]\n",
    "lis"
   ]
  },
  {
   "cell_type": "code",
   "execution_count": 158,
   "id": "30b9f57e-6162-442c-9964-ec1fd96f0347",
   "metadata": {},
   "outputs": [
    {
     "data": {
      "text/plain": [
       "[1, 2, 3, 5, 4, 6, 7]"
      ]
     },
     "execution_count": 158,
     "metadata": {},
     "output_type": "execute_result"
    }
   ],
   "source": [
    "lis"
   ]
  },
  {
   "cell_type": "code",
   "execution_count": 160,
   "id": "1e865416-2922-45ab-96bc-859ef6b1844b",
   "metadata": {},
   "outputs": [],
   "source": [
    "lst1=[1,2,3]\n",
    "lst2=[4,5,6]\n",
    "lst3=[7,8,9]\n",
    "matrix=[lst1,lst2,lst3]"
   ]
  },
  {
   "cell_type": "code",
   "execution_count": 161,
   "id": "cf8a7dee-4fa4-4d60-ba03-3bb0803938d1",
   "metadata": {},
   "outputs": [
    {
     "data": {
      "text/plain": [
       "[[1, 2, 3], [4, 5, 6], [7, 8, 9]]"
      ]
     },
     "execution_count": 161,
     "metadata": {},
     "output_type": "execute_result"
    }
   ],
   "source": [
    "matrix"
   ]
  },
  {
   "cell_type": "code",
   "execution_count": 162,
   "id": "a47c6521-cf12-4bfb-8d6a-0a582a3e09bb",
   "metadata": {},
   "outputs": [
    {
     "data": {
      "text/plain": [
       "[4, 5, 6]"
      ]
     },
     "execution_count": 162,
     "metadata": {},
     "output_type": "execute_result"
    }
   ],
   "source": [
    "matrix[1]"
   ]
  },
  {
   "cell_type": "code",
   "execution_count": 163,
   "id": "3725a8f4-854e-4e91-83dd-0a785034da53",
   "metadata": {},
   "outputs": [
    {
     "data": {
      "text/plain": [
       "6"
      ]
     },
     "execution_count": 163,
     "metadata": {},
     "output_type": "execute_result"
    }
   ],
   "source": [
    "matrix[1][2]"
   ]
  },
  {
   "cell_type": "code",
   "execution_count": 164,
   "id": "1e264652-2018-4da0-8745-a072c1d26632",
   "metadata": {},
   "outputs": [
    {
     "data": {
      "text/plain": [
       "6"
      ]
     },
     "execution_count": 164,
     "metadata": {},
     "output_type": "execute_result"
    }
   ],
   "source": [
    "matrix[1][-1]"
   ]
  },
  {
   "cell_type": "code",
   "execution_count": 165,
   "id": "b5acce8f-120d-41e5-9e51-2f1e8d74f7bb",
   "metadata": {},
   "outputs": [
    {
     "data": {
      "text/plain": [
       "[8, 9]"
      ]
     },
     "execution_count": 165,
     "metadata": {},
     "output_type": "execute_result"
    }
   ],
   "source": [
    "matrix[2][1:]"
   ]
  },
  {
   "cell_type": "code",
   "execution_count": 168,
   "id": "a7317cb7-cf88-4411-bd6d-bc6faec9dc37",
   "metadata": {},
   "outputs": [
    {
     "data": {
      "text/plain": [
       "[7, 8]"
      ]
     },
     "execution_count": 168,
     "metadata": {},
     "output_type": "execute_result"
    }
   ],
   "source": [
    "matrix[2][:2]"
   ]
  },
  {
   "cell_type": "code",
   "execution_count": 169,
   "id": "852de492-0875-4ffe-a51f-8463b597f7be",
   "metadata": {},
   "outputs": [
    {
     "data": {
      "text/plain": [
       "[[1, 2, 3], [4, 5, 6], [7, 8, 9]]"
      ]
     },
     "execution_count": 169,
     "metadata": {},
     "output_type": "execute_result"
    }
   ],
   "source": [
    "matrix"
   ]
  },
  {
   "cell_type": "code",
   "execution_count": 170,
   "id": "9cd74f3b-295c-41d8-b791-f64de603179e",
   "metadata": {},
   "outputs": [
    {
     "data": {
      "text/plain": [
       "(1, 1, 2)"
      ]
     },
     "execution_count": 170,
     "metadata": {},
     "output_type": "execute_result"
    }
   ],
   "source": [
    "matrix[0][0],[1][0],[2][0]"
   ]
  },
  {
   "cell_type": "code",
   "execution_count": 171,
   "id": "1d1ba54b-e4a7-4c43-bedc-10633691d187",
   "metadata": {},
   "outputs": [
    {
     "data": {
      "text/plain": [
       "[0, 1, 2, 3, 4, 5, 6, 7, 8, 9, 10, 11, 12, 13, 14, 15, 16, 17, 18, 19]"
      ]
     },
     "execution_count": 171,
     "metadata": {},
     "output_type": "execute_result"
    }
   ],
   "source": [
    "# List Comprehension\n",
    "[ i for i in range(20)]"
   ]
  },
  {
   "cell_type": "code",
   "execution_count": 177,
   "id": "9e2f23b8-aa69-4fbe-9e7b-41c08529fbfa",
   "metadata": {},
   "outputs": [
    {
     "data": {
      "text/plain": [
       "[0,\n",
       " 'odd',\n",
       " 2,\n",
       " 'odd',\n",
       " 4,\n",
       " 'odd',\n",
       " 6,\n",
       " 'odd',\n",
       " 8,\n",
       " 'odd',\n",
       " 10,\n",
       " 'odd',\n",
       " 12,\n",
       " 'odd',\n",
       " 14,\n",
       " 'odd',\n",
       " 16,\n",
       " 'odd',\n",
       " 18,\n",
       " 'odd']"
      ]
     },
     "execution_count": 177,
     "metadata": {},
     "output_type": "execute_result"
    }
   ],
   "source": [
    "# List Comprehension\n",
    "[ i  if i%2==0  else \"odd\" for i in range(20)]"
   ]
  },
  {
   "cell_type": "code",
   "execution_count": 182,
   "id": "f658a304-c2c6-40ff-92c4-f1d1c8964133",
   "metadata": {},
   "outputs": [
    {
     "data": {
      "text/plain": [
       "[1, 2, 3, 4, 5, 6, 7, 8]"
      ]
     },
     "execution_count": 182,
     "metadata": {},
     "output_type": "execute_result"
    }
   ],
   "source": [
    "#Find the even number and odd number\n",
    "lst0=[1,2,3,4,5,6,7,8]\n",
    "lst0"
   ]
  },
  {
   "cell_type": "code",
   "execution_count": 185,
   "id": "b45d3d1c-a41b-4385-9d79-80a7f4cb6293",
   "metadata": {},
   "outputs": [
    {
     "name": "stdout",
     "output_type": "stream",
     "text": [
      "20\n",
      "16\n"
     ]
    }
   ],
   "source": [
    "e=0\n",
    "o=0\n",
    "for i in lst0:\n",
    "    if i%2==0:\n",
    "        e+=i\n",
    "    else:\n",
    "            o+=i\n",
    "print(e)\n",
    "print(o)\n",
    "        "
   ]
  },
  {
   "cell_type": "code",
   "execution_count": 189,
   "id": "afb8f0ef-385b-428f-83fd-f11b77ea1fcc",
   "metadata": {},
   "outputs": [
    {
     "data": {
      "text/plain": [
       "20"
      ]
     },
     "execution_count": 189,
     "metadata": {},
     "output_type": "execute_result"
    }
   ],
   "source": [
    "even=sum([num for num in lst0 if num%2==0])\n",
    "even"
   ]
  },
  {
   "cell_type": "code",
   "execution_count": 190,
   "id": "19652d32-84ca-41d9-98c2-2a98c8a7d942",
   "metadata": {},
   "outputs": [
    {
     "data": {
      "text/plain": [
       "16"
      ]
     },
     "execution_count": 190,
     "metadata": {},
     "output_type": "execute_result"
    }
   ],
   "source": [
    "odd=sum([num for num in lst0 if num%2!=0])\n",
    "odd"
   ]
  },
  {
   "cell_type": "code",
   "execution_count": 191,
   "id": "6220fa1e-d11c-4e1d-b396-e00adf78ee0f",
   "metadata": {},
   "outputs": [
    {
     "data": {
      "text/plain": [
       "[1, 2, 3, 4, 5, 6]"
      ]
     },
     "execution_count": 191,
     "metadata": {},
     "output_type": "execute_result"
    }
   ],
   "source": [
    "lst=[1,2,3,4,5,6]\n",
    "lst"
   ]
  },
  {
   "cell_type": "code",
   "execution_count": 192,
   "id": "58648408-301f-4c4c-a09c-71deb272d7ea",
   "metadata": {},
   "outputs": [
    {
     "data": {
      "text/plain": [
       "[3, 4, 5, 6, 7, 8, 9, 10]"
      ]
     },
     "execution_count": 192,
     "metadata": {},
     "output_type": "execute_result"
    }
   ],
   "source": [
    "[num+2 for num in lst0]"
   ]
  },
  {
   "cell_type": "code",
   "execution_count": 193,
   "id": "ffd18931-449e-40cc-9856-ec5dd65ddf85",
   "metadata": {},
   "outputs": [
    {
     "data": {
      "text/plain": [
       "[1, 4, 9, 16, 25, 36, 49, 64]"
      ]
     },
     "execution_count": 193,
     "metadata": {},
     "output_type": "execute_result"
    }
   ],
   "source": [
    "[num**2 for num in lst0]"
   ]
  },
  {
   "cell_type": "code",
   "execution_count": 196,
   "id": "efc704b1-fc04-43ec-ab76-634622e7c2ad",
   "metadata": {},
   "outputs": [
    {
     "data": {
      "text/plain": [
       "[-2, -1, 0, 1, 2, 3, 4]"
      ]
     },
     "execution_count": 196,
     "metadata": {},
     "output_type": "execute_result"
    }
   ],
   "source": [
    "# create a list only positive number\n",
    "number=[-2,-1,0,1,2,3,4]\n",
    "number"
   ]
  },
  {
   "cell_type": "code",
   "execution_count": 199,
   "id": "b54fdc1c-2b80-4624-9180-7a4d706b5f94",
   "metadata": {},
   "outputs": [
    {
     "data": {
      "text/plain": [
       "[1, 2, 3, 4]"
      ]
     },
     "execution_count": 199,
     "metadata": {},
     "output_type": "execute_result"
    }
   ],
   "source": [
    "[num for num in number if num>0]"
   ]
  },
  {
   "cell_type": "code",
   "execution_count": 201,
   "id": "11e4b74f-00ba-48ec-8569-42635989778b",
   "metadata": {},
   "outputs": [
    {
     "data": {
      "text/plain": [
       "['apple', 'banana', 'cherry', 'date']"
      ]
     },
     "execution_count": 201,
     "metadata": {},
     "output_type": "execute_result"
    }
   ],
   "source": [
    "# list of only first letters of words in a list\n",
    "words=[\"apple\",\"banana\",\"cherry\",\"date\"]\n",
    "words"
   ]
  },
  {
   "cell_type": "code",
   "execution_count": 206,
   "id": "4cd73cf3-07eb-4805-94db-b366c3463727",
   "metadata": {},
   "outputs": [
    {
     "data": {
      "text/plain": [
       "['a', 'b', 'c', 'd']"
      ]
     },
     "execution_count": 206,
     "metadata": {},
     "output_type": "execute_result"
    }
   ],
   "source": [
    "[ i[0] for i in words] "
   ]
  },
  {
   "cell_type": "code",
   "execution_count": null,
   "id": "6329bc3d-1d24-4661-be2f-2b9a9028d638",
   "metadata": {},
   "outputs": [],
   "source": [
    "(9/5)*temp+32"
   ]
  },
  {
   "cell_type": "code",
   "execution_count": 208,
   "id": "a5d47249-0629-4d9f-9b21-2a9be9721b36",
   "metadata": {},
   "outputs": [],
   "source": [
    "#Convert a list of temperatures from Celsius to Fahrenheit using list comprehension\n",
    "Celsius_temp=[0,10,20,30,40,50]"
   ]
  },
  {
   "cell_type": "code",
   "execution_count": 209,
   "id": "7ce37098-ac48-42e3-85de-f6d619898f39",
   "metadata": {},
   "outputs": [
    {
     "data": {
      "text/plain": [
       "[32.0, 50.0, 68.0, 86.0, 104.0, 122.0]"
      ]
     },
     "execution_count": 209,
     "metadata": {},
     "output_type": "execute_result"
    }
   ],
   "source": [
    "[(9/5)*x+32 for x in Celsius_temp] "
   ]
  },
  {
   "cell_type": "code",
   "execution_count": 211,
   "id": "830d7c7c-b04a-4d36-9a5b-0bd2cea4f9bf",
   "metadata": {},
   "outputs": [
    {
     "data": {
      "text/plain": [
       "[[1, 2, 3], [4, 5, 6], [7, 8, 9]]"
      ]
     },
     "execution_count": 211,
     "metadata": {},
     "output_type": "execute_result"
    }
   ],
   "source": [
    "#Flatten a list of lists into a single list\n",
    "lists=[[1,2,3],[4,5,6],[7,8,9]]\n",
    "lists"
   ]
  },
  {
   "cell_type": "code",
   "execution_count": 212,
   "id": "669cc5fd-4864-4ab8-b838-160f8bf0f4eb",
   "metadata": {},
   "outputs": [
    {
     "data": {
      "text/plain": [
       "[1, 2, 3, 4, 5, 6, 7, 8, 9]"
      ]
     },
     "execution_count": 212,
     "metadata": {},
     "output_type": "execute_result"
    }
   ],
   "source": [
    "[num for sublist in lists for num in sublist]"
   ]
  },
  {
   "cell_type": "code",
   "execution_count": 217,
   "id": "921c18b7-584b-4061-b567-c60e793eb78d",
   "metadata": {},
   "outputs": [
    {
     "data": {
      "text/plain": [
       "[1, 2, 3, 4, 5, 6, 7, 8, 9]"
      ]
     },
     "execution_count": 217,
     "metadata": {},
     "output_type": "execute_result"
    }
   ],
   "source": [
    "[x for num in lists for x in num ]"
   ]
  },
  {
   "cell_type": "code",
   "execution_count": null,
   "id": "7409d763-1a1a-4df9-a008-005a3610a3ea",
   "metadata": {},
   "outputs": [],
   "source": [
    "##Assignment\n",
    "## Using both code and list comprehension\n",
    "# list of only the prime numbers from a given list\n",
    "numbers=[1,2,3,4,5,6,7,8,9,10]"
   ]
  },
  {
   "cell_type": "code",
   "execution_count": null,
   "id": "59c77eb1-0b6e-495a-87ba-5eddcf95af5f",
   "metadata": {},
   "outputs": [],
   "source": [
    "# Create a list of all possible combinations of 2 elements from a list\n",
    "numbers=[1,2,3,4,5]"
   ]
  },
  {
   "cell_type": "code",
   "execution_count": null,
   "id": "a4f5338b-0f8e-48aa-8087-b46f953e6943",
   "metadata": {},
   "outputs": [],
   "source": []
  },
  {
   "cell_type": "code",
   "execution_count": null,
   "id": "aae0daff-a9df-43b1-a087-f22f6d0e3fa5",
   "metadata": {},
   "outputs": [],
   "source": []
  },
  {
   "cell_type": "code",
   "execution_count": null,
   "id": "c1c1dde6-150e-4153-98bd-2af33f10536e",
   "metadata": {},
   "outputs": [],
   "source": []
  },
  {
   "cell_type": "code",
   "execution_count": null,
   "id": "23577c37-c8ae-4188-b789-a9d14621fefa",
   "metadata": {},
   "outputs": [],
   "source": []
  },
  {
   "cell_type": "code",
   "execution_count": null,
   "id": "99fafcec-e87d-4b2b-a1cd-4069885672fe",
   "metadata": {},
   "outputs": [],
   "source": []
  }
 ],
 "metadata": {
  "kernelspec": {
   "display_name": "Python 3 (ipykernel)",
   "language": "python",
   "name": "python3"
  },
  "language_info": {
   "codemirror_mode": {
    "name": "ipython",
    "version": 3
   },
   "file_extension": ".py",
   "mimetype": "text/x-python",
   "name": "python",
   "nbconvert_exporter": "python",
   "pygments_lexer": "ipython3",
   "version": "3.10.8"
  }
 },
 "nbformat": 4,
 "nbformat_minor": 5
}
