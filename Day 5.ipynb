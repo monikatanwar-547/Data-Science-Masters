{
 "cells": [
  {
   "cell_type": "code",
   "execution_count": null,
   "id": "e55e2ab5-ff74-4579-b3e4-7698b47f9d92",
   "metadata": {},
   "outputs": [],
   "source": [
    "# Tuple\n"
   ]
  },
  {
   "cell_type": "code",
   "execution_count": 1,
   "id": "2173b219-b018-478e-90da-ff6f8120004b",
   "metadata": {},
   "outputs": [],
   "source": [
    "t=()"
   ]
  },
  {
   "cell_type": "code",
   "execution_count": 2,
   "id": "3502eab8-6db3-4efa-b0f0-e17ba8662468",
   "metadata": {},
   "outputs": [
    {
     "data": {
      "text/plain": [
       "tuple"
      ]
     },
     "execution_count": 2,
     "metadata": {},
     "output_type": "execute_result"
    }
   ],
   "source": [
    "type(t)"
   ]
  },
  {
   "cell_type": "code",
   "execution_count": 3,
   "id": "e46fbcbd-9e6a-41d1-a017-02c6a4deb1dd",
   "metadata": {},
   "outputs": [],
   "source": [
    "t1=(1,2,3,4,55.5,45.6,True,\"Monika\",20)"
   ]
  },
  {
   "cell_type": "code",
   "execution_count": 4,
   "id": "bf911733-95ba-4041-96b3-1964d39cde51",
   "metadata": {},
   "outputs": [
    {
     "data": {
      "text/plain": [
       "tuple"
      ]
     },
     "execution_count": 4,
     "metadata": {},
     "output_type": "execute_result"
    }
   ],
   "source": [
    "type(t1)\n"
   ]
  },
  {
   "cell_type": "code",
   "execution_count": 5,
   "id": "b0a98804-9677-4d92-aee4-55a785ea8beb",
   "metadata": {},
   "outputs": [
    {
     "data": {
      "text/plain": [
       "1"
      ]
     },
     "execution_count": 5,
     "metadata": {},
     "output_type": "execute_result"
    }
   ],
   "source": [
    "t1[0]"
   ]
  },
  {
   "cell_type": "code",
   "execution_count": 6,
   "id": "4f176dec-ad63-49d9-af2d-9f9ba04e50d9",
   "metadata": {},
   "outputs": [
    {
     "data": {
      "text/plain": [
       "(1, 2, 3, 4, 55.5, 45.6, True, 'Monika', 20)"
      ]
     },
     "execution_count": 6,
     "metadata": {},
     "output_type": "execute_result"
    }
   ],
   "source": [
    "t1=(1,2,3,4,55.5,45.6,True,\"Monika\",20)\n",
    "t1"
   ]
  },
  {
   "cell_type": "code",
   "execution_count": 7,
   "id": "cff21546-455d-430a-9c51-a63a1d2216b8",
   "metadata": {},
   "outputs": [
    {
     "data": {
      "text/plain": [
       "3"
      ]
     },
     "execution_count": 7,
     "metadata": {},
     "output_type": "execute_result"
    }
   ],
   "source": [
    "t1[2]"
   ]
  },
  {
   "cell_type": "code",
   "execution_count": 8,
   "id": "f49e6eb1-b7ee-4578-8c49-6f80a51aa6eb",
   "metadata": {},
   "outputs": [
    {
     "data": {
      "text/plain": [
       "20"
      ]
     },
     "execution_count": 8,
     "metadata": {},
     "output_type": "execute_result"
    }
   ],
   "source": [
    "t1[8]"
   ]
  },
  {
   "cell_type": "code",
   "execution_count": 9,
   "id": "5c2c2cc4-7ebc-453e-9aa2-d1b58cff4516",
   "metadata": {},
   "outputs": [
    {
     "data": {
      "text/plain": [
       "45.6"
      ]
     },
     "execution_count": 9,
     "metadata": {},
     "output_type": "execute_result"
    }
   ],
   "source": [
    "t1[5]"
   ]
  },
  {
   "cell_type": "code",
   "execution_count": 10,
   "id": "95daa6da-5dcb-4179-8fc0-e02182d069f3",
   "metadata": {},
   "outputs": [
    {
     "data": {
      "text/plain": [
       "(20, 'Monika', True, 45.6, 55.5, 4, 3, 2, 1)"
      ]
     },
     "execution_count": 10,
     "metadata": {},
     "output_type": "execute_result"
    }
   ],
   "source": [
    "t1[::-1]"
   ]
  },
  {
   "cell_type": "code",
   "execution_count": 11,
   "id": "c7e6ccf1-1469-49ed-8907-ca1b1fc922d8",
   "metadata": {},
   "outputs": [
    {
     "data": {
      "text/plain": [
       "(20, 'Monika', True, 45.6, 55.5, 4, 3, 2, 1)"
      ]
     },
     "execution_count": 11,
     "metadata": {},
     "output_type": "execute_result"
    }
   ],
   "source": [
    "t=t1[::-1]\n",
    "t"
   ]
  },
  {
   "cell_type": "code",
   "execution_count": 12,
   "id": "2b577cf7-12d4-4d49-9371-3d39c81a5381",
   "metadata": {},
   "outputs": [
    {
     "data": {
      "text/plain": [
       "(20, 'Monika', True)"
      ]
     },
     "execution_count": 12,
     "metadata": {},
     "output_type": "execute_result"
    }
   ],
   "source": [
    "t[0:3]"
   ]
  },
  {
   "cell_type": "code",
   "execution_count": 13,
   "id": "ad5fafd7-150e-4f7a-b1a7-82b8ffb9aea1",
   "metadata": {},
   "outputs": [
    {
     "data": {
      "text/plain": [
       "1"
      ]
     },
     "execution_count": 13,
     "metadata": {},
     "output_type": "execute_result"
    }
   ],
   "source": [
    "t.count(4)"
   ]
  },
  {
   "cell_type": "code",
   "execution_count": 14,
   "id": "4bf72a45-3274-4ca7-be8d-2e3a5dd69cc2",
   "metadata": {},
   "outputs": [
    {
     "data": {
      "text/plain": [
       "0"
      ]
     },
     "execution_count": 14,
     "metadata": {},
     "output_type": "execute_result"
    }
   ],
   "source": [
    "t.count(\"mo\")"
   ]
  },
  {
   "cell_type": "code",
   "execution_count": 15,
   "id": "967f8e7a-f4dc-42cb-bcf6-0752d6f293ea",
   "metadata": {},
   "outputs": [
    {
     "data": {
      "text/plain": [
       "2"
      ]
     },
     "execution_count": 15,
     "metadata": {},
     "output_type": "execute_result"
    }
   ],
   "source": [
    "t.index(1)"
   ]
  },
  {
   "cell_type": "code",
   "execution_count": 16,
   "id": "e3afbdd1-805c-4e10-ae1f-c9d9f2bbda39",
   "metadata": {},
   "outputs": [
    {
     "data": {
      "text/plain": [
       "2"
      ]
     },
     "execution_count": 16,
     "metadata": {},
     "output_type": "execute_result"
    }
   ],
   "source": [
    "t.index(True)"
   ]
  },
  {
   "cell_type": "code",
   "execution_count": 17,
   "id": "1968ab38-5de3-4b46-805b-8b947daf20ad",
   "metadata": {},
   "outputs": [
    {
     "data": {
      "text/plain": [
       "1"
      ]
     },
     "execution_count": 17,
     "metadata": {},
     "output_type": "execute_result"
    }
   ],
   "source": [
    "t.index(\"Monika\")"
   ]
  },
  {
   "cell_type": "code",
   "execution_count": 18,
   "id": "c08fe9f6-c878-451a-b718-ec607c1cec73",
   "metadata": {},
   "outputs": [
    {
     "data": {
      "text/plain": [
       "(20, 'Monika', True, 45.6, 55.5, 4, 3, 2, 1)"
      ]
     },
     "execution_count": 18,
     "metadata": {},
     "output_type": "execute_result"
    }
   ],
   "source": [
    "t"
   ]
  },
  {
   "cell_type": "code",
   "execution_count": 19,
   "id": "d50dea4f-37d3-4c38-a5d8-d1e8718f3f00",
   "metadata": {},
   "outputs": [
    {
     "data": {
      "text/plain": [
       "2"
      ]
     },
     "execution_count": 19,
     "metadata": {},
     "output_type": "execute_result"
    }
   ],
   "source": [
    "t.count(True)"
   ]
  },
  {
   "cell_type": "code",
   "execution_count": 20,
   "id": "a5c001e0-b587-4ea7-b110-8cc195ed9118",
   "metadata": {},
   "outputs": [
    {
     "data": {
      "text/plain": [
       "2"
      ]
     },
     "execution_count": 20,
     "metadata": {},
     "output_type": "execute_result"
    }
   ],
   "source": [
    "t.count(1)"
   ]
  },
  {
   "cell_type": "code",
   "execution_count": 21,
   "id": "71385cd7-17a1-435f-9d50-276aede6a64e",
   "metadata": {},
   "outputs": [
    {
     "data": {
      "text/plain": [
       "True"
      ]
     },
     "execution_count": 21,
     "metadata": {},
     "output_type": "execute_result"
    }
   ],
   "source": [
    "t[2]"
   ]
  },
  {
   "cell_type": "markdown",
   "id": "c8e6b60c-3f46-4ad9-b676-ab6e09f0487d",
   "metadata": {},
   "source": [
    "\"\"Tuples are basically follows Immutability concepts where it is not going to allow to change any element at a particular index\"\""
   ]
  },
  {
   "cell_type": "code",
   "execution_count": 22,
   "id": "f40074af-2f3d-4b72-a84b-85cdbef9d51c",
   "metadata": {},
   "outputs": [
    {
     "ename": "TypeError",
     "evalue": "'tuple' object does not support item assignment",
     "output_type": "error",
     "traceback": [
      "\u001b[0;31m---------------------------------------------------------------------------\u001b[0m",
      "\u001b[0;31mTypeError\u001b[0m                                 Traceback (most recent call last)",
      "Cell \u001b[0;32mIn[22], line 1\u001b[0m\n\u001b[0;32m----> 1\u001b[0m \u001b[43mt\u001b[49m\u001b[43m[\u001b[49m\u001b[38;5;241;43m0\u001b[39;49m\u001b[43m]\u001b[49m\u001b[38;5;241m=\u001b[39m\u001b[38;5;241m56\u001b[39m\n",
      "\u001b[0;31mTypeError\u001b[0m: 'tuple' object does not support item assignment"
     ]
    }
   ],
   "source": [
    "t[0]=56"
   ]
  },
  {
   "cell_type": "code",
   "execution_count": null,
   "id": "ec0bbf67-7711-4368-890d-45a7942770cb",
   "metadata": {},
   "outputs": [],
   "source": [
    "l=[1,2,3,4,5,6]\n",
    "l"
   ]
  },
  {
   "cell_type": "code",
   "execution_count": 23,
   "id": "5c42b6a2-b58a-433c-87e6-95a63c000e0e",
   "metadata": {},
   "outputs": [
    {
     "ename": "NameError",
     "evalue": "name 'l' is not defined",
     "output_type": "error",
     "traceback": [
      "\u001b[0;31m---------------------------------------------------------------------------\u001b[0m",
      "\u001b[0;31mNameError\u001b[0m                                 Traceback (most recent call last)",
      "Cell \u001b[0;32mIn[23], line 1\u001b[0m\n\u001b[0;32m----> 1\u001b[0m \u001b[43ml\u001b[49m[\u001b[38;5;241m5\u001b[39m]\u001b[38;5;241m=\u001b[39m\u001b[38;5;241m0\u001b[39m\n\u001b[1;32m      2\u001b[0m l\n",
      "\u001b[0;31mNameError\u001b[0m: name 'l' is not defined"
     ]
    }
   ],
   "source": [
    "l[5]=0\n",
    "l"
   ]
  },
  {
   "cell_type": "code",
   "execution_count": 24,
   "id": "ce8f2293-cc68-4e8b-88fc-f6caa24e2b3c",
   "metadata": {},
   "outputs": [
    {
     "data": {
      "text/plain": [
       "(20, 'Monika', True, 45.6, 55.5, 4, 3, 2, 1)"
      ]
     },
     "execution_count": 24,
     "metadata": {},
     "output_type": "execute_result"
    }
   ],
   "source": [
    "t"
   ]
  },
  {
   "cell_type": "code",
   "execution_count": 25,
   "id": "fcc69299-9a08-4efe-8c0e-6e437df64c3a",
   "metadata": {},
   "outputs": [
    {
     "name": "stdout",
     "output_type": "stream",
     "text": [
      "20 , Monika , True , 45.6 , 55.5 , 4 , 3 , 2 , 1 , "
     ]
    }
   ],
   "source": [
    "for i in t :\n",
    "    print(i,end=\" , \")"
   ]
  },
  {
   "cell_type": "code",
   "execution_count": 26,
   "id": "39419698-d6e4-438a-8929-28234e11b5d0",
   "metadata": {},
   "outputs": [
    {
     "name": "stdout",
     "output_type": "stream",
     "text": [
      "20 <class 'int'>\n",
      "Monika <class 'str'>\n",
      "True <class 'bool'>\n",
      "45.6 <class 'float'>\n",
      "55.5 <class 'float'>\n",
      "4 <class 'int'>\n",
      "3 <class 'int'>\n",
      "2 <class 'int'>\n",
      "1 <class 'int'>\n"
     ]
    }
   ],
   "source": [
    "for i in t :\n",
    "    print(i,type(i))"
   ]
  },
  {
   "cell_type": "code",
   "execution_count": 27,
   "id": "95ca0486-4f74-451c-8fc8-6fde06514bad",
   "metadata": {},
   "outputs": [
    {
     "data": {
      "text/plain": [
       "(1, 2, 3)"
      ]
     },
     "execution_count": 27,
     "metadata": {},
     "output_type": "execute_result"
    }
   ],
   "source": [
    "t1=(1,2,3)\n",
    "t1"
   ]
  },
  {
   "cell_type": "code",
   "execution_count": 28,
   "id": "8890e662-eb35-4d7f-8560-c090114b5867",
   "metadata": {},
   "outputs": [
    {
     "data": {
      "text/plain": [
       "(1, 2, 3, 1, 2, 3, 1, 2, 3)"
      ]
     },
     "execution_count": 28,
     "metadata": {},
     "output_type": "execute_result"
    }
   ],
   "source": [
    "t1*3\n"
   ]
  },
  {
   "cell_type": "code",
   "execution_count": 29,
   "id": "256ab4e0-c6ab-4102-9d2c-392f0576f8de",
   "metadata": {},
   "outputs": [
    {
     "data": {
      "text/plain": [
       "1"
      ]
     },
     "execution_count": 29,
     "metadata": {},
     "output_type": "execute_result"
    }
   ],
   "source": [
    "min(t1)"
   ]
  },
  {
   "cell_type": "code",
   "execution_count": 30,
   "id": "18ba7069-1226-4b27-8743-5f8d6f7706af",
   "metadata": {},
   "outputs": [
    {
     "data": {
      "text/plain": [
       "((2, 3, 5, 6, 9), (4, 6, 5, 3, 6))"
      ]
     },
     "execution_count": 30,
     "metadata": {},
     "output_type": "execute_result"
    }
   ],
   "source": [
    "t1=(2,3,5,6,9)\n",
    "t1\n",
    "t2=(4,6,5,3,6)\n",
    "t2\n",
    "t3=(t1,t2)\n",
    "t3"
   ]
  },
  {
   "cell_type": "code",
   "execution_count": 31,
   "id": "600db779-b34f-4c93-aba3-d9b6fa30c4b8",
   "metadata": {},
   "outputs": [
    {
     "data": {
      "text/plain": [
       "((1, 2, 3), [2, 4, 5])"
      ]
     },
     "execution_count": 31,
     "metadata": {},
     "output_type": "execute_result"
    }
   ],
   "source": [
    "t4=((1,2,3),[2,4,5])\n",
    "t4"
   ]
  },
  {
   "cell_type": "code",
   "execution_count": 32,
   "id": "c906cebd-8898-4887-85cc-bf42d6dd1d15",
   "metadata": {},
   "outputs": [
    {
     "data": {
      "text/plain": [
       "(2, 5, 8, 3, 9, 2)"
      ]
     },
     "execution_count": 32,
     "metadata": {},
     "output_type": "execute_result"
    }
   ],
   "source": [
    "t5=(2,5,8,3,9,2)\n",
    "t5"
   ]
  },
  {
   "cell_type": "code",
   "execution_count": 33,
   "id": "333460f2-9c62-4055-ab3c-ba95c0f424b3",
   "metadata": {},
   "outputs": [],
   "source": [
    "del t5"
   ]
  },
  {
   "cell_type": "code",
   "execution_count": 34,
   "id": "8c9f0cf4-6e33-415f-b3b8-a091bc604c10",
   "metadata": {},
   "outputs": [
    {
     "ename": "NameError",
     "evalue": "name 't5' is not defined",
     "output_type": "error",
     "traceback": [
      "\u001b[0;31m---------------------------------------------------------------------------\u001b[0m",
      "\u001b[0;31mNameError\u001b[0m                                 Traceback (most recent call last)",
      "Cell \u001b[0;32mIn[34], line 1\u001b[0m\n\u001b[0;32m----> 1\u001b[0m \u001b[43mt5\u001b[49m\n",
      "\u001b[0;31mNameError\u001b[0m: name 't5' is not defined"
     ]
    }
   ],
   "source": [
    "t5"
   ]
  },
  {
   "cell_type": "code",
   "execution_count": 35,
   "id": "c177edb2-c4e7-4eed-a35c-ddad6139c710",
   "metadata": {},
   "outputs": [
    {
     "data": {
      "text/plain": [
       "(1, 2, 3)"
      ]
     },
     "execution_count": 35,
     "metadata": {},
     "output_type": "execute_result"
    }
   ],
   "source": [
    "t=(1,2,3)\n",
    "t"
   ]
  },
  {
   "cell_type": "code",
   "execution_count": 36,
   "id": "09945036-f011-4a28-abe9-7f9fe4537c65",
   "metadata": {},
   "outputs": [
    {
     "data": {
      "text/plain": [
       "3"
      ]
     },
     "execution_count": 36,
     "metadata": {},
     "output_type": "execute_result"
    }
   ],
   "source": [
    "len(t)"
   ]
  },
  {
   "cell_type": "code",
   "execution_count": 37,
   "id": "20cbe75b-74c1-45b9-be6c-e6e72f2527af",
   "metadata": {},
   "outputs": [
    {
     "data": {
      "text/plain": [
       "False"
      ]
     },
     "execution_count": 37,
     "metadata": {},
     "output_type": "execute_result"
    }
   ],
   "source": [
    "5 in t"
   ]
  },
  {
   "cell_type": "code",
   "execution_count": 38,
   "id": "19a2af94-2e53-4cb1-84c4-7bbacc3c0db1",
   "metadata": {},
   "outputs": [
    {
     "data": {
      "text/plain": [
       "True"
      ]
     },
     "execution_count": 38,
     "metadata": {},
     "output_type": "execute_result"
    }
   ],
   "source": [
    "2 in t"
   ]
  },
  {
   "cell_type": "code",
   "execution_count": 39,
   "id": "1103faa9-9036-4124-8408-968d1efe6c97",
   "metadata": {},
   "outputs": [
    {
     "ename": "NameError",
     "evalue": "name 'l' is not defined",
     "output_type": "error",
     "traceback": [
      "\u001b[0;31m---------------------------------------------------------------------------\u001b[0m",
      "\u001b[0;31mNameError\u001b[0m                                 Traceback (most recent call last)",
      "Cell \u001b[0;32mIn[39], line 1\u001b[0m\n\u001b[0;32m----> 1\u001b[0m \u001b[43ml\u001b[49m\n",
      "\u001b[0;31mNameError\u001b[0m: name 'l' is not defined"
     ]
    }
   ],
   "source": [
    "l"
   ]
  },
  {
   "cell_type": "code",
   "execution_count": 40,
   "id": "11049086-661b-4c81-a4e6-957cf1c8b31f",
   "metadata": {},
   "outputs": [
    {
     "ename": "NameError",
     "evalue": "name 'l' is not defined",
     "output_type": "error",
     "traceback": [
      "\u001b[0;31m---------------------------------------------------------------------------\u001b[0m",
      "\u001b[0;31mNameError\u001b[0m                                 Traceback (most recent call last)",
      "Cell \u001b[0;32mIn[40], line 1\u001b[0m\n\u001b[0;32m----> 1\u001b[0m \u001b[43ml\u001b[49m\u001b[38;5;241m.\u001b[39mappend(\u001b[38;5;241m2\u001b[39m)\n",
      "\u001b[0;31mNameError\u001b[0m: name 'l' is not defined"
     ]
    }
   ],
   "source": [
    "l.append(2)"
   ]
  },
  {
   "cell_type": "code",
   "execution_count": 41,
   "id": "cca80e5f-52a0-40dc-88c6-4ea6e154bb64",
   "metadata": {},
   "outputs": [
    {
     "ename": "NameError",
     "evalue": "name 'l' is not defined",
     "output_type": "error",
     "traceback": [
      "\u001b[0;31m---------------------------------------------------------------------------\u001b[0m",
      "\u001b[0;31mNameError\u001b[0m                                 Traceback (most recent call last)",
      "Cell \u001b[0;32mIn[41], line 1\u001b[0m\n\u001b[0;32m----> 1\u001b[0m \u001b[43ml\u001b[49m\n",
      "\u001b[0;31mNameError\u001b[0m: name 'l' is not defined"
     ]
    }
   ],
   "source": [
    "l"
   ]
  },
  {
   "cell_type": "markdown",
   "id": "a0bbd591-3e92-4c3f-becc-034962c82312",
   "metadata": {},
   "source": [
    "## Set"
   ]
  },
  {
   "cell_type": "code",
   "execution_count": 42,
   "id": "20d4107c-175d-4e58-a2a1-b1e3db938bca",
   "metadata": {},
   "outputs": [
    {
     "data": {
      "text/plain": [
       "{}"
      ]
     },
     "execution_count": 42,
     "metadata": {},
     "output_type": "execute_result"
    }
   ],
   "source": [
    "s={}\n",
    "s"
   ]
  },
  {
   "cell_type": "code",
   "execution_count": 43,
   "id": "c284fa60-d66d-4e45-9c97-e2265d8f08be",
   "metadata": {},
   "outputs": [
    {
     "data": {
      "text/plain": [
       "dict"
      ]
     },
     "execution_count": 43,
     "metadata": {},
     "output_type": "execute_result"
    }
   ],
   "source": [
    "type(s)"
   ]
  },
  {
   "cell_type": "code",
   "execution_count": 44,
   "id": "5a47afa4-7aea-4597-9307-f42d0464a41d",
   "metadata": {},
   "outputs": [
    {
     "data": {
      "text/plain": [
       "{1, 2, 3, 4, 5, 6}"
      ]
     },
     "execution_count": 44,
     "metadata": {},
     "output_type": "execute_result"
    }
   ],
   "source": [
    "s1={1,2,3,4,5,6}\n",
    "s1"
   ]
  },
  {
   "cell_type": "code",
   "execution_count": 45,
   "id": "ccf8247e-760f-4da7-aa32-cabcef32818e",
   "metadata": {},
   "outputs": [
    {
     "data": {
      "text/plain": [
       "set"
      ]
     },
     "execution_count": 45,
     "metadata": {},
     "output_type": "execute_result"
    }
   ],
   "source": [
    "type(s1)"
   ]
  },
  {
   "cell_type": "code",
   "execution_count": 46,
   "id": "80ed94b0-6aba-4527-b3a2-8b666b31cef6",
   "metadata": {},
   "outputs": [
    {
     "data": {
      "text/plain": [
       "{1, 2, 3, 4, 5, 6, 7, 8, 9, 10, 23, 55, 75, 87}"
      ]
     },
     "execution_count": 46,
     "metadata": {},
     "output_type": "execute_result"
    }
   ],
   "source": [
    "s={1,2,3,4,5,5,6,6,6,87,55,55,55,87,23,23,75,10,8,7,9,5,4,6,1,23}\n",
    "s"
   ]
  },
  {
   "cell_type": "code",
   "execution_count": 47,
   "id": "72738f75-37e9-4d28-81cb-01e6ce8dc4db",
   "metadata": {},
   "outputs": [
    {
     "data": {
      "text/plain": [
       "[1, 2, 3, 4, 5, 6, 7, 8, 9, 10, 75, 55, 87, 23]"
      ]
     },
     "execution_count": 47,
     "metadata": {},
     "output_type": "execute_result"
    }
   ],
   "source": [
    "list(s)"
   ]
  },
  {
   "cell_type": "code",
   "execution_count": 48,
   "id": "a244ca90-65cf-403c-b1fb-a073cf3d09a6",
   "metadata": {},
   "outputs": [
    {
     "data": {
      "text/plain": [
       "(1, 2, 3, 4, 5, 6, 7, 8, 9, 10, 75, 55, 87, 23)"
      ]
     },
     "execution_count": 48,
     "metadata": {},
     "output_type": "execute_result"
    }
   ],
   "source": [
    "tuple(s)"
   ]
  },
  {
   "cell_type": "code",
   "execution_count": 49,
   "id": "478efd18-206c-41f8-b8c2-f38ff68ca6ce",
   "metadata": {},
   "outputs": [
    {
     "data": {
      "text/plain": [
       "[1, 2, 3, 4, 5, 6, 7, 8, 9, 10, 75, 55, 87, 23]"
      ]
     },
     "execution_count": 49,
     "metadata": {},
     "output_type": "execute_result"
    }
   ],
   "source": [
    "l=list(s)\n",
    "l"
   ]
  },
  {
   "cell_type": "code",
   "execution_count": 50,
   "id": "ba9603e6-1c7b-4386-a12a-a0f2eebf9ccc",
   "metadata": {},
   "outputs": [
    {
     "data": {
      "text/plain": [
       "{1, 2, 3, 4, 5, 6, 7, 8, 9, 10, 23, 55, 75, 87}"
      ]
     },
     "execution_count": 50,
     "metadata": {},
     "output_type": "execute_result"
    }
   ],
   "source": [
    "set(l)"
   ]
  },
  {
   "cell_type": "code",
   "execution_count": 51,
   "id": "6848def5-2655-4f1e-b01e-d1b0b16c88c4",
   "metadata": {},
   "outputs": [
    {
     "ename": "TypeError",
     "evalue": "unhashable type: 'list'",
     "output_type": "error",
     "traceback": [
      "\u001b[0;31m---------------------------------------------------------------------------\u001b[0m",
      "\u001b[0;31mTypeError\u001b[0m                                 Traceback (most recent call last)",
      "Cell \u001b[0;32mIn[51], line 1\u001b[0m\n\u001b[0;32m----> 1\u001b[0m s4\u001b[38;5;241m=\u001b[39m{\u001b[38;5;241m1\u001b[39m,\u001b[38;5;241m2\u001b[39m,\u001b[38;5;241m3\u001b[39m,[\u001b[38;5;241m1\u001b[39m,\u001b[38;5;241m2\u001b[39m,\u001b[38;5;241m3\u001b[39m,\u001b[38;5;241m4\u001b[39m],\u001b[38;5;241m4\u001b[39m,\u001b[38;5;241m5\u001b[39m}\n\u001b[1;32m      2\u001b[0m s4\n",
      "\u001b[0;31mTypeError\u001b[0m: unhashable type: 'list'"
     ]
    }
   ],
   "source": [
    "s4={1,2,3,[1,2,3,4],4,5}\n",
    "s4"
   ]
  },
  {
   "cell_type": "code",
   "execution_count": 52,
   "id": "a01ffceb-0d6d-4cff-b35d-50c0338b30c0",
   "metadata": {},
   "outputs": [
    {
     "data": {
      "text/plain": [
       "{(1, 2, 3, 4, 5), 1, 2, 3, 4, 5}"
      ]
     },
     "execution_count": 52,
     "metadata": {},
     "output_type": "execute_result"
    }
   ],
   "source": [
    "s4={1,2,3,4,(1,2,3,4,5),5}\n",
    "s4"
   ]
  },
  {
   "cell_type": "code",
   "execution_count": 53,
   "id": "76d46cc4-ae8f-478d-8431-521482178b40",
   "metadata": {},
   "outputs": [
    {
     "data": {
      "text/plain": [
       "{2, 3.56, 5, 6, 'Monika', 'monika'}"
      ]
     },
     "execution_count": 53,
     "metadata": {},
     "output_type": "execute_result"
    }
   ],
   "source": [
    "s5={\"Monika\",\"monika\",2,3.56,6,5}\n",
    "s5"
   ]
  },
  {
   "cell_type": "code",
   "execution_count": 54,
   "id": "07531a36-9a10-4225-8235-9dff4914695c",
   "metadata": {},
   "outputs": [
    {
     "data": {
      "text/plain": [
       "{2, 3, 6, 7, 9, 'monika'}"
      ]
     },
     "execution_count": 54,
     "metadata": {},
     "output_type": "execute_result"
    }
   ],
   "source": [
    "s6={\"monika\",\"monika\",2,3,7,6,9,2}\n",
    "s6"
   ]
  },
  {
   "cell_type": "code",
   "execution_count": 55,
   "id": "ddeb83fa-9844-4faf-b9da-ae4bc5607676",
   "metadata": {},
   "outputs": [
    {
     "ename": "TypeError",
     "evalue": "'set' object is not subscriptable",
     "output_type": "error",
     "traceback": [
      "\u001b[0;31m---------------------------------------------------------------------------\u001b[0m",
      "\u001b[0;31mTypeError\u001b[0m                                 Traceback (most recent call last)",
      "Cell \u001b[0;32mIn[55], line 1\u001b[0m\n\u001b[0;32m----> 1\u001b[0m \u001b[43ms6\u001b[49m\u001b[43m[\u001b[49m\u001b[38;5;241;43m2\u001b[39;49m\u001b[43m]\u001b[49m\n",
      "\u001b[0;31mTypeError\u001b[0m: 'set' object is not subscriptable"
     ]
    }
   ],
   "source": [
    "s6[2]\n"
   ]
  },
  {
   "cell_type": "code",
   "execution_count": 56,
   "id": "dbb65e1e-dac9-4591-8dc5-e93db517faa5",
   "metadata": {},
   "outputs": [
    {
     "ename": "TypeError",
     "evalue": "'set' object is not subscriptable",
     "output_type": "error",
     "traceback": [
      "\u001b[0;31m---------------------------------------------------------------------------\u001b[0m",
      "\u001b[0;31mTypeError\u001b[0m                                 Traceback (most recent call last)",
      "Cell \u001b[0;32mIn[56], line 1\u001b[0m\n\u001b[0;32m----> 1\u001b[0m \u001b[43ms6\u001b[49m\u001b[43m[\u001b[49m\u001b[43m:\u001b[49m\u001b[43m:\u001b[49m\u001b[38;5;241;43m-\u001b[39;49m\u001b[38;5;241;43m1\u001b[39;49m\u001b[43m]\u001b[49m\n",
      "\u001b[0;31mTypeError\u001b[0m: 'set' object is not subscriptable"
     ]
    }
   ],
   "source": [
    "s6[::-1]"
   ]
  },
  {
   "cell_type": "code",
   "execution_count": 57,
   "id": "2e37bb18-4607-486a-afff-29cf8012792b",
   "metadata": {},
   "outputs": [
    {
     "data": {
      "text/plain": [
       "{2, 3, 6, 7, 9, 'monika'}"
      ]
     },
     "execution_count": 57,
     "metadata": {},
     "output_type": "execute_result"
    }
   ],
   "source": [
    "s6"
   ]
  },
  {
   "cell_type": "code",
   "execution_count": 58,
   "id": "6a0a0275-7853-4da8-995a-b56531616d1a",
   "metadata": {},
   "outputs": [
    {
     "name": "stdout",
     "output_type": "stream",
     "text": [
      "2\n",
      "3\n",
      "6\n",
      "7\n",
      "9\n",
      "monika\n"
     ]
    }
   ],
   "source": [
    "for i in s6:\n",
    "    print(i)"
   ]
  },
  {
   "cell_type": "code",
   "execution_count": 59,
   "id": "b48951bd-6053-4b64-b6f8-b5cc27a8a216",
   "metadata": {},
   "outputs": [],
   "source": [
    "s6.add(\"Radhika\")"
   ]
  },
  {
   "cell_type": "code",
   "execution_count": 60,
   "id": "a82e1662-c8b2-4e03-be07-eddac0042cab",
   "metadata": {},
   "outputs": [
    {
     "data": {
      "text/plain": [
       "{2, 3, 6, 7, 9, 'Radhika', 'monika'}"
      ]
     },
     "execution_count": 60,
     "metadata": {},
     "output_type": "execute_result"
    }
   ],
   "source": [
    "s6"
   ]
  },
  {
   "cell_type": "code",
   "execution_count": 61,
   "id": "f83de9d6-d49d-4492-95a8-4ffb1528d7ba",
   "metadata": {},
   "outputs": [
    {
     "data": {
      "text/plain": [
       "{2, 3, 6, 7, 9, 'Radhika', 'monika'}"
      ]
     },
     "execution_count": 61,
     "metadata": {},
     "output_type": "execute_result"
    }
   ],
   "source": [
    "s6.add(2)\n",
    "s6"
   ]
  },
  {
   "cell_type": "code",
   "execution_count": 62,
   "id": "75d3b8c9-d3fd-4157-8b9a-1815c1640976",
   "metadata": {},
   "outputs": [
    {
     "data": {
      "text/plain": [
       "7"
      ]
     },
     "execution_count": 62,
     "metadata": {},
     "output_type": "execute_result"
    }
   ],
   "source": [
    "len(s6)"
   ]
  },
  {
   "cell_type": "code",
   "execution_count": 63,
   "id": "e8f76bea-02a1-4cea-ab18-12121f3f8d90",
   "metadata": {},
   "outputs": [
    {
     "data": {
      "text/plain": [
       "2"
      ]
     },
     "execution_count": 63,
     "metadata": {},
     "output_type": "execute_result"
    }
   ],
   "source": [
    "s6.pop()"
   ]
  },
  {
   "cell_type": "code",
   "execution_count": 64,
   "id": "c99e58b5-70f7-4531-8c93-81777d7a4db6",
   "metadata": {},
   "outputs": [
    {
     "data": {
      "text/plain": [
       "{3, 6, 7, 9, 'Radhika', 'monika'}"
      ]
     },
     "execution_count": 64,
     "metadata": {},
     "output_type": "execute_result"
    }
   ],
   "source": [
    "s6"
   ]
  },
  {
   "cell_type": "code",
   "execution_count": 65,
   "id": "2408dc40-ab5e-4069-bd3e-3efa7db2d2dd",
   "metadata": {},
   "outputs": [],
   "source": [
    "s6.remove(6)"
   ]
  },
  {
   "cell_type": "code",
   "execution_count": 66,
   "id": "7b29987e-7755-4594-bb66-c7452398f13b",
   "metadata": {},
   "outputs": [
    {
     "data": {
      "text/plain": [
       "{3, 5, 7, 9, 'Radhika', 'monika'}"
      ]
     },
     "execution_count": 66,
     "metadata": {},
     "output_type": "execute_result"
    }
   ],
   "source": [
    "s6.add(5)\n",
    "s6"
   ]
  },
  {
   "cell_type": "code",
   "execution_count": 67,
   "id": "c8b2666e-e80c-47e9-9f29-42f22a306d0f",
   "metadata": {},
   "outputs": [],
   "source": [
    "s6.remove(3)\n"
   ]
  },
  {
   "cell_type": "code",
   "execution_count": 68,
   "id": "87fb0366-2b3c-4948-8e8e-207ecbc83a59",
   "metadata": {},
   "outputs": [
    {
     "data": {
      "text/plain": [
       "{5, 7, 9, 'Radhika', 'monika'}"
      ]
     },
     "execution_count": 68,
     "metadata": {},
     "output_type": "execute_result"
    }
   ],
   "source": [
    "s6"
   ]
  },
  {
   "cell_type": "code",
   "execution_count": 69,
   "id": "40e25a7b-72b9-47e1-a1c1-8a6ac7f75948",
   "metadata": {},
   "outputs": [
    {
     "data": {
      "text/plain": [
       "set()"
      ]
     },
     "execution_count": 69,
     "metadata": {},
     "output_type": "execute_result"
    }
   ],
   "source": [
    "s6.clear()\n",
    "s6"
   ]
  },
  {
   "cell_type": "code",
   "execution_count": 70,
   "id": "3de07285-8273-4683-b646-91609615fb92",
   "metadata": {},
   "outputs": [],
   "source": [
    "s7={1,2,3,4}\n",
    "s8={1,2,3,5}"
   ]
  },
  {
   "cell_type": "code",
   "execution_count": 71,
   "id": "3fd49878-b41f-4b04-940a-2a77f9f62520",
   "metadata": {},
   "outputs": [
    {
     "data": {
      "text/plain": [
       "{5}"
      ]
     },
     "execution_count": 71,
     "metadata": {},
     "output_type": "execute_result"
    }
   ],
   "source": [
    "s8.difference(s7)"
   ]
  },
  {
   "cell_type": "code",
   "execution_count": 72,
   "id": "74aa6849-d21d-4171-a4b7-da7032332e8d",
   "metadata": {},
   "outputs": [
    {
     "data": {
      "text/plain": [
       "{4}"
      ]
     },
     "execution_count": 72,
     "metadata": {},
     "output_type": "execute_result"
    }
   ],
   "source": [
    "s7.difference(s8)"
   ]
  },
  {
   "cell_type": "code",
   "execution_count": 73,
   "id": "b1c565f3-f1ea-425d-b6ed-439b62d1ddd1",
   "metadata": {},
   "outputs": [
    {
     "data": {
      "text/plain": [
       "{1, 2, 3, 4, 5}"
      ]
     },
     "execution_count": 73,
     "metadata": {},
     "output_type": "execute_result"
    }
   ],
   "source": [
    "s7.union(s8)"
   ]
  },
  {
   "cell_type": "code",
   "execution_count": 74,
   "id": "6ae0c69a-dcf1-473a-a087-e10a6c2031bc",
   "metadata": {},
   "outputs": [
    {
     "data": {
      "text/plain": [
       "{4, 5}"
      ]
     },
     "execution_count": 74,
     "metadata": {},
     "output_type": "execute_result"
    }
   ],
   "source": [
    "s7.symmetric_difference(s8)"
   ]
  },
  {
   "cell_type": "markdown",
   "id": "f9ab17b5-eaba-4620-a7c1-04a8a98a2293",
   "metadata": {},
   "source": [
    "# Dictionary"
   ]
  },
  {
   "cell_type": "code",
   "execution_count": 75,
   "id": "6c60d1d3-a97f-4686-a703-184db7077c14",
   "metadata": {},
   "outputs": [
    {
     "data": {
      "text/plain": [
       "dict"
      ]
     },
     "execution_count": 75,
     "metadata": {},
     "output_type": "execute_result"
    }
   ],
   "source": [
    "d={}\n",
    "type(d)"
   ]
  },
  {
   "cell_type": "code",
   "execution_count": 76,
   "id": "2289c194-bdfc-41ab-af9b-72344ab2e946",
   "metadata": {},
   "outputs": [
    {
     "data": {
      "text/plain": [
       "{'name': 'Monika', 'email_id': 'tannwar@gamil.com', 'number': 1234567890}"
      ]
     },
     "execution_count": 76,
     "metadata": {},
     "output_type": "execute_result"
    }
   ],
   "source": [
    "d={\"name\":\"Monika\", \"email_id\":\"tannwar@gamil.com\",\"number\":1234567890}\n",
    "d"
   ]
  },
  {
   "cell_type": "code",
   "execution_count": 77,
   "id": "93f191b2-74de-4069-80c3-e026448b82a9",
   "metadata": {},
   "outputs": [
    {
     "data": {
      "text/plain": [
       "dict"
      ]
     },
     "execution_count": 77,
     "metadata": {},
     "output_type": "execute_result"
    }
   ],
   "source": [
    "type(d)"
   ]
  },
  {
   "cell_type": "code",
   "execution_count": 78,
   "id": "bb6d831b-0921-4c08-817e-6268552ee387",
   "metadata": {},
   "outputs": [
    {
     "data": {
      "text/plain": [
       "{'name': 'Radhika'}"
      ]
     },
     "execution_count": 78,
     "metadata": {},
     "output_type": "execute_result"
    }
   ],
   "source": [
    "d1={\"name\":\"Monika\",\"name\":\"Radhika\"}\n",
    "d1"
   ]
  },
  {
   "cell_type": "code",
   "execution_count": 79,
   "id": "f777bfbf-c715-4506-b3ac-503fda8b6eff",
   "metadata": {},
   "outputs": [
    {
     "data": {
      "text/plain": [
       "{123456: 'abc'}"
      ]
     },
     "execution_count": 79,
     "metadata": {},
     "output_type": "execute_result"
    }
   ],
   "source": [
    "d2={123456:'abc'}\n",
    "d2"
   ]
  },
  {
   "cell_type": "code",
   "execution_count": 80,
   "id": "bff439bc-575b-46ee-b7eb-278c87c3c148",
   "metadata": {},
   "outputs": [
    {
     "data": {
      "text/plain": [
       "{45.455: 'abc'}"
      ]
     },
     "execution_count": 80,
     "metadata": {},
     "output_type": "execute_result"
    }
   ],
   "source": [
    "d3={45.455:\"abc\"}   \n",
    "d3\n",
    "    "
   ]
  },
  {
   "cell_type": "code",
   "execution_count": 81,
   "id": "5a7244c3-e356-410b-9026-7ff396cfa591",
   "metadata": {},
   "outputs": [
    {
     "data": {
      "text/plain": [
       "{True: 123}"
      ]
     },
     "execution_count": 81,
     "metadata": {},
     "output_type": "execute_result"
    }
   ],
   "source": [
    "d4={True:123}\n",
    "d4"
   ]
  },
  {
   "cell_type": "code",
   "execution_count": 82,
   "id": "d5601635-2eb2-4fd6-b748-132e17c2f7cd",
   "metadata": {},
   "outputs": [
    {
     "data": {
      "text/plain": [
       "{True: 'abc'}"
      ]
     },
     "execution_count": 82,
     "metadata": {},
     "output_type": "execute_result"
    }
   ],
   "source": [
    "d5={True:123,1:\"abc\"}\n",
    "d5"
   ]
  },
  {
   "cell_type": "code",
   "execution_count": 83,
   "id": "faa4e110-8a20-4d54-b648-d5ef3eec265d",
   "metadata": {},
   "outputs": [
    {
     "data": {
      "text/plain": [
       "{1: 'abc'}"
      ]
     },
     "execution_count": 83,
     "metadata": {},
     "output_type": "execute_result"
    }
   ],
   "source": [
    "d6={1:123,True:\"abc\"}\n",
    "d6"
   ]
  },
  {
   "cell_type": "code",
   "execution_count": 84,
   "id": "56746d9c-7b04-44a6-9cbd-4772416f50d7",
   "metadata": {},
   "outputs": [
    {
     "data": {
      "text/plain": [
       "{1: 123}"
      ]
     },
     "execution_count": 84,
     "metadata": {},
     "output_type": "execute_result"
    }
   ],
   "source": [
    "d7={1:\"abc\",True:123}\n",
    "d7"
   ]
  },
  {
   "cell_type": "code",
   "execution_count": 85,
   "id": "91b0ef12-a1b5-4742-8e64-fde99a6db669",
   "metadata": {},
   "outputs": [
    {
     "data": {
      "text/plain": [
       "{True: 'abc'}"
      ]
     },
     "execution_count": 85,
     "metadata": {},
     "output_type": "execute_result"
    }
   ],
   "source": [
    "d6={True:123,True:\"abc\"}\n",
    "d6"
   ]
  },
  {
   "cell_type": "code",
   "execution_count": 86,
   "id": "2ed258cc-b60d-4ef4-94f7-89ff8a2e09ac",
   "metadata": {},
   "outputs": [
    {
     "ename": "SyntaxError",
     "evalue": "incomplete input (2041498255.py, line 2)",
     "output_type": "error",
     "traceback": [
      "\u001b[0;36m  Cell \u001b[0;32mIn[86], line 2\u001b[0;36m\u001b[0m\n\u001b[0;31m    d7\u001b[0m\n\u001b[0m      ^\u001b[0m\n\u001b[0;31mSyntaxError\u001b[0m\u001b[0;31m:\u001b[0m incomplete input\n"
     ]
    }
   ],
   "source": [
    "d7={# : \"abc\"}\n",
    "d7"
   ]
  },
  {
   "cell_type": "code",
   "execution_count": 87,
   "id": "5cb11069-603e-4119-b8fa-81e0f8b60ee4",
   "metadata": {},
   "outputs": [
    {
     "ename": "SyntaxError",
     "evalue": "invalid syntax (441471517.py, line 1)",
     "output_type": "error",
     "traceback": [
      "\u001b[0;36m  Cell \u001b[0;32mIn[87], line 1\u001b[0;36m\u001b[0m\n\u001b[0;31m    d8={@:'abc'}\u001b[0m\n\u001b[0m        ^\u001b[0m\n\u001b[0;31mSyntaxError\u001b[0m\u001b[0;31m:\u001b[0m invalid syntax\n"
     ]
    }
   ],
   "source": [
    "d8={@:'abc'}\n",
    "d8"
   ]
  },
  {
   "cell_type": "code",
   "execution_count": 88,
   "id": "4a551298-3048-48b4-aec5-3db56fcb6872",
   "metadata": {},
   "outputs": [
    {
     "data": {
      "text/plain": [
       "{'@': 'abc'}"
      ]
     },
     "execution_count": 88,
     "metadata": {},
     "output_type": "execute_result"
    }
   ],
   "source": [
    "d9={\"@\" :\"abc\"}\n",
    "d9"
   ]
  },
  {
   "cell_type": "code",
   "execution_count": 89,
   "id": "4f40610a-986f-49a9-b2bd-2fa490026395",
   "metadata": {},
   "outputs": [
    {
     "ename": "TypeError",
     "evalue": "unhashable type: 'list'",
     "output_type": "error",
     "traceback": [
      "\u001b[0;31m---------------------------------------------------------------------------\u001b[0m",
      "\u001b[0;31mTypeError\u001b[0m                                 Traceback (most recent call last)",
      "Cell \u001b[0;32mIn[89], line 1\u001b[0m\n\u001b[0;32m----> 1\u001b[0m d1\u001b[38;5;241m=\u001b[39m{[\u001b[38;5;241m1\u001b[39m,\u001b[38;5;241m2\u001b[39m,\u001b[38;5;241m3\u001b[39m]:\u001b[38;5;124m'\u001b[39m\u001b[38;5;124mmonika\u001b[39m\u001b[38;5;124m'\u001b[39m}\n\u001b[1;32m      2\u001b[0m d1\n",
      "\u001b[0;31mTypeError\u001b[0m: unhashable type: 'list'"
     ]
    }
   ],
   "source": [
    "d1={[1,2,3]:'monika'}\n",
    "d1"
   ]
  },
  {
   "cell_type": "code",
   "execution_count": 90,
   "id": "00bd2222-bc15-4136-bfb2-c7f804e48fe6",
   "metadata": {},
   "outputs": [
    {
     "data": {
      "text/plain": [
       "{(1, 2, 3): 'monika'}"
      ]
     },
     "execution_count": 90,
     "metadata": {},
     "output_type": "execute_result"
    }
   ],
   "source": [
    "d2={(1,2,3):'monika'}\n",
    "d2"
   ]
  },
  {
   "cell_type": "code",
   "execution_count": 91,
   "id": "fd74e286-7682-48f0-a6af-3f4e50104d1b",
   "metadata": {},
   "outputs": [
    {
     "ename": "TypeError",
     "evalue": "unhashable type: 'set'",
     "output_type": "error",
     "traceback": [
      "\u001b[0;31m---------------------------------------------------------------------------\u001b[0m",
      "\u001b[0;31mTypeError\u001b[0m                                 Traceback (most recent call last)",
      "Cell \u001b[0;32mIn[91], line 1\u001b[0m\n\u001b[0;32m----> 1\u001b[0m d3\u001b[38;5;241m=\u001b[39m{{\u001b[38;5;241m1\u001b[39m,\u001b[38;5;241m2\u001b[39m,\u001b[38;5;241m3\u001b[39m}:\u001b[38;5;124m\"\u001b[39m\u001b[38;5;124mabc\u001b[39m\u001b[38;5;124m\"\u001b[39m}\n\u001b[1;32m      2\u001b[0m d3\n",
      "\u001b[0;31mTypeError\u001b[0m: unhashable type: 'set'"
     ]
    }
   ],
   "source": [
    "d3={{1,2,3}:\"abc\"}\n",
    "d3"
   ]
  },
  {
   "cell_type": "code",
   "execution_count": 92,
   "id": "1e5b57c9-34af-4b71-b3d7-c94993ece44f",
   "metadata": {},
   "outputs": [
    {
     "ename": "TypeError",
     "evalue": "unhashable type: 'dict'",
     "output_type": "error",
     "traceback": [
      "\u001b[0;31m---------------------------------------------------------------------------\u001b[0m",
      "\u001b[0;31mTypeError\u001b[0m                                 Traceback (most recent call last)",
      "Cell \u001b[0;32mIn[92], line 1\u001b[0m\n\u001b[0;32m----> 1\u001b[0m d4\u001b[38;5;241m=\u001b[39m{{\u001b[38;5;124m\"\u001b[39m\u001b[38;5;124mkey\u001b[39m\u001b[38;5;124m\"\u001b[39m:\u001b[38;5;241m123\u001b[39m}:\u001b[38;5;124m\"\u001b[39m\u001b[38;5;124mmonika\u001b[39m\u001b[38;5;124m\"\u001b[39m}\n",
      "\u001b[0;31mTypeError\u001b[0m: unhashable type: 'dict'"
     ]
    }
   ],
   "source": [
    "d4={{\"key\":123}:\"monika\"}"
   ]
  },
  {
   "cell_type": "code",
   "execution_count": 93,
   "id": "9451ddcc-0589-4d79-a549-b1ae411922b5",
   "metadata": {},
   "outputs": [
    {
     "data": {
      "text/plain": [
       "{'course_name': ['data science',\n",
       "  'web dev',\n",
       "  'java with data and system design']}"
      ]
     },
     "execution_count": 93,
     "metadata": {},
     "output_type": "execute_result"
    }
   ],
   "source": [
    "d5={\"course_name\":[\"data science\",\"web dev\",\"java with data and system design\"]}\n",
    "d5"
   ]
  },
  {
   "cell_type": "code",
   "execution_count": 94,
   "id": "8caeeff4-0f8b-4436-aec8-bea7b66a5627",
   "metadata": {},
   "outputs": [
    {
     "data": {
      "text/plain": [
       "{'name': (1, 2, 3, 4, 5)}"
      ]
     },
     "execution_count": 94,
     "metadata": {},
     "output_type": "execute_result"
    }
   ],
   "source": [
    "d6={\"name\":(1,2,3,4,5)}\n",
    "d6"
   ]
  },
  {
   "cell_type": "code",
   "execution_count": 95,
   "id": "c74e5ace-aac4-4304-8cc9-84902cccecec",
   "metadata": {},
   "outputs": [
    {
     "data": {
      "text/plain": [
       "{'key': {2, 3, 6}}"
      ]
     },
     "execution_count": 95,
     "metadata": {},
     "output_type": "execute_result"
    }
   ],
   "source": [
    "d7={\"key\":{2,3,6}}\n",
    "d7"
   ]
  },
  {
   "cell_type": "code",
   "execution_count": 96,
   "id": "744150e8-1530-4e2b-ab60-696b341e18bd",
   "metadata": {},
   "outputs": [
    {
     "data": {
      "text/plain": [
       "{'key': {'name': 'monika', 'class': 'DSM'}}"
      ]
     },
     "execution_count": 96,
     "metadata": {},
     "output_type": "execute_result"
    }
   ],
   "source": [
    "d8={\"key\":{'name':\"monika\",'class':'DSM'}}\n",
    "d8"
   ]
  },
  {
   "cell_type": "code",
   "execution_count": 97,
   "id": "255093a0-1d0e-4779-bd5e-5675905ff4b1",
   "metadata": {},
   "outputs": [
    {
     "data": {
      "text/plain": [
       "{'batch_name': ['Data Science Master', 'Web dev', 'Jds'],\n",
       " 'Start_Date': (28, 14, 19),\n",
       " 'mentor_name': {'Anurag', 'Haider', 'Hitesh', 'Krish Naik', 'Sudhanshu'}}"
      ]
     },
     "execution_count": 97,
     "metadata": {},
     "output_type": "execute_result"
    }
   ],
   "source": [
    "d9={'batch_name':[\"Data Science Master\",\"Web dev\",\"Jds\"],\"Start_Date\":(28,14,19)\n",
    "    ,\"mentor_name\":{\"Krish Naik\",\"Sudhanshu\",\"Hitesh\",\"Anurag\",\"Haider\"}}\n",
    "d9"
   ]
  },
  {
   "cell_type": "code",
   "execution_count": 98,
   "id": "0d523512-3b06-4797-8977-7a3ad378f2a5",
   "metadata": {},
   "outputs": [
    {
     "data": {
      "text/plain": [
       "{'batch_name': ['Data Science Master', 'Web dev', 'Jds'],\n",
       " 'Start_Date': (28, 14, 19),\n",
       " 'mentor_name': {'Anurag', 'Haider', 'Hitesh', 'Krish Naik', 'Sudhanshu'},\n",
       " 'timing': (7, 8, 9)}"
      ]
     },
     "execution_count": 98,
     "metadata": {},
     "output_type": "execute_result"
    }
   ],
   "source": [
    "d9[\"timing\"]=(7,8,9)\n",
    "d9"
   ]
  },
  {
   "cell_type": "code",
   "execution_count": 99,
   "id": "7f854759-741c-4f92-b0fb-3edb9f3f3d42",
   "metadata": {},
   "outputs": [
    {
     "data": {
      "text/plain": [
       "['Data Science Master', 'Web dev', 'Jds']"
      ]
     },
     "execution_count": 99,
     "metadata": {},
     "output_type": "execute_result"
    }
   ],
   "source": [
    "d9[\"batch_name\"]"
   ]
  },
  {
   "cell_type": "code",
   "execution_count": 100,
   "id": "330c5bd6-eb5c-417a-bd01-0940586b452c",
   "metadata": {},
   "outputs": [
    {
     "data": {
      "text/plain": [
       "set"
      ]
     },
     "execution_count": 100,
     "metadata": {},
     "output_type": "execute_result"
    }
   ],
   "source": [
    "type(d9[\"mentor_name\"])"
   ]
  },
  {
   "cell_type": "code",
   "execution_count": 101,
   "id": "d1179533-b2e8-4392-9a67-e0c498a8edff",
   "metadata": {},
   "outputs": [
    {
     "ename": "KeyError",
     "evalue": "'key'",
     "output_type": "error",
     "traceback": [
      "\u001b[0;31m---------------------------------------------------------------------------\u001b[0m",
      "\u001b[0;31mKeyError\u001b[0m                                  Traceback (most recent call last)",
      "Cell \u001b[0;32mIn[101], line 1\u001b[0m\n\u001b[0;32m----> 1\u001b[0m \u001b[43md9\u001b[49m\u001b[43m[\u001b[49m\u001b[38;5;124;43m\"\u001b[39;49m\u001b[38;5;124;43mkey\u001b[39;49m\u001b[38;5;124;43m\"\u001b[39;49m\u001b[43m]\u001b[49m\n",
      "\u001b[0;31mKeyError\u001b[0m: 'key'"
     ]
    }
   ],
   "source": [
    "d9[\"key\"]"
   ]
  },
  {
   "cell_type": "code",
   "execution_count": 102,
   "id": "0a9e5928-6a79-4c0e-83df-a42cb9523395",
   "metadata": {},
   "outputs": [
    {
     "data": {
      "text/plain": [
       "{'batch_name': ['Data Science Master', 'Web dev', 'Jds'],\n",
       " 'Start_Date': (28, 14, 19),\n",
       " 'mentor_name': {'Anurag', 'Haider', 'Hitesh', 'Krish Naik', 'Sudhanshu'},\n",
       " 'timing': (7, 8, 9),\n",
       " 'location': 'pune'}"
      ]
     },
     "execution_count": 102,
     "metadata": {},
     "output_type": "execute_result"
    }
   ],
   "source": [
    "d9[\"location\"]=(\"pune\")\n",
    "d9"
   ]
  },
  {
   "cell_type": "code",
   "execution_count": 103,
   "id": "f8d0dc3a-1a9d-48d1-92c1-a854e245646e",
   "metadata": {},
   "outputs": [
    {
     "data": {
      "text/plain": [
       "{'batch_name': ['Data Science Master', 'Web dev', 'Jds'],\n",
       " 'Start_Date': (28, 14, 19),\n",
       " 'mentor_name': {'Anurag', 'Haider', 'Hitesh', 'Krish Naik', 'Sudhanshu'},\n",
       " 'timing': (7, 8, 9),\n",
       " 'location': 'pune',\n",
       " 'name': 'monika'}"
      ]
     },
     "execution_count": 103,
     "metadata": {},
     "output_type": "execute_result"
    }
   ],
   "source": [
    "d9[\"name\"]=(\"monika\")\n",
    "d9"
   ]
  },
  {
   "cell_type": "code",
   "execution_count": 104,
   "id": "b0361c9a-f22f-4044-ba49-7fc4e18825e9",
   "metadata": {},
   "outputs": [
    {
     "data": {
      "text/plain": [
       "'monika'"
      ]
     },
     "execution_count": 104,
     "metadata": {},
     "output_type": "execute_result"
    }
   ],
   "source": [
    "d9[\"name\"]"
   ]
  },
  {
   "cell_type": "code",
   "execution_count": 105,
   "id": "58bfe193-7bc7-49f1-8231-dde287059c89",
   "metadata": {},
   "outputs": [
    {
     "data": {
      "text/plain": [
       "{'batch_name': ['Data Science Master', 'Web dev', 'Jds'],\n",
       " 'Start_Date': (28, 14, 19),\n",
       " 'mentor_name': {'Anurag', 'Haider', 'Hitesh', 'Krish Naik', 'Sudhanshu'},\n",
       " 'timing': (7, 8, 9),\n",
       " 'location': 'pune',\n",
       " 'name': 'monika'}"
      ]
     },
     "execution_count": 105,
     "metadata": {},
     "output_type": "execute_result"
    }
   ],
   "source": [
    "d9[\"name\"].upper\n",
    "d9"
   ]
  },
  {
   "cell_type": "code",
   "execution_count": 106,
   "id": "773a614d-cca4-4cdd-aa20-53c220eb38e3",
   "metadata": {},
   "outputs": [
    {
     "data": {
      "text/plain": [
       "{'key': {'name': 'monika', 'class': 'DSM'}}"
      ]
     },
     "execution_count": 106,
     "metadata": {},
     "output_type": "execute_result"
    }
   ],
   "source": [
    "d8"
   ]
  },
  {
   "cell_type": "code",
   "execution_count": 107,
   "id": "69d0ea77-ec9a-404b-84e8-26f83986dde0",
   "metadata": {},
   "outputs": [
    {
     "data": {
      "text/plain": [
       "{'name': 'monika', 'class': 'DSM'}"
      ]
     },
     "execution_count": 107,
     "metadata": {},
     "output_type": "execute_result"
    }
   ],
   "source": [
    "d8[\"key\"]"
   ]
  },
  {
   "cell_type": "code",
   "execution_count": 108,
   "id": "b990bf23-e292-424b-bfa5-5b522673c566",
   "metadata": {},
   "outputs": [
    {
     "data": {
      "text/plain": [
       "dict"
      ]
     },
     "execution_count": 108,
     "metadata": {},
     "output_type": "execute_result"
    }
   ],
   "source": [
    "type(d8[\"key\"])"
   ]
  },
  {
   "cell_type": "code",
   "execution_count": 109,
   "id": "73b7f33b-3a51-438e-8f7f-7d80c25fccc1",
   "metadata": {},
   "outputs": [
    {
     "data": {
      "text/plain": [
       "'DSM'"
      ]
     },
     "execution_count": 109,
     "metadata": {},
     "output_type": "execute_result"
    }
   ],
   "source": [
    "d8[\"key\"][\"class\"]"
   ]
  },
  {
   "cell_type": "code",
   "execution_count": 110,
   "id": "7365d471-56a0-46d0-9fc5-550bf666c6f3",
   "metadata": {},
   "outputs": [
    {
     "data": {
      "text/plain": [
       "{'key': {'name': 'monika', 'class': 'DSM'}}"
      ]
     },
     "execution_count": 110,
     "metadata": {},
     "output_type": "execute_result"
    }
   ],
   "source": [
    "d8"
   ]
  },
  {
   "cell_type": "code",
   "execution_count": 111,
   "id": "98489f49-90e4-4796-a21e-22eb8a291a49",
   "metadata": {},
   "outputs": [
    {
     "data": {
      "text/plain": [
       "{'key': {'name': 'monika', 'class': 'DSM'}, 'key1': 'abc'}"
      ]
     },
     "execution_count": 111,
     "metadata": {},
     "output_type": "execute_result"
    }
   ],
   "source": [
    "d8[\"key1\"]=\"abc\"\n",
    "d8"
   ]
  },
  {
   "cell_type": "code",
   "execution_count": 112,
   "id": "41511681-c8e7-44d5-84ba-7fed66eefd72",
   "metadata": {},
   "outputs": [
    {
     "data": {
      "text/plain": [
       "{'key': {'name': 'monika', 'class': 'DSM'}}"
      ]
     },
     "execution_count": 112,
     "metadata": {},
     "output_type": "execute_result"
    }
   ],
   "source": [
    "del d8[\"key1\"]\n",
    "d8"
   ]
  },
  {
   "cell_type": "code",
   "execution_count": 113,
   "id": "7e9d9338-ac3c-400e-86f0-8f58283d3e17",
   "metadata": {},
   "outputs": [
    {
     "data": {
      "text/plain": [
       "{}"
      ]
     },
     "execution_count": 113,
     "metadata": {},
     "output_type": "execute_result"
    }
   ],
   "source": [
    "d8.clear()\n",
    "d8"
   ]
  },
  {
   "cell_type": "code",
   "execution_count": 114,
   "id": "53ab8e6d-406c-4106-877b-ea8b211162f1",
   "metadata": {},
   "outputs": [
    {
     "data": {
      "text/plain": [
       "{'batch_name': ['Data Science Master', 'Web dev', 'Jds'],\n",
       " 'Start_Date': (28, 14, 19),\n",
       " 'mentor_name': {'Anurag', 'Haider', 'Hitesh', 'Krish Naik', 'Sudhanshu'},\n",
       " 'timing': (7, 8, 9),\n",
       " 'location': 'pune',\n",
       " 'name': 'monika'}"
      ]
     },
     "execution_count": 114,
     "metadata": {},
     "output_type": "execute_result"
    }
   ],
   "source": [
    "d9"
   ]
  },
  {
   "cell_type": "code",
   "execution_count": 115,
   "id": "1b15a913-b48c-4f2b-b0b4-bd9620154671",
   "metadata": {},
   "outputs": [
    {
     "data": {
      "text/plain": [
       "{'batch_name': ['Data Science Master', 'Web dev', 'Jds'],\n",
       " 'Start_Date': (28, 14, 19),\n",
       " 'mentor_name': {'Anurag', 'Haider', 'Hitesh', 'Krish Naik', 'Sudhanshu'},\n",
       " 'timing': (7, 8, 9),\n",
       " 'location': 'pune',\n",
       " 'name': 'monika'}"
      ]
     },
     "execution_count": 115,
     "metadata": {},
     "output_type": "execute_result"
    }
   ],
   "source": [
    "d9[\"name\"].lower\n",
    "d9"
   ]
  },
  {
   "cell_type": "code",
   "execution_count": 116,
   "id": "4c8e1794-45d1-41d1-ba3c-64c93c9d5cef",
   "metadata": {},
   "outputs": [
    {
     "data": {
      "text/plain": [
       "{'batch_name': ['Data Science Master', 'Web dev', 'Jds'],\n",
       " 'Start_Date': (28, 14, 19),\n",
       " 'mentor_name': {'Anurag', 'Haider', 'Hitesh', 'Krish Naik', 'Sudhanshu'},\n",
       " 'timing': (7, 8, 9),\n",
       " 'location': 'pune',\n",
       " 'name': 'monika'}"
      ]
     },
     "execution_count": 116,
     "metadata": {},
     "output_type": "execute_result"
    }
   ],
   "source": [
    "d9"
   ]
  },
  {
   "cell_type": "code",
   "execution_count": 117,
   "id": "ad1aa5f9-fda7-455e-9428-30c8b1a51092",
   "metadata": {},
   "outputs": [
    {
     "data": {
      "text/plain": [
       "6"
      ]
     },
     "execution_count": 117,
     "metadata": {},
     "output_type": "execute_result"
    }
   ],
   "source": [
    "len(d9)"
   ]
  },
  {
   "cell_type": "code",
   "execution_count": 118,
   "id": "b6bf49e5-5ff9-434e-8825-bc34831063b7",
   "metadata": {},
   "outputs": [
    {
     "data": {
      "text/plain": [
       "dict_keys(['batch_name', 'Start_Date', 'mentor_name', 'timing', 'location', 'name'])"
      ]
     },
     "execution_count": 118,
     "metadata": {},
     "output_type": "execute_result"
    }
   ],
   "source": [
    "d9.keys()"
   ]
  },
  {
   "cell_type": "code",
   "execution_count": 119,
   "id": "04d012f2-5f87-4532-b691-0203e92d8716",
   "metadata": {},
   "outputs": [
    {
     "data": {
      "text/plain": [
       "dict_values([['Data Science Master', 'Web dev', 'Jds'], (28, 14, 19), {'Haider', 'Sudhanshu', 'Anurag', 'Hitesh', 'Krish Naik'}, (7, 8, 9), 'pune', 'monika'])"
      ]
     },
     "execution_count": 119,
     "metadata": {},
     "output_type": "execute_result"
    }
   ],
   "source": [
    "d9.values()"
   ]
  },
  {
   "cell_type": "code",
   "execution_count": 120,
   "id": "46b881f9-2692-41f6-9e4f-23d619911b4f",
   "metadata": {},
   "outputs": [
    {
     "data": {
      "text/plain": [
       "[['Data Science Master', 'Web dev', 'Jds'],\n",
       " (28, 14, 19),\n",
       " {'Anurag', 'Haider', 'Hitesh', 'Krish Naik', 'Sudhanshu'},\n",
       " (7, 8, 9),\n",
       " 'pune',\n",
       " 'monika']"
      ]
     },
     "execution_count": 120,
     "metadata": {},
     "output_type": "execute_result"
    }
   ],
   "source": [
    "list(d9.values())"
   ]
  },
  {
   "cell_type": "code",
   "execution_count": 121,
   "id": "ed02f19f-27f6-4259-bc5e-9c836896316e",
   "metadata": {},
   "outputs": [
    {
     "data": {
      "text/plain": [
       "['batch_name', 'Start_Date', 'mentor_name', 'timing', 'location', 'name']"
      ]
     },
     "execution_count": 121,
     "metadata": {},
     "output_type": "execute_result"
    }
   ],
   "source": [
    "list(d9.keys())"
   ]
  },
  {
   "cell_type": "code",
   "execution_count": 122,
   "id": "c8ff593c-359a-499b-be79-5799339a5003",
   "metadata": {},
   "outputs": [
    {
     "data": {
      "text/plain": [
       "dict_items([('batch_name', ['Data Science Master', 'Web dev', 'Jds']), ('Start_Date', (28, 14, 19)), ('mentor_name', {'Haider', 'Sudhanshu', 'Anurag', 'Hitesh', 'Krish Naik'}), ('timing', (7, 8, 9)), ('location', 'pune'), ('name', 'monika')])"
      ]
     },
     "execution_count": 122,
     "metadata": {},
     "output_type": "execute_result"
    }
   ],
   "source": [
    "d9.items()"
   ]
  },
  {
   "cell_type": "code",
   "execution_count": 123,
   "id": "c213b2cd-6a0d-4468-893b-f0d8cbc095b8",
   "metadata": {},
   "outputs": [
    {
     "data": {
      "text/plain": [
       "[('batch_name', ['Data Science Master', 'Web dev', 'Jds']),\n",
       " ('Start_Date', (28, 14, 19)),\n",
       " ('mentor_name', {'Anurag', 'Haider', 'Hitesh', 'Krish Naik', 'Sudhanshu'}),\n",
       " ('timing', (7, 8, 9)),\n",
       " ('location', 'pune'),\n",
       " ('name', 'monika')]"
      ]
     },
     "execution_count": 123,
     "metadata": {},
     "output_type": "execute_result"
    }
   ],
   "source": [
    "list(d9.items())"
   ]
  },
  {
   "cell_type": "code",
   "execution_count": 124,
   "id": "aa7f229b-ee6a-4df4-a75e-e465f0da9dea",
   "metadata": {},
   "outputs": [
    {
     "data": {
      "text/plain": [
       "{'batch_name': ['Data Science Master', 'Web dev', 'Jds'],\n",
       " 'Start_Date': (28, 14, 19),\n",
       " 'mentor_name': {'Anurag', 'Haider', 'Hitesh', 'Krish Naik', 'Sudhanshu'},\n",
       " 'timing': (7, 8, 9),\n",
       " 'location': 'pune',\n",
       " 'name': 'monika'}"
      ]
     },
     "execution_count": 124,
     "metadata": {},
     "output_type": "execute_result"
    }
   ],
   "source": [
    "d0=d9.copy()\n",
    "d0"
   ]
  },
  {
   "cell_type": "code",
   "execution_count": 125,
   "id": "50e16c92-3082-4119-bd63-cfc794c7e626",
   "metadata": {},
   "outputs": [
    {
     "data": {
      "text/plain": [
       "{'batch_name': ['Data Science Master', 'Web dev', 'Jds'],\n",
       " 'Start_Date': (28, 14, 19),\n",
       " 'mentor_name': {'Anurag', 'Haider', 'Hitesh', 'Krish Naik', 'Sudhanshu'},\n",
       " 'timing': (7, 8, 9),\n",
       " 'location': 'pune',\n",
       " 'name': 'monika'}"
      ]
     },
     "execution_count": 125,
     "metadata": {},
     "output_type": "execute_result"
    }
   ],
   "source": [
    "d0[\"name\"]=\"monika\"\n",
    "d0"
   ]
  },
  {
   "cell_type": "code",
   "execution_count": 126,
   "id": "2766695b-4954-46ec-b5dc-20f4a2ac05f8",
   "metadata": {},
   "outputs": [
    {
     "data": {
      "text/plain": [
       "{'batch_name': ['Data Science Master', 'Web dev', 'Jds'],\n",
       " 'Start_Date': (28, 14, 19),\n",
       " 'mentor_name': {'Anurag', 'Haider', 'Hitesh', 'Krish Naik', 'Sudhanshu'},\n",
       " 'timing': (7, 8, 9),\n",
       " 'name': 'monika'}"
      ]
     },
     "execution_count": 126,
     "metadata": {},
     "output_type": "execute_result"
    }
   ],
   "source": [
    "del d9[\"location\"]\n",
    "d9"
   ]
  },
  {
   "cell_type": "code",
   "execution_count": 127,
   "id": "66cfc4d9-f652-45e9-b659-87fd2dbd4a67",
   "metadata": {},
   "outputs": [
    {
     "data": {
      "text/plain": [
       "{'batch_name': ['Data Science Master', 'Web dev', 'Jds'],\n",
       " 'Start_Date': (28, 14, 19),\n",
       " 'mentor_name': {'Anurag', 'Haider', 'Hitesh', 'Krish Naik', 'Sudhanshu'},\n",
       " 'timing': (7, 8, 9),\n",
       " 'location': 'pune',\n",
       " 'name': 'monika'}"
      ]
     },
     "execution_count": 127,
     "metadata": {},
     "output_type": "execute_result"
    }
   ],
   "source": [
    "d0"
   ]
  },
  {
   "cell_type": "code",
   "execution_count": 128,
   "id": "563c707d-e8bc-4384-8bc2-859bb30bf992",
   "metadata": {},
   "outputs": [
    {
     "data": {
      "text/plain": [
       "{'batch_name': ['Data Science Master', 'Web dev', 'Jds'],\n",
       " 'Start_Date': (28, 14, 19),\n",
       " 'mentor_name': {'Anurag', 'Haider', 'Hitesh', 'Krish Naik', 'Sudhanshu'},\n",
       " 'timing': (7, 8, 9),\n",
       " 'name': 'monika'}"
      ]
     },
     "execution_count": 128,
     "metadata": {},
     "output_type": "execute_result"
    }
   ],
   "source": [
    "d9"
   ]
  },
  {
   "cell_type": "code",
   "execution_count": 129,
   "id": "7250f945-9c28-4a60-9002-c4e93b09e4a6",
   "metadata": {},
   "outputs": [
    {
     "data": {
      "text/plain": [
       "{'batch_name': ['Data Science Master', 'Web dev', 'Jds'],\n",
       " 'Start_Date': (28, 14, 19),\n",
       " 'mentor_name': {'Anurag', 'Haider', 'Hitesh', 'Krish Naik', 'Sudhanshu'},\n",
       " 'timing': (7, 8, 9),\n",
       " 'name': 'monika'}"
      ]
     },
     "execution_count": 129,
     "metadata": {},
     "output_type": "execute_result"
    }
   ],
   "source": [
    "d10=d9\n",
    "d10"
   ]
  },
  {
   "cell_type": "code",
   "execution_count": 130,
   "id": "e558748d-46f4-4df7-b138-11429c968334",
   "metadata": {},
   "outputs": [
    {
     "ename": "TypeError",
     "evalue": "pop expected at least 1 argument, got 0",
     "output_type": "error",
     "traceback": [
      "\u001b[0;31m---------------------------------------------------------------------------\u001b[0m",
      "\u001b[0;31mTypeError\u001b[0m                                 Traceback (most recent call last)",
      "Cell \u001b[0;32mIn[130], line 1\u001b[0m\n\u001b[0;32m----> 1\u001b[0m \u001b[43md9\u001b[49m\u001b[38;5;241;43m.\u001b[39;49m\u001b[43mpop\u001b[49m\u001b[43m(\u001b[49m\u001b[43m)\u001b[49m\n",
      "\u001b[0;31mTypeError\u001b[0m: pop expected at least 1 argument, got 0"
     ]
    }
   ],
   "source": [
    "d9.pop()"
   ]
  },
  {
   "cell_type": "code",
   "execution_count": 131,
   "id": "954e3389-e2b8-4a9a-b03f-250f977cb11d",
   "metadata": {},
   "outputs": [
    {
     "data": {
      "text/plain": [
       "(7, 8, 9)"
      ]
     },
     "execution_count": 131,
     "metadata": {},
     "output_type": "execute_result"
    }
   ],
   "source": [
    "d9.pop(\"timing\")"
   ]
  },
  {
   "cell_type": "code",
   "execution_count": 132,
   "id": "569f3080-f2a1-404b-b443-567ffb1cba8e",
   "metadata": {},
   "outputs": [
    {
     "data": {
      "text/plain": [
       "{'batch_name': ['Data Science Master', 'Web dev', 'Jds'],\n",
       " 'Start_Date': (28, 14, 19),\n",
       " 'mentor_name': {'Anurag', 'Haider', 'Hitesh', 'Krish Naik', 'Sudhanshu'},\n",
       " 'name': 'monika'}"
      ]
     },
     "execution_count": 132,
     "metadata": {},
     "output_type": "execute_result"
    }
   ],
   "source": [
    "d9"
   ]
  },
  {
   "cell_type": "code",
   "execution_count": 133,
   "id": "50b83427-c721-4eec-9761-c68e112f32cc",
   "metadata": {},
   "outputs": [
    {
     "data": {
      "text/plain": [
       "{1: ('a', 'b', 'c'), 2: ('a', 'b', 'c'), 3: ('a', 'b', 'c')}"
      ]
     },
     "execution_count": 133,
     "metadata": {},
     "output_type": "execute_result"
    }
   ],
   "source": [
    "d.fromkeys((1,2,3),(\"a\",\"b\",\"c\"))"
   ]
  },
  {
   "cell_type": "code",
   "execution_count": 134,
   "id": "9c5a7136-877e-4c18-a090-ad353f257095",
   "metadata": {},
   "outputs": [
    {
     "data": {
      "text/plain": [
       "{'key3': 'value3', 'key4': 'value4'}"
      ]
     },
     "execution_count": 134,
     "metadata": {},
     "output_type": "execute_result"
    }
   ],
   "source": [
    "d10={\"key1\":\"value1\",\"key2\":\"value2\"}\n",
    "d11={\"key3\":\"value3\" , \"key4\":\"value4\"}\n",
    "d10\n",
    "d11"
   ]
  },
  {
   "cell_type": "code",
   "execution_count": 135,
   "id": "01c001fc-7e74-4221-8d0d-fa1e86646166",
   "metadata": {},
   "outputs": [
    {
     "data": {
      "text/plain": [
       "{'key1': 'value1', 'key2': 'value2'}"
      ]
     },
     "execution_count": 135,
     "metadata": {},
     "output_type": "execute_result"
    }
   ],
   "source": [
    "d10"
   ]
  },
  {
   "cell_type": "code",
   "execution_count": 136,
   "id": "7f094260-fdb3-42ce-bc02-e864862224d2",
   "metadata": {},
   "outputs": [
    {
     "data": {
      "text/plain": [
       "({'key1': 'value1', 'key2': 'value2'}, {'key3': 'value3', 'key4': 'value4'})"
      ]
     },
     "execution_count": 136,
     "metadata": {},
     "output_type": "execute_result"
    }
   ],
   "source": [
    "(d10,d11)"
   ]
  },
  {
   "cell_type": "code",
   "execution_count": 137,
   "id": "648f7920-5d40-4278-97aa-42ac3c5bb9ab",
   "metadata": {},
   "outputs": [
    {
     "data": {
      "text/plain": [
       "[{'key1': 'value1', 'key2': 'value2'}, {'key3': 'value3', 'key4': 'value4'}]"
      ]
     },
     "execution_count": 137,
     "metadata": {},
     "output_type": "execute_result"
    }
   ],
   "source": [
    "[d10,d11]"
   ]
  },
  {
   "cell_type": "code",
   "execution_count": 138,
   "id": "05f26282-3947-402e-afb8-1426334dec98",
   "metadata": {},
   "outputs": [
    {
     "ename": "TypeError",
     "evalue": "unhashable type: 'dict'",
     "output_type": "error",
     "traceback": [
      "\u001b[0;31m---------------------------------------------------------------------------\u001b[0m",
      "\u001b[0;31mTypeError\u001b[0m                                 Traceback (most recent call last)",
      "Cell \u001b[0;32mIn[138], line 1\u001b[0m\n\u001b[0;32m----> 1\u001b[0m {d10,d11}\n",
      "\u001b[0;31mTypeError\u001b[0m: unhashable type: 'dict'"
     ]
    }
   ],
   "source": [
    "{d10,d11}"
   ]
  },
  {
   "cell_type": "code",
   "execution_count": 139,
   "id": "fe707242-311d-46f2-bc0e-830ffc16449b",
   "metadata": {},
   "outputs": [
    {
     "data": {
      "text/plain": [
       "{'key1': 'value1', 'key2': 'value2', 'key3': 'value3', 'key4': 'value4'}"
      ]
     },
     "execution_count": 139,
     "metadata": {},
     "output_type": "execute_result"
    }
   ],
   "source": [
    "d10.update(d11)\n",
    "d10"
   ]
  },
  {
   "cell_type": "code",
   "execution_count": 140,
   "id": "748cfa5a-d753-451b-971e-968977dd577e",
   "metadata": {},
   "outputs": [
    {
     "data": {
      "text/plain": [
       "{'key3': 'value3', 'key4': 'value4'}"
      ]
     },
     "execution_count": 140,
     "metadata": {},
     "output_type": "execute_result"
    }
   ],
   "source": [
    "d11"
   ]
  },
  {
   "cell_type": "code",
   "execution_count": 141,
   "id": "2d5de17c-b42b-4ad8-be48-8dc90f1a1cc5",
   "metadata": {},
   "outputs": [
    {
     "data": {
      "text/plain": [
       "{'key3': 'value3', 'key4': 'value4', 'key1': 'value1', 'key2': 'value2'}"
      ]
     },
     "execution_count": 141,
     "metadata": {},
     "output_type": "execute_result"
    }
   ],
   "source": [
    "d11.update(d10)\n",
    "d11\n",
    "        "
   ]
  },
  {
   "cell_type": "code",
   "execution_count": 142,
   "id": "8169bfa6-7798-49ad-8c08-8e8fdf516fd7",
   "metadata": {},
   "outputs": [],
   "source": [
    "d11.get(\"monika\")"
   ]
  },
  {
   "cell_type": "code",
   "execution_count": 143,
   "id": "5ed87e3c-3ff8-4f06-b333-4ed97d313074",
   "metadata": {},
   "outputs": [
    {
     "data": {
      "text/plain": [
       "'value1'"
      ]
     },
     "execution_count": 143,
     "metadata": {},
     "output_type": "execute_result"
    }
   ],
   "source": [
    "d11.get(\"key1\")"
   ]
  },
  {
   "cell_type": "code",
   "execution_count": 144,
   "id": "59c49eba-905d-47bf-9369-bc9c60c6b9c3",
   "metadata": {},
   "outputs": [
    {
     "data": {
      "text/plain": [
       "'value1'"
      ]
     },
     "execution_count": 144,
     "metadata": {},
     "output_type": "execute_result"
    }
   ],
   "source": [
    "d11[\"key1\"]"
   ]
  },
  {
   "cell_type": "code",
   "execution_count": 145,
   "id": "02144244-1609-42ec-a0fe-bf30e87060ff",
   "metadata": {},
   "outputs": [
    {
     "ename": "KeyError",
     "evalue": "'monika'",
     "output_type": "error",
     "traceback": [
      "\u001b[0;31m---------------------------------------------------------------------------\u001b[0m",
      "\u001b[0;31mKeyError\u001b[0m                                  Traceback (most recent call last)",
      "Cell \u001b[0;32mIn[145], line 1\u001b[0m\n\u001b[0;32m----> 1\u001b[0m \u001b[43md11\u001b[49m\u001b[43m[\u001b[49m\u001b[38;5;124;43m\"\u001b[39;49m\u001b[38;5;124;43mmonika\u001b[39;49m\u001b[38;5;124;43m\"\u001b[39;49m\u001b[43m]\u001b[49m\n",
      "\u001b[0;31mKeyError\u001b[0m: 'monika'"
     ]
    }
   ],
   "source": [
    "d11[\"monika\"]"
   ]
  },
  {
   "cell_type": "markdown",
   "id": "6db16fdf-a7b3-4250-9a75-23ffe5f838a7",
   "metadata": {},
   "source": [
    " Dictionary Comprehensions\n"
   ]
  },
  {
   "cell_type": "code",
   "execution_count": 147,
   "id": "9eb68a4a-d7a1-4ec1-8065-8528ad9e9b5c",
   "metadata": {},
   "outputs": [
    {
     "data": {
      "text/plain": [
       "[0, 1, 2, 3, 4, 5, 6, 7, 8, 9, 10]"
      ]
     },
     "execution_count": 147,
     "metadata": {},
     "output_type": "execute_result"
    }
   ],
   "source": [
    "list(range(0,11))"
   ]
  },
  {
   "cell_type": "code",
   "execution_count": 150,
   "id": "2ee0d4e3-bea9-4e8f-8700-0f2b19623a45",
   "metadata": {},
   "outputs": [
    {
     "data": {
      "text/plain": [
       "{0: 0, 1: 1, 2: 4, 3: 9, 4: 16, 5: 25, 6: 36, 7: 49, 8: 64, 9: 81, 10: 100}"
      ]
     },
     "execution_count": 150,
     "metadata": {},
     "output_type": "execute_result"
    }
   ],
   "source": [
    "{ i:i**2 for i in range(0,11)} "
   ]
  },
  {
   "cell_type": "code",
   "execution_count": 152,
   "id": "3617916f-e56f-4ed5-b141-792ae29e982e",
   "metadata": {},
   "outputs": [
    {
     "data": {
      "text/plain": [
       "{0: 10, 1: 11, 2: 12, 3: 13, 4: 14, 5: 15, 6: 16, 7: 17, 8: 18, 9: 19, 10: 20}"
      ]
     },
     "execution_count": 152,
     "metadata": {},
     "output_type": "execute_result"
    }
   ],
   "source": [
    "{i:i+10 for i in range(0,11)}"
   ]
  },
  {
   "cell_type": "code",
   "execution_count": 169,
   "id": "78f8ecfd-8a13-47f1-867c-da39b0f0433f",
   "metadata": {},
   "outputs": [],
   "source": [
    "import math\n",
    "d20 = {i :math.log(i)  for i in range(1,11)}"
   ]
  },
  {
   "cell_type": "code",
   "execution_count": 158,
   "id": "06f950b7-1b23-4ec0-be8a-590ff6791229",
   "metadata": {},
   "outputs": [
    {
     "data": {
      "text/plain": [
       "{'batch_name': ['Data Science Master', 'Web dev', 'Jds'],\n",
       " 'Start_Date': (28, 14, 19),\n",
       " 'mentor_name': {'Anurag', 'Haider', 'Hitesh', 'Krish Naik', 'Sudhanshu'},\n",
       " 'name': 'monika'}"
      ]
     },
     "execution_count": 158,
     "metadata": {},
     "output_type": "execute_result"
    }
   ],
   "source": [
    "d9\n"
   ]
  },
  {
   "cell_type": "code",
   "execution_count": 159,
   "id": "d4dff776-effa-455a-9206-574f959ed96d",
   "metadata": {},
   "outputs": [
    {
     "data": {
      "text/plain": [
       "True"
      ]
     },
     "execution_count": 159,
     "metadata": {},
     "output_type": "execute_result"
    }
   ],
   "source": [
    "'batch_name' in d9"
   ]
  },
  {
   "cell_type": "code",
   "execution_count": 160,
   "id": "9f92b080-a07b-4fce-8c5d-dfe73abe766e",
   "metadata": {},
   "outputs": [
    {
     "data": {
      "text/plain": [
       "{'name': 'Monika', 'email_id': 'tannwar@gamil.com', 'number': 1234567890}"
      ]
     },
     "execution_count": 160,
     "metadata": {},
     "output_type": "execute_result"
    }
   ],
   "source": [
    "d"
   ]
  },
  {
   "cell_type": "code",
   "execution_count": 170,
   "id": "31f43592-ecb5-40ae-96eb-4f2c778c2eed",
   "metadata": {},
   "outputs": [
    {
     "data": {
      "text/plain": [
       "{1: 0.0,\n",
       " 2: 0.6931471805599453,\n",
       " 3: 1.0986122886681098,\n",
       " 4: 1.3862943611198906,\n",
       " 5: 1.6094379124341003,\n",
       " 6: 1.791759469228055,\n",
       " 7: 1.9459101490553132,\n",
       " 8: 2.0794415416798357,\n",
       " 9: 2.1972245773362196,\n",
       " 10: 2.302585092994046}"
      ]
     },
     "execution_count": 170,
     "metadata": {},
     "output_type": "execute_result"
    }
   ],
   "source": [
    "d20"
   ]
  },
  {
   "cell_type": "code",
   "execution_count": 171,
   "id": "838e6d07-7ca8-4eb9-bf6e-1d6aca9ec335",
   "metadata": {},
   "outputs": [
    {
     "data": {
      "text/plain": [
       "dict_keys([1, 2, 3, 4, 5, 6, 7, 8, 9, 10])"
      ]
     },
     "execution_count": 171,
     "metadata": {},
     "output_type": "execute_result"
    }
   ],
   "source": [
    "d20.keys()"
   ]
  },
  {
   "cell_type": "code",
   "execution_count": 181,
   "id": "a46b9708-6e39-4024-8a16-0c4ee965d50a",
   "metadata": {},
   "outputs": [
    {
     "name": "stdout",
     "output_type": "stream",
     "text": [
      "0.6931471805599453\n",
      "1.3862943611198906\n",
      "1.791759469228055\n",
      "2.0794415416798357\n",
      "2.302585092994046\n"
     ]
    }
   ],
   "source": [
    "for i in d20.keys():\n",
    "    if i % 2==0:\n",
    "        print(d20[i])"
   ]
  },
  {
   "cell_type": "code",
   "execution_count": null,
   "id": "4cf44462-b0c8-4fb7-ad23-e269fd1b7357",
   "metadata": {},
   "outputs": [],
   "source": []
  },
  {
   "cell_type": "code",
   "execution_count": null,
   "id": "0f7f0887-c3bc-4fd0-b9bb-fc5f48ed9c5a",
   "metadata": {},
   "outputs": [],
   "source": []
  },
  {
   "cell_type": "code",
   "execution_count": null,
   "id": "21f1287e-9d6c-4295-8cd2-29c1aeb640db",
   "metadata": {},
   "outputs": [],
   "source": []
  },
  {
   "cell_type": "code",
   "execution_count": null,
   "id": "150f00bc-c05d-471a-a5ee-1c232f715aea",
   "metadata": {},
   "outputs": [],
   "source": []
  }
 ],
 "metadata": {
  "kernelspec": {
   "display_name": "Python 3 (ipykernel)",
   "language": "python",
   "name": "python3"
  },
  "language_info": {
   "codemirror_mode": {
    "name": "ipython",
    "version": 3
   },
   "file_extension": ".py",
   "mimetype": "text/x-python",
   "name": "python",
   "nbconvert_exporter": "python",
   "pygments_lexer": "ipython3",
   "version": "3.10.8"
  }
 },
 "nbformat": 4,
 "nbformat_minor": 5
}
