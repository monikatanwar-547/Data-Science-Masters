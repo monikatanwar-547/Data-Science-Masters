{
 "cells": [
  {
   "cell_type": "markdown",
   "id": "37048bde-5b55-424a-97be-c0975077455b",
   "metadata": {},
   "source": [
    "### Polymorphism"
   ]
  },
  {
   "cell_type": "code",
   "execution_count": 81,
   "id": "71c58b93-436b-44d0-81a0-60114879a909",
   "metadata": {},
   "outputs": [],
   "source": [
    "def test(a,b):\n",
    "    return (a+b)\n",
    "    "
   ]
  },
  {
   "cell_type": "code",
   "execution_count": 82,
   "id": "b2789146-495f-4fc3-963a-8f90c168e6f3",
   "metadata": {},
   "outputs": [
    {
     "data": {
      "text/plain": [
       "7"
      ]
     },
     "execution_count": 82,
     "metadata": {},
     "output_type": "execute_result"
    }
   ],
   "source": [
    "test(2,5)"
   ]
  },
  {
   "cell_type": "code",
   "execution_count": 83,
   "id": "932da9b6-ee2c-42b6-8544-d87dbf9dbd34",
   "metadata": {},
   "outputs": [
    {
     "data": {
      "text/plain": [
       "5"
      ]
     },
     "execution_count": 83,
     "metadata": {},
     "output_type": "execute_result"
    }
   ],
   "source": [
    "test(2,3)"
   ]
  },
  {
   "cell_type": "code",
   "execution_count": 84,
   "id": "bc528c8a-6eda-40bb-a311-ccab897a88f9",
   "metadata": {},
   "outputs": [
    {
     "data": {
      "text/plain": [
       "'Monika Radhika'"
      ]
     },
     "execution_count": 84,
     "metadata": {},
     "output_type": "execute_result"
    }
   ],
   "source": [
    "test(\"Monika \",\"Radhika\")"
   ]
  },
  {
   "cell_type": "code",
   "execution_count": 85,
   "id": "77a8c2eb-e317-4543-af18-b2b91fccebc5",
   "metadata": {},
   "outputs": [],
   "source": [
    "def test(a,b):\n",
    "    print (a+b)"
   ]
  },
  {
   "cell_type": "code",
   "execution_count": 86,
   "id": "fd2b1161-caa3-4dd6-8956-3dfee0e3d1cd",
   "metadata": {},
   "outputs": [
    {
     "name": "stdout",
     "output_type": "stream",
     "text": [
      "3\n"
     ]
    }
   ],
   "source": [
    "test(1,2)"
   ]
  },
  {
   "cell_type": "code",
   "execution_count": 87,
   "id": "1b97d670-36be-4787-bfe1-f8ed6ac8ac50",
   "metadata": {},
   "outputs": [
    {
     "name": "stdout",
     "output_type": "stream",
     "text": [
      "Monika Radhika\n"
     ]
    }
   ],
   "source": [
    "test(\"Monika \",\"Radhika\")"
   ]
  },
  {
   "cell_type": "code",
   "execution_count": 88,
   "id": "79990730-1a3e-4789-a379-99f823c6637f",
   "metadata": {},
   "outputs": [
    {
     "name": "stdout",
     "output_type": "stream",
     "text": [
      "[1, 2, 3, 4, 5, 7, 5, 9, 6, 2]\n"
     ]
    }
   ],
   "source": [
    "test([1,2,3,4,5],[7,5,9,6,2])"
   ]
  },
  {
   "cell_type": "code",
   "execution_count": 89,
   "id": "2bab1513-ad90-4b35-bea9-1bc66e1875b9",
   "metadata": {},
   "outputs": [],
   "source": [
    "class data_science:\n",
    "    def syllabus(self):\n",
    "        print(\"this is my method for data sceince syllabus\")"
   ]
  },
  {
   "cell_type": "code",
   "execution_count": 90,
   "id": "f42c2e9c-3ddb-4969-900d-c8fcde0c8d34",
   "metadata": {},
   "outputs": [],
   "source": [
    "class web_dev:\n",
    "    def syllabus(self):\n",
    "        print(\"This is my method for web dev\")\n",
    "    "
   ]
  },
  {
   "cell_type": "code",
   "execution_count": 91,
   "id": "7fdd9168-2230-409c-bfa1-78191f8ddb71",
   "metadata": {},
   "outputs": [],
   "source": [
    "def  class_parcel(class_object):\n",
    "    for i in class_object:\n",
    "        i.syllabus()"
   ]
  },
  {
   "cell_type": "code",
   "execution_count": 92,
   "id": "cbac9ce3-f5a7-4012-b1b2-0d1c515b035f",
   "metadata": {},
   "outputs": [],
   "source": [
    "obj_data_science=data_science()"
   ]
  },
  {
   "cell_type": "code",
   "execution_count": 93,
   "id": "55b96dc6-7384-428b-a482-d399495c2ced",
   "metadata": {},
   "outputs": [],
   "source": [
    "obj_web_dev=web_dev()"
   ]
  },
  {
   "cell_type": "code",
   "execution_count": 94,
   "id": "2b423d52-bb72-4274-a367-cef256906050",
   "metadata": {},
   "outputs": [],
   "source": [
    "class_object=[obj_data_science,obj_web_dev]"
   ]
  },
  {
   "cell_type": "code",
   "execution_count": 95,
   "id": "fa466f71-6d72-4f3e-a561-f51c70f78cdb",
   "metadata": {},
   "outputs": [
    {
     "name": "stdout",
     "output_type": "stream",
     "text": [
      "this is my method for data sceince syllabus\n",
      "This is my method for web dev\n"
     ]
    }
   ],
   "source": [
    "class_parcel(class_object)"
   ]
  },
  {
   "cell_type": "code",
   "execution_count": null,
   "id": "16749711-1422-47a8-b403-c0c16c38b088",
   "metadata": {},
   "outputs": [],
   "source": []
  },
  {
   "cell_type": "markdown",
   "id": "e6aed24e-c1ed-449a-b671-b201da109215",
   "metadata": {},
   "source": [
    "## Encapsulation"
   ]
  },
  {
   "cell_type": "code",
   "execution_count": 96,
   "id": "b206326a-d832-4ded-82de-8b59d3f112f9",
   "metadata": {},
   "outputs": [],
   "source": [
    "class test():\n",
    "    def __init__(self,a,b):\n",
    "        self.c=a\n",
    "        self.d=b"
   ]
  },
  {
   "cell_type": "code",
   "execution_count": 97,
   "id": "9b55073a-d22c-427d-99fb-8303fe3a59a2",
   "metadata": {},
   "outputs": [],
   "source": [
    "t=test(2,3)"
   ]
  },
  {
   "cell_type": "code",
   "execution_count": 98,
   "id": "8f1f3fc5-e11c-4e20-a3cc-97e756d21995",
   "metadata": {},
   "outputs": [
    {
     "data": {
      "text/plain": [
       "2"
      ]
     },
     "execution_count": 98,
     "metadata": {},
     "output_type": "execute_result"
    }
   ],
   "source": [
    "t.c"
   ]
  },
  {
   "cell_type": "code",
   "execution_count": null,
   "id": "fc3b0d6c-0ce4-4fc7-af1e-50fea5faabd8",
   "metadata": {},
   "outputs": [],
   "source": []
  },
  {
   "cell_type": "code",
   "execution_count": 99,
   "id": "24cc1376-615f-4758-a39b-bdf560e0cf68",
   "metadata": {},
   "outputs": [
    {
     "data": {
      "text/plain": [
       "3"
      ]
     },
     "execution_count": 99,
     "metadata": {},
     "output_type": "execute_result"
    }
   ],
   "source": [
    "t.d"
   ]
  },
  {
   "cell_type": "code",
   "execution_count": 100,
   "id": "541109b9-a161-4034-b677-15e4ee018832",
   "metadata": {},
   "outputs": [],
   "source": [
    "class test():\n",
    "    def __init__(self,a,b):\n",
    "        self.c=a\n",
    "        self.d=b\n",
    "    def result(self):\n",
    "        return self.c**2 ,self.d"
   ]
  },
  {
   "cell_type": "code",
   "execution_count": 101,
   "id": "466fbe3d-156a-4d8f-ab61-dd77ee8ea5bd",
   "metadata": {},
   "outputs": [],
   "source": [
    "t=test(3,6)"
   ]
  },
  {
   "cell_type": "code",
   "execution_count": 102,
   "id": "32f24365-8492-4f65-a04e-3cf13d3dfd60",
   "metadata": {},
   "outputs": [
    {
     "data": {
      "text/plain": [
       "(9, 6)"
      ]
     },
     "execution_count": 102,
     "metadata": {},
     "output_type": "execute_result"
    }
   ],
   "source": [
    "t.result()"
   ]
  },
  {
   "cell_type": "code",
   "execution_count": 103,
   "id": "94f31020-82d1-410f-ba3c-174f8e78c702",
   "metadata": {},
   "outputs": [
    {
     "data": {
      "text/plain": [
       "3"
      ]
     },
     "execution_count": 103,
     "metadata": {},
     "output_type": "execute_result"
    }
   ],
   "source": [
    "t.c"
   ]
  },
  {
   "cell_type": "code",
   "execution_count": 104,
   "id": "c2b16460-0f83-4869-8ad5-d2af384e37b2",
   "metadata": {},
   "outputs": [],
   "source": [
    "t.c=32\n"
   ]
  },
  {
   "cell_type": "code",
   "execution_count": 105,
   "id": "9fa808cf-5c11-4d12-a580-20af349d7e60",
   "metadata": {},
   "outputs": [
    {
     "data": {
      "text/plain": [
       "32"
      ]
     },
     "execution_count": 105,
     "metadata": {},
     "output_type": "execute_result"
    }
   ],
   "source": [
    "t.c"
   ]
  },
  {
   "cell_type": "code",
   "execution_count": 127,
   "id": "8eb4d09b-a267-4f2e-bdd9-9a20fb20c7e6",
   "metadata": {},
   "outputs": [],
   "source": [
    "class car:\n",
    "    def __init__(self,year,make,model,speed):\n",
    "        self.__year=year\n",
    "        self.__make=make\n",
    "        self.__model=model\n",
    "        self.__speed=0\n",
    "    def set_speed(self,speed):\n",
    "         self.__speed=0 if speed < 0 else speed\n",
    "        \n",
    "    def get_speed(self):\n",
    "        return self.__speed"
   ]
  },
  {
   "cell_type": "code",
   "execution_count": 120,
   "id": "7ede6c5d-a8bb-491a-a4e7-e4d0edff5243",
   "metadata": {},
   "outputs": [],
   "source": [
    "obj_car=car(2021,\"toyota\",\"Innova\",12)"
   ]
  },
  {
   "cell_type": "code",
   "execution_count": 113,
   "id": "c531a728-d1ab-4bff-b3ef-f6ff4f9100bd",
   "metadata": {},
   "outputs": [
    {
     "ename": "TypeError",
     "evalue": "car.set_speed() missing 1 required positional argument: 'speed'",
     "output_type": "error",
     "traceback": [
      "\u001b[0;31m---------------------------------------------------------------------------\u001b[0m",
      "\u001b[0;31mTypeError\u001b[0m                                 Traceback (most recent call last)",
      "Cell \u001b[0;32mIn[113], line 1\u001b[0m\n\u001b[0;32m----> 1\u001b[0m \u001b[43mobj_car\u001b[49m\u001b[38;5;241;43m.\u001b[39;49m\u001b[43mset_speed\u001b[49m\u001b[43m(\u001b[49m\u001b[43m)\u001b[49m\n",
      "\u001b[0;31mTypeError\u001b[0m: car.set_speed() missing 1 required positional argument: 'speed'"
     ]
    }
   ],
   "source": [
    "obj_car.set_speed()"
   ]
  },
  {
   "cell_type": "code",
   "execution_count": null,
   "id": "42e85358-a5f7-41b2-9068-fd38528dd6be",
   "metadata": {},
   "outputs": [],
   "source": [
    "obj_car.set_speed(-26)"
   ]
  },
  {
   "cell_type": "code",
   "execution_count": 116,
   "id": "7fb8f829-7ddb-4b8e-8a06-89d30ae39d9a",
   "metadata": {},
   "outputs": [],
   "source": [
    "obj_car.set_speed(55)"
   ]
  },
  {
   "cell_type": "code",
   "execution_count": 118,
   "id": "02e669a2-12c3-450c-913f-18876a91a5be",
   "metadata": {},
   "outputs": [
    {
     "data": {
      "text/plain": [
       "55"
      ]
     },
     "execution_count": 118,
     "metadata": {},
     "output_type": "execute_result"
    }
   ],
   "source": [
    "obj_car._car__speed"
   ]
  },
  {
   "cell_type": "code",
   "execution_count": 119,
   "id": "ee196b15-13d0-475e-9c06-fe2fb8b871c8",
   "metadata": {},
   "outputs": [
    {
     "data": {
      "text/plain": [
       "55"
      ]
     },
     "execution_count": 119,
     "metadata": {},
     "output_type": "execute_result"
    }
   ],
   "source": [
    "obj_car.get_speed()"
   ]
  },
  {
   "cell_type": "code",
   "execution_count": 124,
   "id": "4b79c7e9-e46a-45af-90fc-c76b301ab07b",
   "metadata": {},
   "outputs": [
    {
     "data": {
      "text/plain": [
       "2021"
      ]
     },
     "execution_count": 124,
     "metadata": {},
     "output_type": "execute_result"
    }
   ],
   "source": [
    "obj_car._car__year"
   ]
  },
  {
   "cell_type": "code",
   "execution_count": 136,
   "id": "8d6c9b0a-b9a3-4765-991b-406c434b8f41",
   "metadata": {},
   "outputs": [],
   "source": [
    "class bank_account:\n",
    "    def __init__(self,balance):\n",
    "        self.__balance=balance\n",
    "    def deposit(self,amount):\n",
    "        self.__balance=self.__balance + amount\n",
    "        \n",
    "    def withdraw(self,amount):\n",
    "        if self.__balance>=amount:\n",
    "            self.__balance=self.__balance - amount\n",
    "            return  True\n",
    "        else : \n",
    "             return False\n",
    "    def get_balance(self):\n",
    "        return self.__balance\n",
    "        "
   ]
  },
  {
   "cell_type": "code",
   "execution_count": 137,
   "id": "08dde1b2-2a61-4c0c-b27d-335b85338ffe",
   "metadata": {},
   "outputs": [],
   "source": [
    "obj_bank_account=bank_account(1000)"
   ]
  },
  {
   "cell_type": "code",
   "execution_count": 138,
   "id": "2a05c5a5-e106-486f-a952-b252f58913cd",
   "metadata": {},
   "outputs": [
    {
     "data": {
      "text/plain": [
       "1000"
      ]
     },
     "execution_count": 138,
     "metadata": {},
     "output_type": "execute_result"
    }
   ],
   "source": [
    "obj_bank_account.get_balance()"
   ]
  },
  {
   "cell_type": "code",
   "execution_count": 139,
   "id": "ce3295a0-d52b-4285-a787-61523cb57851",
   "metadata": {},
   "outputs": [],
   "source": [
    "obj_bank_account.deposit(6000)"
   ]
  },
  {
   "cell_type": "code",
   "execution_count": 140,
   "id": "3190a0f8-23dc-45c0-9de0-8cd21659616f",
   "metadata": {},
   "outputs": [
    {
     "data": {
      "text/plain": [
       "7000"
      ]
     },
     "execution_count": 140,
     "metadata": {},
     "output_type": "execute_result"
    }
   ],
   "source": [
    "obj_bank_account.get_balance()"
   ]
  },
  {
   "cell_type": "code",
   "execution_count": 141,
   "id": "115cca75-d8c1-419c-bf66-4d4a3d2b78b2",
   "metadata": {},
   "outputs": [
    {
     "data": {
      "text/plain": [
       "False"
      ]
     },
     "execution_count": 141,
     "metadata": {},
     "output_type": "execute_result"
    }
   ],
   "source": [
    "obj_bank_account.withdraw(9000)"
   ]
  },
  {
   "cell_type": "code",
   "execution_count": 142,
   "id": "83d0b3c6-d21f-4b94-b3c3-c46271fb191e",
   "metadata": {},
   "outputs": [
    {
     "data": {
      "text/plain": [
       "True"
      ]
     },
     "execution_count": 142,
     "metadata": {},
     "output_type": "execute_result"
    }
   ],
   "source": [
    "obj_bank_account.withdraw(2000)"
   ]
  },
  {
   "cell_type": "code",
   "execution_count": 143,
   "id": "a8a908bb-8d10-4f4d-bb91-1c6ba7056eef",
   "metadata": {},
   "outputs": [
    {
     "data": {
      "text/plain": [
       "5000"
      ]
     },
     "execution_count": 143,
     "metadata": {},
     "output_type": "execute_result"
    }
   ],
   "source": [
    "obj_bank_account.get_balance()"
   ]
  },
  {
   "cell_type": "code",
   "execution_count": null,
   "id": "43a01a83-fefe-4749-8ccd-751b54fb3d6c",
   "metadata": {},
   "outputs": [],
   "source": []
  },
  {
   "cell_type": "markdown",
   "id": "b0446a71-68be-42b9-ba6e-10d58bf6c869",
   "metadata": {},
   "source": [
    "### Inheritance "
   ]
  },
  {
   "cell_type": "code",
   "execution_count": null,
   "id": "de0f74b6-9779-41ee-bb2e-5936223ff66f",
   "metadata": {},
   "outputs": [],
   "source": [
    "multilabed,multiple classes"
   ]
  },
  {
   "cell_type": "code",
   "execution_count": 1,
   "id": "22ed3697-f6d9-4ae2-b856-e7001907eb3d",
   "metadata": {},
   "outputs": [],
   "source": [
    "class parent:\n",
    "    \n",
    "    def test_parent(self):\n",
    "        print(\"This is my parent class\")"
   ]
  },
  {
   "cell_type": "code",
   "execution_count": 4,
   "id": "7db2c8fa-1d13-4c4d-9371-a1609bce9e8b",
   "metadata": {},
   "outputs": [],
   "source": [
    "class child(parent):\n",
    "    pass"
   ]
  },
  {
   "cell_type": "code",
   "execution_count": 5,
   "id": "74901a06-7a04-4ca9-9d35-036056aab187",
   "metadata": {},
   "outputs": [],
   "source": [
    "obj_child=child()"
   ]
  },
  {
   "cell_type": "code",
   "execution_count": 10,
   "id": "125ac4e8-1bf0-4e43-9afd-31be09eaff3f",
   "metadata": {},
   "outputs": [
    {
     "name": "stdout",
     "output_type": "stream",
     "text": [
      "This is my parent class\n"
     ]
    }
   ],
   "source": [
    "obj_child.test_parent()"
   ]
  },
  {
   "cell_type": "code",
   "execution_count": 11,
   "id": "f9184daa-f86f-4961-b469-9a5277ea22ea",
   "metadata": {},
   "outputs": [],
   "source": [
    "class class1:\n",
    "    def test_class1(self):\n",
    "        print(\"this is my class1\")"
   ]
  },
  {
   "cell_type": "code",
   "execution_count": 12,
   "id": "4b05ec2a-acf9-41d5-a133-5c7435928e0e",
   "metadata": {},
   "outputs": [],
   "source": [
    "class class2(class1):\n",
    "    def test_class2(self):\n",
    "        print(\"this is my class2\")"
   ]
  },
  {
   "cell_type": "code",
   "execution_count": 13,
   "id": "8e18c708-da66-4a2d-aaed-6edf747ecd93",
   "metadata": {},
   "outputs": [],
   "source": [
    "class class3(class2):\n",
    "    def tese_class3(self):\n",
    "        print(\"this is my class3\")"
   ]
  },
  {
   "cell_type": "code",
   "execution_count": 17,
   "id": "388a8c92-0f59-4a03-b8f3-f2236534759d",
   "metadata": {},
   "outputs": [],
   "source": [
    "obj_class3=class3()"
   ]
  },
  {
   "cell_type": "code",
   "execution_count": 18,
   "id": "34652967-3da8-4105-ae4c-e02401c1b65a",
   "metadata": {},
   "outputs": [
    {
     "name": "stdout",
     "output_type": "stream",
     "text": [
      "this is my class1\n"
     ]
    }
   ],
   "source": [
    "obj_class3.test_class1()"
   ]
  },
  {
   "cell_type": "code",
   "execution_count": 19,
   "id": "3ee015df-693e-4fb9-b6ea-8b3ec9294db6",
   "metadata": {},
   "outputs": [
    {
     "name": "stdout",
     "output_type": "stream",
     "text": [
      "this is my class2\n"
     ]
    }
   ],
   "source": [
    "obj_class3.test_class2()"
   ]
  },
  {
   "cell_type": "code",
   "execution_count": 20,
   "id": "f3c4e052-2fef-434d-be71-fc3b0d49517a",
   "metadata": {},
   "outputs": [
    {
     "name": "stdout",
     "output_type": "stream",
     "text": [
      "this is my class3\n"
     ]
    }
   ],
   "source": [
    "obj_class3.tese_class3()"
   ]
  },
  {
   "cell_type": "code",
   "execution_count": 25,
   "id": "a3c6ec7f-65fe-4731-95cf-42cb38958bb1",
   "metadata": {},
   "outputs": [],
   "source": [
    "class class1:\n",
    "    def test_class1(self):\n",
    "        print(\"this is my class 1\")"
   ]
  },
  {
   "cell_type": "code",
   "execution_count": 30,
   "id": "e0bb600c-a209-4d8b-9931-252738b44c06",
   "metadata": {},
   "outputs": [],
   "source": [
    "class class2:\n",
    "    def test_class2(self):\n",
    "        print(\"this is my class 2\")"
   ]
  },
  {
   "cell_type": "code",
   "execution_count": 31,
   "id": "4544be3d-8ee0-4697-901a-6f9945d89c28",
   "metadata": {},
   "outputs": [],
   "source": [
    "class class3(class1,class2):\n",
    "    pass"
   ]
  },
  {
   "cell_type": "code",
   "execution_count": 32,
   "id": "04bd0357-92ba-492d-b0e7-59e316ac3b52",
   "metadata": {},
   "outputs": [],
   "source": [
    "obj_class3=class3()"
   ]
  },
  {
   "cell_type": "code",
   "execution_count": 33,
   "id": "87edf765-57c7-43a5-a8d9-f976109dc7fe",
   "metadata": {},
   "outputs": [
    {
     "name": "stdout",
     "output_type": "stream",
     "text": [
      "this is my class 1\n"
     ]
    }
   ],
   "source": [
    "obj_class3.test_class1()"
   ]
  },
  {
   "cell_type": "code",
   "execution_count": 34,
   "id": "a5275d97-5828-44cb-b9c4-da1fab74b8b4",
   "metadata": {},
   "outputs": [
    {
     "name": "stdout",
     "output_type": "stream",
     "text": [
      "this is my class 2\n"
     ]
    }
   ],
   "source": [
    "obj_class3.test_class2()"
   ]
  },
  {
   "cell_type": "code",
   "execution_count": null,
   "id": "784a8404-7e0a-4b23-b9fb-ef8ec2e5ebdb",
   "metadata": {},
   "outputs": [],
   "source": []
  },
  {
   "cell_type": "markdown",
   "id": "fd20b506-a274-4bd4-ae83-e097161dabc6",
   "metadata": {},
   "source": [
    "### Abstraction "
   ]
  },
  {
   "cell_type": "code",
   "execution_count": null,
   "id": "95ffcc55-e71f-49f7-8d83-55d7db595a1c",
   "metadata": {},
   "outputs": [],
   "source": [
    "outline,skeleton,blueprint"
   ]
  },
  {
   "cell_type": "code",
   "execution_count": 47,
   "id": "8ee84376-f6f5-4555-8efb-45605266b141",
   "metadata": {},
   "outputs": [],
   "source": [
    "import abc\n",
    "\n",
    "class pwskills:\n",
    "    \n",
    "    @abc.abstractmethod\n",
    "    def student_details():\n",
    "        pass\n",
    "    \n",
    "    @abc.abstractmethod\n",
    "    def student_assignment():\n",
    "        pass\n",
    "    \n",
    "    @abc.abstractmethod\n",
    "    def student_marks():\n",
    "        pass\n",
    "    "
   ]
  },
  {
   "cell_type": "code",
   "execution_count": 48,
   "id": "3ba2c553-9293-4395-90b9-db134bcec0df",
   "metadata": {},
   "outputs": [],
   "source": [
    "class data_science(pwskills):\n",
    "    def student_details(self):\n",
    "        return \"it will try to return a details of data science masters\"\n",
    "    def student_assignment(self):\n",
    "        return \"it will try to return a details of data science masters\""
   ]
  },
  {
   "cell_type": "code",
   "execution_count": 49,
   "id": "4784c1e3-72ea-41e3-b18b-269c6c3d852b",
   "metadata": {},
   "outputs": [],
   "source": [
    "class web_dev(pwskills):\n",
    "    def student_details(self):\n",
    "        return \"it will try to return a details of web_dev\"\n",
    "    def student_assignment(self):\n",
    "        return \"it will try to return a details of data web_dev\""
   ]
  },
  {
   "cell_type": "code",
   "execution_count": 50,
   "id": "263040a0-eceb-47ab-b0f0-f4a5c0de0114",
   "metadata": {},
   "outputs": [],
   "source": [
    "ds=data_science()"
   ]
  },
  {
   "cell_type": "code",
   "execution_count": 51,
   "id": "23018e91-b211-488c-81b4-90241439cf4d",
   "metadata": {},
   "outputs": [
    {
     "data": {
      "text/plain": [
       "'it will try to return a details of data science masters'"
      ]
     },
     "execution_count": 51,
     "metadata": {},
     "output_type": "execute_result"
    }
   ],
   "source": [
    "ds.student_details()"
   ]
  },
  {
   "cell_type": "code",
   "execution_count": 52,
   "id": "7e2a30ad-3fb7-459d-9002-8814f273f300",
   "metadata": {},
   "outputs": [],
   "source": [
    "wb=web_dev()"
   ]
  },
  {
   "cell_type": "code",
   "execution_count": 53,
   "id": "b7d596c9-12fc-413a-8b9c-135e8d2e1a29",
   "metadata": {},
   "outputs": [
    {
     "data": {
      "text/plain": [
       "'it will try to return a details of web_dev'"
      ]
     },
     "execution_count": 53,
     "metadata": {},
     "output_type": "execute_result"
    }
   ],
   "source": [
    "wb.student_details()"
   ]
  },
  {
   "cell_type": "code",
   "execution_count": null,
   "id": "206dd009-1bcb-48ca-acf0-077f64b95dac",
   "metadata": {},
   "outputs": [],
   "source": []
  },
  {
   "cell_type": "code",
   "execution_count": null,
   "id": "9e844807-1d97-4511-9615-c7fcba473492",
   "metadata": {},
   "outputs": [],
   "source": []
  },
  {
   "cell_type": "code",
   "execution_count": null,
   "id": "7bad6e77-6fda-4873-9b3e-4ecfb86f7a7c",
   "metadata": {},
   "outputs": [],
   "source": []
  },
  {
   "cell_type": "code",
   "execution_count": null,
   "id": "155f5f36-cf36-4fe7-9b30-6f9d1e206b5c",
   "metadata": {},
   "outputs": [],
   "source": []
  },
  {
   "cell_type": "code",
   "execution_count": null,
   "id": "a60cc654-e4c9-493d-8bdb-559fbc4e4fb2",
   "metadata": {},
   "outputs": [],
   "source": []
  },
  {
   "cell_type": "code",
   "execution_count": null,
   "id": "bb5d8299-d581-460f-b678-c3a59a69ae8e",
   "metadata": {},
   "outputs": [],
   "source": []
  },
  {
   "cell_type": "code",
   "execution_count": null,
   "id": "4ce36963-75a0-4f35-9873-215e9f253808",
   "metadata": {},
   "outputs": [],
   "source": []
  }
 ],
 "metadata": {
  "kernelspec": {
   "display_name": "Python 3 (ipykernel)",
   "language": "python",
   "name": "python3"
  },
  "language_info": {
   "codemirror_mode": {
    "name": "ipython",
    "version": 3
   },
   "file_extension": ".py",
   "mimetype": "text/x-python",
   "name": "python",
   "nbconvert_exporter": "python",
   "pygments_lexer": "ipython3",
   "version": "3.10.8"
  }
 },
 "nbformat": 4,
 "nbformat_minor": 5
}
